{
 "cells": [
  {
   "cell_type": "markdown",
   "id": "checked-patrick",
   "metadata": {},
   "source": [
    "# Extreme Learning Machine"
   ]
  },
  {
   "cell_type": "markdown",
   "id": "mounted-surname",
   "metadata": {},
   "source": [
    "## Standard Imports"
   ]
  },
  {
   "cell_type": "code",
   "execution_count": 1,
   "id": "exciting-teaching",
   "metadata": {},
   "outputs": [],
   "source": [
    "import numpy as np\n",
    "import pandas as pd\n",
    "import matplotlib.pyplot as plt\n",
    "import seaborn as sns\n",
    "import sklearn as skl\n",
    "%matplotlib inline"
   ]
  },
  {
   "cell_type": "markdown",
   "id": "adapted-event",
   "metadata": {},
   "source": [
    "## EML"
   ]
  },
  {
   "cell_type": "code",
   "execution_count": 2,
   "id": "characteristic-above",
   "metadata": {},
   "outputs": [],
   "source": [
    "class ELM(object):\n",
    "    \n",
    "    def __init__(self, Xtrain, ytrain, Xval, yval, n1):\n",
    "        self.n1     = n1   #First hidden layer neuron quantity\n",
    "        \n",
    "        self.d       = ytrain.values\n",
    "        self.x       = np.insert(Xtrain.values, 0, -1, axis = 1)\n",
    "        self.dval    = yval.values\n",
    "        self.xval    = np.insert(Xval.values, 0, -1, axis = 1)\n",
    "        \n",
    "        self.mse_      = []\n",
    "        self.mse       = pd.DataFrame()\n",
    "        self.mseval_   = []\n",
    "        self.mseval    = pd.DataFrame()\n",
    "        self.minmseval = 100000\n",
    "        \n",
    "        \n",
    "        self.weight1 = np.random.rand(self.n1,self.x.shape[1])  \n",
    "        self.weight2 = np.random.rand(self.d.shape[1],self.n1+1)          #+1 for the w0\n",
    "        \n",
    "        self.Xh = []\n",
    "\n",
    "        \n",
    "        #Activations functions and its derivates\n",
    "    def tanh(self, val):\n",
    "        return np.tanh(val)\n",
    "    \n",
    "    def logistic(self, val):\n",
    "        return (1/(1+np.exp(-val)))\n",
    "    \n",
    "      \n",
    "    #Forward step \n",
    "    def forward(self):        \n",
    "        self.l1 = np.dot(self.xi,self.weight1.T)\n",
    "        self.Y1 = np.insert(self.tanh(self.l1), 0, -1)\n",
    "        self.Y1 = self.Y1.reshape(1,self.Y1.shape[0])\n",
    "        self.l2 = np.dot(self.Y1, self.weight2.T)\n",
    "        self.Y2 = self.tanh(self.l2)\n",
    "        \n",
    "        self.Xh.append(self.Y1[0])\n",
    "        \n",
    "    def PIMP(self):\n",
    "        \n",
    "        self.weight2 = np.dot(np.linalg.pinv(self.Xh), self.d)\n",
    "        self.weight2 = self.weight2.T\n",
    "       \n",
    "         \n",
    "    def predict(self,x,act_func):   \n",
    "        self.pred_x = np.insert(x, 0, -1, axis = 1)\n",
    "        self.pred = []\n",
    "        for xi in self.pred_x:\n",
    "            self.xi = xi\n",
    "            self.forward()\n",
    "            self.pred.append(self.Y2[0])\n",
    "        \n",
    "        if act_func == 'None':\n",
    "            return self.pred\n",
    "        \n",
    "        elif act_func == 'Step':\n",
    "            return self.step(self.pred)\n",
    "        \n",
    "        elif act_func == 'biStep':\n",
    "            return self.biStep(self.pred)\n",
    "    \n",
    "    def validation(self):\n",
    "        self.mseval_ = []\n",
    "        for xi,di in zip(self.xval,self.dval):\n",
    "            self.xi = xi\n",
    "            self.di = di\n",
    "            self.forward()\n",
    "            error = (self.di-self.Y2[0])**2\n",
    "            self.mseval_.append(np.sum(error))   \n",
    "            \n",
    "        self.MSE('val')\n",
    "    \n",
    "    def MSE(self,train_val):\n",
    "        \n",
    "        if train_val == 'train':\n",
    "            error    = np.array(self.mse_)/2\n",
    "            error    = error.mean()\n",
    "            error    = pd.DataFrame([error])\n",
    "            self.mse = pd.concat((self.mse,error))\n",
    "        \n",
    "        elif train_val == 'val':\n",
    "            error       = np.array(self.mseval_)/2\n",
    "            error       = error.mean()\n",
    "            error       = pd.DataFrame([error])\n",
    "            self.mseval = pd.concat((self.mseval,error))\n",
    "    \n",
    "    \n",
    "    def fit(self):\n",
    "        self.mse_    = []\n",
    "        for xi,di in zip(self.x,self.d):\n",
    "            self.xi = xi\n",
    "            self.di = di\n",
    "            self.forward()\n",
    "            \n",
    "        self.PIMP()\n",
    "        error = (self.di-self.Y2[0])**2\n",
    "        self.mse_.append(np.sum(error))\n",
    "                  \n",
    "        self.MSE('train')\n",
    "        self.validation()\n",
    "            \n",
    "    \n",
    "    def step(self, y):\n",
    "        return (pd.DataFrame(y)>=0)*1\n",
    "    \n",
    "    def biStep(self, y):\n",
    "        return ((pd.DataFrame(y)>=0)*1).replace(0,-1)"
   ]
  },
  {
   "cell_type": "markdown",
   "id": "tested-medicine",
   "metadata": {},
   "source": [
    "## IRIS AND WINE"
   ]
  },
  {
   "cell_type": "markdown",
   "id": "working-journalist",
   "metadata": {},
   "source": [
    "### Data loading and normalizing"
   ]
  },
  {
   "cell_type": "code",
   "execution_count": 3,
   "id": "initial-calendar",
   "metadata": {},
   "outputs": [],
   "source": [
    "from sklearn.model_selection import train_test_split"
   ]
  },
  {
   "cell_type": "code",
   "execution_count": 4,
   "id": "radio-behavior",
   "metadata": {},
   "outputs": [],
   "source": [
    "from sklearn.metrics import multilabel_confusion_matrix, confusion_matrix, classification_report"
   ]
  },
  {
   "cell_type": "code",
   "execution_count": 5,
   "id": "other-shark",
   "metadata": {},
   "outputs": [],
   "source": [
    "def norm(x):\n",
    "    xmin = x.min()\n",
    "    xmax = x.max()\n",
    "    x = np.array(x)\n",
    "    x = -1 + (2*((x-xmin)/(xmax-xmin)))\n",
    "    return x"
   ]
  },
  {
   "cell_type": "code",
   "execution_count": 6,
   "id": "distant-prime",
   "metadata": {},
   "outputs": [],
   "source": [
    "from sklearn.datasets import load_iris, load_wine"
   ]
  },
  {
   "cell_type": "code",
   "execution_count": 7,
   "id": "amateur-preliminary",
   "metadata": {},
   "outputs": [],
   "source": [
    "iris = load_iris()\n",
    "wine = load_wine()"
   ]
  },
  {
   "cell_type": "code",
   "execution_count": 8,
   "id": "random-season",
   "metadata": {},
   "outputs": [
    {
     "data": {
      "text/html": [
       "<div>\n",
       "<style scoped>\n",
       "    .dataframe tbody tr th:only-of-type {\n",
       "        vertical-align: middle;\n",
       "    }\n",
       "\n",
       "    .dataframe tbody tr th {\n",
       "        vertical-align: top;\n",
       "    }\n",
       "\n",
       "    .dataframe thead th {\n",
       "        text-align: right;\n",
       "    }\n",
       "</style>\n",
       "<table border=\"1\" class=\"dataframe\">\n",
       "  <thead>\n",
       "    <tr style=\"text-align: right;\">\n",
       "      <th></th>\n",
       "      <th>sepal length (cm)</th>\n",
       "      <th>sepal width (cm)</th>\n",
       "      <th>petal length (cm)</th>\n",
       "      <th>petal width (cm)</th>\n",
       "      <th>setosa</th>\n",
       "      <th>versicolor</th>\n",
       "      <th>virginica</th>\n",
       "    </tr>\n",
       "  </thead>\n",
       "  <tbody>\n",
       "    <tr>\n",
       "      <th>0</th>\n",
       "      <td>5.1</td>\n",
       "      <td>3.5</td>\n",
       "      <td>1.4</td>\n",
       "      <td>0.2</td>\n",
       "      <td>1</td>\n",
       "      <td>-1</td>\n",
       "      <td>-1</td>\n",
       "    </tr>\n",
       "    <tr>\n",
       "      <th>1</th>\n",
       "      <td>4.9</td>\n",
       "      <td>3.0</td>\n",
       "      <td>1.4</td>\n",
       "      <td>0.2</td>\n",
       "      <td>1</td>\n",
       "      <td>-1</td>\n",
       "      <td>-1</td>\n",
       "    </tr>\n",
       "    <tr>\n",
       "      <th>2</th>\n",
       "      <td>4.7</td>\n",
       "      <td>3.2</td>\n",
       "      <td>1.3</td>\n",
       "      <td>0.2</td>\n",
       "      <td>1</td>\n",
       "      <td>-1</td>\n",
       "      <td>-1</td>\n",
       "    </tr>\n",
       "    <tr>\n",
       "      <th>3</th>\n",
       "      <td>4.6</td>\n",
       "      <td>3.1</td>\n",
       "      <td>1.5</td>\n",
       "      <td>0.2</td>\n",
       "      <td>1</td>\n",
       "      <td>-1</td>\n",
       "      <td>-1</td>\n",
       "    </tr>\n",
       "    <tr>\n",
       "      <th>4</th>\n",
       "      <td>5.0</td>\n",
       "      <td>3.6</td>\n",
       "      <td>1.4</td>\n",
       "      <td>0.2</td>\n",
       "      <td>1</td>\n",
       "      <td>-1</td>\n",
       "      <td>-1</td>\n",
       "    </tr>\n",
       "  </tbody>\n",
       "</table>\n",
       "</div>"
      ],
      "text/plain": [
       "   sepal length (cm)  sepal width (cm)  petal length (cm)  petal width (cm)  \\\n",
       "0                5.1               3.5                1.4               0.2   \n",
       "1                4.9               3.0                1.4               0.2   \n",
       "2                4.7               3.2                1.3               0.2   \n",
       "3                4.6               3.1                1.5               0.2   \n",
       "4                5.0               3.6                1.4               0.2   \n",
       "\n",
       "   setosa  versicolor  virginica  \n",
       "0       1          -1         -1  \n",
       "1       1          -1         -1  \n",
       "2       1          -1         -1  \n",
       "3       1          -1         -1  \n",
       "4       1          -1         -1  "
      ]
     },
     "execution_count": 8,
     "metadata": {},
     "output_type": "execute_result"
    }
   ],
   "source": [
    "iris_df = pd.DataFrame(data=iris.data,columns=iris.feature_names)\n",
    "iris_df[iris.target_names] = pd.get_dummies(iris.target).astype(np.int).replace(0,-1)\n",
    "iris_df.head()"
   ]
  },
  {
   "cell_type": "code",
   "execution_count": 9,
   "id": "interesting-survival",
   "metadata": {},
   "outputs": [
    {
     "data": {
      "text/html": [
       "<div>\n",
       "<style scoped>\n",
       "    .dataframe tbody tr th:only-of-type {\n",
       "        vertical-align: middle;\n",
       "    }\n",
       "\n",
       "    .dataframe tbody tr th {\n",
       "        vertical-align: top;\n",
       "    }\n",
       "\n",
       "    .dataframe thead th {\n",
       "        text-align: right;\n",
       "    }\n",
       "</style>\n",
       "<table border=\"1\" class=\"dataframe\">\n",
       "  <thead>\n",
       "    <tr style=\"text-align: right;\">\n",
       "      <th></th>\n",
       "      <th>sepal length (cm)</th>\n",
       "      <th>sepal width (cm)</th>\n",
       "      <th>petal length (cm)</th>\n",
       "      <th>petal width (cm)</th>\n",
       "      <th>setosa</th>\n",
       "      <th>versicolor</th>\n",
       "      <th>virginica</th>\n",
       "    </tr>\n",
       "  </thead>\n",
       "  <tbody>\n",
       "    <tr>\n",
       "      <th>0</th>\n",
       "      <td>-0.555556</td>\n",
       "      <td>0.250000</td>\n",
       "      <td>-0.864407</td>\n",
       "      <td>-0.916667</td>\n",
       "      <td>1</td>\n",
       "      <td>-1</td>\n",
       "      <td>-1</td>\n",
       "    </tr>\n",
       "    <tr>\n",
       "      <th>1</th>\n",
       "      <td>-0.666667</td>\n",
       "      <td>-0.166667</td>\n",
       "      <td>-0.864407</td>\n",
       "      <td>-0.916667</td>\n",
       "      <td>1</td>\n",
       "      <td>-1</td>\n",
       "      <td>-1</td>\n",
       "    </tr>\n",
       "    <tr>\n",
       "      <th>2</th>\n",
       "      <td>-0.777778</td>\n",
       "      <td>0.000000</td>\n",
       "      <td>-0.898305</td>\n",
       "      <td>-0.916667</td>\n",
       "      <td>1</td>\n",
       "      <td>-1</td>\n",
       "      <td>-1</td>\n",
       "    </tr>\n",
       "    <tr>\n",
       "      <th>3</th>\n",
       "      <td>-0.833333</td>\n",
       "      <td>-0.083333</td>\n",
       "      <td>-0.830508</td>\n",
       "      <td>-0.916667</td>\n",
       "      <td>1</td>\n",
       "      <td>-1</td>\n",
       "      <td>-1</td>\n",
       "    </tr>\n",
       "    <tr>\n",
       "      <th>4</th>\n",
       "      <td>-0.611111</td>\n",
       "      <td>0.333333</td>\n",
       "      <td>-0.864407</td>\n",
       "      <td>-0.916667</td>\n",
       "      <td>1</td>\n",
       "      <td>-1</td>\n",
       "      <td>-1</td>\n",
       "    </tr>\n",
       "  </tbody>\n",
       "</table>\n",
       "</div>"
      ],
      "text/plain": [
       "   sepal length (cm)  sepal width (cm)  petal length (cm)  petal width (cm)  \\\n",
       "0          -0.555556          0.250000          -0.864407         -0.916667   \n",
       "1          -0.666667         -0.166667          -0.864407         -0.916667   \n",
       "2          -0.777778          0.000000          -0.898305         -0.916667   \n",
       "3          -0.833333         -0.083333          -0.830508         -0.916667   \n",
       "4          -0.611111          0.333333          -0.864407         -0.916667   \n",
       "\n",
       "   setosa  versicolor  virginica  \n",
       "0       1          -1         -1  \n",
       "1       1          -1         -1  \n",
       "2       1          -1         -1  \n",
       "3       1          -1         -1  \n",
       "4       1          -1         -1  "
      ]
     },
     "execution_count": 9,
     "metadata": {},
     "output_type": "execute_result"
    }
   ],
   "source": [
    "iris_df_norm = pd.DataFrame(data=iris.data,columns=iris.feature_names).apply(norm, axis=0, result_type='broadcast',raw=True)\n",
    "iris_df_norm[iris.target_names] = pd.get_dummies(iris.target).astype(np.int).replace(0,-1)\n",
    "iris_df_norm.head()"
   ]
  },
  {
   "cell_type": "code",
   "execution_count": 10,
   "id": "right-ecology",
   "metadata": {},
   "outputs": [
    {
     "data": {
      "text/html": [
       "<div>\n",
       "<style scoped>\n",
       "    .dataframe tbody tr th:only-of-type {\n",
       "        vertical-align: middle;\n",
       "    }\n",
       "\n",
       "    .dataframe tbody tr th {\n",
       "        vertical-align: top;\n",
       "    }\n",
       "\n",
       "    .dataframe thead th {\n",
       "        text-align: right;\n",
       "    }\n",
       "</style>\n",
       "<table border=\"1\" class=\"dataframe\">\n",
       "  <thead>\n",
       "    <tr style=\"text-align: right;\">\n",
       "      <th></th>\n",
       "      <th>alcohol</th>\n",
       "      <th>malic_acid</th>\n",
       "      <th>ash</th>\n",
       "      <th>alcalinity_of_ash</th>\n",
       "      <th>magnesium</th>\n",
       "      <th>total_phenols</th>\n",
       "      <th>flavanoids</th>\n",
       "      <th>nonflavanoid_phenols</th>\n",
       "      <th>proanthocyanins</th>\n",
       "      <th>color_intensity</th>\n",
       "      <th>hue</th>\n",
       "      <th>od280/od315_of_diluted_wines</th>\n",
       "      <th>proline</th>\n",
       "      <th>class_0</th>\n",
       "      <th>class_1</th>\n",
       "      <th>class_2</th>\n",
       "    </tr>\n",
       "  </thead>\n",
       "  <tbody>\n",
       "    <tr>\n",
       "      <th>0</th>\n",
       "      <td>14.23</td>\n",
       "      <td>1.71</td>\n",
       "      <td>2.43</td>\n",
       "      <td>15.6</td>\n",
       "      <td>127.0</td>\n",
       "      <td>2.80</td>\n",
       "      <td>3.06</td>\n",
       "      <td>0.28</td>\n",
       "      <td>2.29</td>\n",
       "      <td>5.64</td>\n",
       "      <td>1.04</td>\n",
       "      <td>3.92</td>\n",
       "      <td>1065.0</td>\n",
       "      <td>1</td>\n",
       "      <td>-1</td>\n",
       "      <td>-1</td>\n",
       "    </tr>\n",
       "    <tr>\n",
       "      <th>1</th>\n",
       "      <td>13.20</td>\n",
       "      <td>1.78</td>\n",
       "      <td>2.14</td>\n",
       "      <td>11.2</td>\n",
       "      <td>100.0</td>\n",
       "      <td>2.65</td>\n",
       "      <td>2.76</td>\n",
       "      <td>0.26</td>\n",
       "      <td>1.28</td>\n",
       "      <td>4.38</td>\n",
       "      <td>1.05</td>\n",
       "      <td>3.40</td>\n",
       "      <td>1050.0</td>\n",
       "      <td>1</td>\n",
       "      <td>-1</td>\n",
       "      <td>-1</td>\n",
       "    </tr>\n",
       "    <tr>\n",
       "      <th>2</th>\n",
       "      <td>13.16</td>\n",
       "      <td>2.36</td>\n",
       "      <td>2.67</td>\n",
       "      <td>18.6</td>\n",
       "      <td>101.0</td>\n",
       "      <td>2.80</td>\n",
       "      <td>3.24</td>\n",
       "      <td>0.30</td>\n",
       "      <td>2.81</td>\n",
       "      <td>5.68</td>\n",
       "      <td>1.03</td>\n",
       "      <td>3.17</td>\n",
       "      <td>1185.0</td>\n",
       "      <td>1</td>\n",
       "      <td>-1</td>\n",
       "      <td>-1</td>\n",
       "    </tr>\n",
       "    <tr>\n",
       "      <th>3</th>\n",
       "      <td>14.37</td>\n",
       "      <td>1.95</td>\n",
       "      <td>2.50</td>\n",
       "      <td>16.8</td>\n",
       "      <td>113.0</td>\n",
       "      <td>3.85</td>\n",
       "      <td>3.49</td>\n",
       "      <td>0.24</td>\n",
       "      <td>2.18</td>\n",
       "      <td>7.80</td>\n",
       "      <td>0.86</td>\n",
       "      <td>3.45</td>\n",
       "      <td>1480.0</td>\n",
       "      <td>1</td>\n",
       "      <td>-1</td>\n",
       "      <td>-1</td>\n",
       "    </tr>\n",
       "    <tr>\n",
       "      <th>4</th>\n",
       "      <td>13.24</td>\n",
       "      <td>2.59</td>\n",
       "      <td>2.87</td>\n",
       "      <td>21.0</td>\n",
       "      <td>118.0</td>\n",
       "      <td>2.80</td>\n",
       "      <td>2.69</td>\n",
       "      <td>0.39</td>\n",
       "      <td>1.82</td>\n",
       "      <td>4.32</td>\n",
       "      <td>1.04</td>\n",
       "      <td>2.93</td>\n",
       "      <td>735.0</td>\n",
       "      <td>1</td>\n",
       "      <td>-1</td>\n",
       "      <td>-1</td>\n",
       "    </tr>\n",
       "  </tbody>\n",
       "</table>\n",
       "</div>"
      ],
      "text/plain": [
       "   alcohol  malic_acid   ash  alcalinity_of_ash  magnesium  total_phenols  \\\n",
       "0    14.23        1.71  2.43               15.6      127.0           2.80   \n",
       "1    13.20        1.78  2.14               11.2      100.0           2.65   \n",
       "2    13.16        2.36  2.67               18.6      101.0           2.80   \n",
       "3    14.37        1.95  2.50               16.8      113.0           3.85   \n",
       "4    13.24        2.59  2.87               21.0      118.0           2.80   \n",
       "\n",
       "   flavanoids  nonflavanoid_phenols  proanthocyanins  color_intensity   hue  \\\n",
       "0        3.06                  0.28             2.29             5.64  1.04   \n",
       "1        2.76                  0.26             1.28             4.38  1.05   \n",
       "2        3.24                  0.30             2.81             5.68  1.03   \n",
       "3        3.49                  0.24             2.18             7.80  0.86   \n",
       "4        2.69                  0.39             1.82             4.32  1.04   \n",
       "\n",
       "   od280/od315_of_diluted_wines  proline  class_0  class_1  class_2  \n",
       "0                          3.92   1065.0        1       -1       -1  \n",
       "1                          3.40   1050.0        1       -1       -1  \n",
       "2                          3.17   1185.0        1       -1       -1  \n",
       "3                          3.45   1480.0        1       -1       -1  \n",
       "4                          2.93    735.0        1       -1       -1  "
      ]
     },
     "execution_count": 10,
     "metadata": {},
     "output_type": "execute_result"
    }
   ],
   "source": [
    "wine_df = pd.DataFrame(data=wine.data,columns=wine.feature_names)\n",
    "wine_df[wine.target_names] = pd.get_dummies(wine.target).astype(np.int).replace(0,-1)\n",
    "wine_df.head()"
   ]
  },
  {
   "cell_type": "code",
   "execution_count": 11,
   "id": "informative-apparatus",
   "metadata": {},
   "outputs": [
    {
     "data": {
      "text/html": [
       "<div>\n",
       "<style scoped>\n",
       "    .dataframe tbody tr th:only-of-type {\n",
       "        vertical-align: middle;\n",
       "    }\n",
       "\n",
       "    .dataframe tbody tr th {\n",
       "        vertical-align: top;\n",
       "    }\n",
       "\n",
       "    .dataframe thead th {\n",
       "        text-align: right;\n",
       "    }\n",
       "</style>\n",
       "<table border=\"1\" class=\"dataframe\">\n",
       "  <thead>\n",
       "    <tr style=\"text-align: right;\">\n",
       "      <th></th>\n",
       "      <th>alcohol</th>\n",
       "      <th>malic_acid</th>\n",
       "      <th>ash</th>\n",
       "      <th>alcalinity_of_ash</th>\n",
       "      <th>magnesium</th>\n",
       "      <th>total_phenols</th>\n",
       "      <th>flavanoids</th>\n",
       "      <th>nonflavanoid_phenols</th>\n",
       "      <th>proanthocyanins</th>\n",
       "      <th>color_intensity</th>\n",
       "      <th>hue</th>\n",
       "      <th>od280/od315_of_diluted_wines</th>\n",
       "      <th>proline</th>\n",
       "      <th>class_0</th>\n",
       "      <th>class_1</th>\n",
       "      <th>class_2</th>\n",
       "    </tr>\n",
       "  </thead>\n",
       "  <tbody>\n",
       "    <tr>\n",
       "      <th>0</th>\n",
       "      <td>0.684211</td>\n",
       "      <td>-0.616601</td>\n",
       "      <td>0.144385</td>\n",
       "      <td>-0.484536</td>\n",
       "      <td>0.239130</td>\n",
       "      <td>0.255172</td>\n",
       "      <td>0.147679</td>\n",
       "      <td>-0.433962</td>\n",
       "      <td>0.186120</td>\n",
       "      <td>-0.255973</td>\n",
       "      <td>-0.089431</td>\n",
       "      <td>0.941392</td>\n",
       "      <td>0.122682</td>\n",
       "      <td>1</td>\n",
       "      <td>-1</td>\n",
       "      <td>-1</td>\n",
       "    </tr>\n",
       "    <tr>\n",
       "      <th>1</th>\n",
       "      <td>0.142105</td>\n",
       "      <td>-0.588933</td>\n",
       "      <td>-0.165775</td>\n",
       "      <td>-0.938144</td>\n",
       "      <td>-0.347826</td>\n",
       "      <td>0.151724</td>\n",
       "      <td>0.021097</td>\n",
       "      <td>-0.509434</td>\n",
       "      <td>-0.451104</td>\n",
       "      <td>-0.470990</td>\n",
       "      <td>-0.073171</td>\n",
       "      <td>0.560440</td>\n",
       "      <td>0.101284</td>\n",
       "      <td>1</td>\n",
       "      <td>-1</td>\n",
       "      <td>-1</td>\n",
       "    </tr>\n",
       "    <tr>\n",
       "      <th>2</th>\n",
       "      <td>0.121053</td>\n",
       "      <td>-0.359684</td>\n",
       "      <td>0.401070</td>\n",
       "      <td>-0.175258</td>\n",
       "      <td>-0.326087</td>\n",
       "      <td>0.255172</td>\n",
       "      <td>0.223629</td>\n",
       "      <td>-0.358491</td>\n",
       "      <td>0.514196</td>\n",
       "      <td>-0.249147</td>\n",
       "      <td>-0.105691</td>\n",
       "      <td>0.391941</td>\n",
       "      <td>0.293866</td>\n",
       "      <td>1</td>\n",
       "      <td>-1</td>\n",
       "      <td>-1</td>\n",
       "    </tr>\n",
       "    <tr>\n",
       "      <th>3</th>\n",
       "      <td>0.757895</td>\n",
       "      <td>-0.521739</td>\n",
       "      <td>0.219251</td>\n",
       "      <td>-0.360825</td>\n",
       "      <td>-0.065217</td>\n",
       "      <td>0.979310</td>\n",
       "      <td>0.329114</td>\n",
       "      <td>-0.584906</td>\n",
       "      <td>0.116719</td>\n",
       "      <td>0.112628</td>\n",
       "      <td>-0.382114</td>\n",
       "      <td>0.597070</td>\n",
       "      <td>0.714693</td>\n",
       "      <td>1</td>\n",
       "      <td>-1</td>\n",
       "      <td>-1</td>\n",
       "    </tr>\n",
       "    <tr>\n",
       "      <th>4</th>\n",
       "      <td>0.163158</td>\n",
       "      <td>-0.268775</td>\n",
       "      <td>0.614973</td>\n",
       "      <td>0.072165</td>\n",
       "      <td>0.043478</td>\n",
       "      <td>0.255172</td>\n",
       "      <td>-0.008439</td>\n",
       "      <td>-0.018868</td>\n",
       "      <td>-0.110410</td>\n",
       "      <td>-0.481229</td>\n",
       "      <td>-0.089431</td>\n",
       "      <td>0.216117</td>\n",
       "      <td>-0.348074</td>\n",
       "      <td>1</td>\n",
       "      <td>-1</td>\n",
       "      <td>-1</td>\n",
       "    </tr>\n",
       "  </tbody>\n",
       "</table>\n",
       "</div>"
      ],
      "text/plain": [
       "    alcohol  malic_acid       ash  alcalinity_of_ash  magnesium  \\\n",
       "0  0.684211   -0.616601  0.144385          -0.484536   0.239130   \n",
       "1  0.142105   -0.588933 -0.165775          -0.938144  -0.347826   \n",
       "2  0.121053   -0.359684  0.401070          -0.175258  -0.326087   \n",
       "3  0.757895   -0.521739  0.219251          -0.360825  -0.065217   \n",
       "4  0.163158   -0.268775  0.614973           0.072165   0.043478   \n",
       "\n",
       "   total_phenols  flavanoids  nonflavanoid_phenols  proanthocyanins  \\\n",
       "0       0.255172    0.147679             -0.433962         0.186120   \n",
       "1       0.151724    0.021097             -0.509434        -0.451104   \n",
       "2       0.255172    0.223629             -0.358491         0.514196   \n",
       "3       0.979310    0.329114             -0.584906         0.116719   \n",
       "4       0.255172   -0.008439             -0.018868        -0.110410   \n",
       "\n",
       "   color_intensity       hue  od280/od315_of_diluted_wines   proline  class_0  \\\n",
       "0        -0.255973 -0.089431                      0.941392  0.122682        1   \n",
       "1        -0.470990 -0.073171                      0.560440  0.101284        1   \n",
       "2        -0.249147 -0.105691                      0.391941  0.293866        1   \n",
       "3         0.112628 -0.382114                      0.597070  0.714693        1   \n",
       "4        -0.481229 -0.089431                      0.216117 -0.348074        1   \n",
       "\n",
       "   class_1  class_2  \n",
       "0       -1       -1  \n",
       "1       -1       -1  \n",
       "2       -1       -1  \n",
       "3       -1       -1  \n",
       "4       -1       -1  "
      ]
     },
     "execution_count": 11,
     "metadata": {},
     "output_type": "execute_result"
    }
   ],
   "source": [
    "wine_df_norm = pd.DataFrame(data=wine.data,columns=wine.feature_names).apply(norm, axis=0, result_type='broadcast',raw=True)\n",
    "wine_df_norm[wine.target_names] = pd.get_dummies(wine.target).astype(np.int).replace(0,-1)\n",
    "wine_df_norm.head()"
   ]
  },
  {
   "cell_type": "markdown",
   "id": "average-object",
   "metadata": {},
   "source": [
    "### Training and Assessment"
   ]
  },
  {
   "cell_type": "markdown",
   "id": "academic-antibody",
   "metadata": {},
   "source": [
    "### IRIS"
   ]
  },
  {
   "cell_type": "code",
   "execution_count": 12,
   "id": "collect-religious",
   "metadata": {},
   "outputs": [],
   "source": [
    "# Spliting the indexes, because there are two different dataframes, normalized and not normalized\n",
    "\n",
    "#Iris\n",
    "Xtrain_iris_i, Xval_iris_i, ytrain_iris_i, yval_iris_i = train_test_split(range(iris_df.shape[0]),range(iris_df.shape[0]),\n",
    "                                                    test_size=0.3)\n",
    "\n"
   ]
  },
  {
   "cell_type": "code",
   "execution_count": 13,
   "id": "fabulous-football",
   "metadata": {},
   "outputs": [],
   "source": [
    "Xtrain_iris = iris_df_norm[iris.feature_names].iloc[Xtrain_iris_i]\n",
    "ytrain_iris = iris_df_norm[iris.target_names].iloc[ytrain_iris_i]\n",
    "Xval_iris   = iris_df_norm[iris.feature_names].iloc[Xval_iris_i]\n",
    "yval_iris   = iris_df_norm[iris.target_names].iloc[yval_iris_i]"
   ]
  },
  {
   "cell_type": "code",
   "execution_count": 14,
   "id": "arctic-gravity",
   "metadata": {},
   "outputs": [],
   "source": [
    "Xtest_iris = Xval_iris\n",
    "ytest_iris = yval_iris\n",
    "ytest_iris.replace(-1,0,inplace=True)"
   ]
  },
  {
   "cell_type": "code",
   "execution_count": 15,
   "id": "realistic-sheet",
   "metadata": {},
   "outputs": [
    {
     "name": "stdout",
     "output_type": "stream",
     "text": [
      "Dados treino:\n",
      "setosa        38\n",
      "versicolor    33\n",
      "virginica     34\n",
      "dtype: int64\n",
      "\n",
      "Dados validação:\n",
      "setosa        12\n",
      "versicolor    17\n",
      "virginica     16\n",
      "dtype: int64\n",
      "\n",
      "Dados teste:\n",
      "setosa        12\n",
      "versicolor    17\n",
      "virginica     16\n",
      "dtype: int64\n"
     ]
    }
   ],
   "source": [
    "print('Dados treino:')\n",
    "print(np.str(ytrain_iris.replace(-1,0).sum()))\n",
    "print('\\nDados validação:')\n",
    "print(np.str(yval_iris.replace(-1,0).sum()))\n",
    "print('\\nDados teste:')\n",
    "print(np.str(ytest_iris.sum()))"
   ]
  },
  {
   "cell_type": "code",
   "execution_count": 115,
   "id": "structural-reminder",
   "metadata": {},
   "outputs": [],
   "source": [
    "boxplot = pd.DataFrame()"
   ]
  },
  {
   "cell_type": "markdown",
   "id": "classical-girlfriend",
   "metadata": {},
   "source": [
    "###### 1 Neuron"
   ]
  },
  {
   "cell_type": "code",
   "execution_count": 81,
   "id": "through-baltimore",
   "metadata": {},
   "outputs": [
    {
     "name": "stdout",
     "output_type": "stream",
     "text": [
      "Run: 1\n",
      "Run: 2\n",
      "Run: 3\n",
      "Run: 4\n",
      "Run: 5\n",
      "Run: 6\n",
      "Run: 7\n",
      "Run: 8\n",
      "Run: 9\n",
      "Run: 10\n"
     ]
    },
    {
     "name": "stderr",
     "output_type": "stream",
     "text": [
      "C:\\Users\\thiag\\miniconda3\\lib\\site-packages\\sklearn\\metrics\\_classification.py:1221: UndefinedMetricWarning: Precision and F-score are ill-defined and being set to 0.0 in labels with no predicted samples. Use `zero_division` parameter to control this behavior.\n",
      "  _warn_prf(average, modifier, msg_start, len(result))\n",
      "C:\\Users\\thiag\\miniconda3\\lib\\site-packages\\sklearn\\metrics\\_classification.py:1221: UndefinedMetricWarning: Precision and F-score are ill-defined and being set to 0.0 in samples with no predicted labels. Use `zero_division` parameter to control this behavior.\n",
      "  _warn_prf(average, modifier, msg_start, len(result))\n",
      "C:\\Users\\thiag\\miniconda3\\lib\\site-packages\\sklearn\\metrics\\_classification.py:1221: UndefinedMetricWarning: Precision and F-score are ill-defined and being set to 0.0 in labels with no predicted samples. Use `zero_division` parameter to control this behavior.\n",
      "  _warn_prf(average, modifier, msg_start, len(result))\n",
      "C:\\Users\\thiag\\miniconda3\\lib\\site-packages\\sklearn\\metrics\\_classification.py:1221: UndefinedMetricWarning: Precision and F-score are ill-defined and being set to 0.0 in samples with no predicted labels. Use `zero_division` parameter to control this behavior.\n",
      "  _warn_prf(average, modifier, msg_start, len(result))\n",
      "C:\\Users\\thiag\\miniconda3\\lib\\site-packages\\sklearn\\metrics\\_classification.py:1221: UndefinedMetricWarning: Precision and F-score are ill-defined and being set to 0.0 in labels with no predicted samples. Use `zero_division` parameter to control this behavior.\n",
      "  _warn_prf(average, modifier, msg_start, len(result))\n",
      "C:\\Users\\thiag\\miniconda3\\lib\\site-packages\\sklearn\\metrics\\_classification.py:1221: UndefinedMetricWarning: Precision and F-score are ill-defined and being set to 0.0 in samples with no predicted labels. Use `zero_division` parameter to control this behavior.\n",
      "  _warn_prf(average, modifier, msg_start, len(result))\n",
      "C:\\Users\\thiag\\miniconda3\\lib\\site-packages\\sklearn\\metrics\\_classification.py:1221: UndefinedMetricWarning: Precision and F-score are ill-defined and being set to 0.0 in labels with no predicted samples. Use `zero_division` parameter to control this behavior.\n",
      "  _warn_prf(average, modifier, msg_start, len(result))\n",
      "C:\\Users\\thiag\\miniconda3\\lib\\site-packages\\sklearn\\metrics\\_classification.py:1221: UndefinedMetricWarning: Precision and F-score are ill-defined and being set to 0.0 in samples with no predicted labels. Use `zero_division` parameter to control this behavior.\n",
      "  _warn_prf(average, modifier, msg_start, len(result))\n",
      "C:\\Users\\thiag\\miniconda3\\lib\\site-packages\\sklearn\\metrics\\_classification.py:1221: UndefinedMetricWarning: Precision and F-score are ill-defined and being set to 0.0 in labels with no predicted samples. Use `zero_division` parameter to control this behavior.\n",
      "  _warn_prf(average, modifier, msg_start, len(result))\n",
      "C:\\Users\\thiag\\miniconda3\\lib\\site-packages\\sklearn\\metrics\\_classification.py:1221: UndefinedMetricWarning: Precision and F-score are ill-defined and being set to 0.0 in samples with no predicted labels. Use `zero_division` parameter to control this behavior.\n",
      "  _warn_prf(average, modifier, msg_start, len(result))\n",
      "C:\\Users\\thiag\\miniconda3\\lib\\site-packages\\sklearn\\metrics\\_classification.py:1221: UndefinedMetricWarning: Precision and F-score are ill-defined and being set to 0.0 in labels with no predicted samples. Use `zero_division` parameter to control this behavior.\n",
      "  _warn_prf(average, modifier, msg_start, len(result))\n",
      "C:\\Users\\thiag\\miniconda3\\lib\\site-packages\\sklearn\\metrics\\_classification.py:1221: UndefinedMetricWarning: Precision and F-score are ill-defined and being set to 0.0 in samples with no predicted labels. Use `zero_division` parameter to control this behavior.\n",
      "  _warn_prf(average, modifier, msg_start, len(result))\n",
      "C:\\Users\\thiag\\miniconda3\\lib\\site-packages\\sklearn\\metrics\\_classification.py:1221: UndefinedMetricWarning: Precision and F-score are ill-defined and being set to 0.0 in labels with no predicted samples. Use `zero_division` parameter to control this behavior.\n",
      "  _warn_prf(average, modifier, msg_start, len(result))\n",
      "C:\\Users\\thiag\\miniconda3\\lib\\site-packages\\sklearn\\metrics\\_classification.py:1221: UndefinedMetricWarning: Precision and F-score are ill-defined and being set to 0.0 in samples with no predicted labels. Use `zero_division` parameter to control this behavior.\n",
      "  _warn_prf(average, modifier, msg_start, len(result))\n",
      "C:\\Users\\thiag\\miniconda3\\lib\\site-packages\\sklearn\\metrics\\_classification.py:1221: UndefinedMetricWarning: Precision and F-score are ill-defined and being set to 0.0 in labels with no predicted samples. Use `zero_division` parameter to control this behavior.\n",
      "  _warn_prf(average, modifier, msg_start, len(result))\n",
      "C:\\Users\\thiag\\miniconda3\\lib\\site-packages\\sklearn\\metrics\\_classification.py:1221: UndefinedMetricWarning: Precision and F-score are ill-defined and being set to 0.0 in samples with no predicted labels. Use `zero_division` parameter to control this behavior.\n",
      "  _warn_prf(average, modifier, msg_start, len(result))\n",
      "C:\\Users\\thiag\\miniconda3\\lib\\site-packages\\sklearn\\metrics\\_classification.py:1221: UndefinedMetricWarning: Precision and F-score are ill-defined and being set to 0.0 in labels with no predicted samples. Use `zero_division` parameter to control this behavior.\n",
      "  _warn_prf(average, modifier, msg_start, len(result))\n",
      "C:\\Users\\thiag\\miniconda3\\lib\\site-packages\\sklearn\\metrics\\_classification.py:1221: UndefinedMetricWarning: Precision and F-score are ill-defined and being set to 0.0 in samples with no predicted labels. Use `zero_division` parameter to control this behavior.\n",
      "  _warn_prf(average, modifier, msg_start, len(result))\n",
      "C:\\Users\\thiag\\miniconda3\\lib\\site-packages\\sklearn\\metrics\\_classification.py:1221: UndefinedMetricWarning: Precision and F-score are ill-defined and being set to 0.0 in labels with no predicted samples. Use `zero_division` parameter to control this behavior.\n",
      "  _warn_prf(average, modifier, msg_start, len(result))\n",
      "C:\\Users\\thiag\\miniconda3\\lib\\site-packages\\sklearn\\metrics\\_classification.py:1221: UndefinedMetricWarning: Precision and F-score are ill-defined and being set to 0.0 in samples with no predicted labels. Use `zero_division` parameter to control this behavior.\n",
      "  _warn_prf(average, modifier, msg_start, len(result))\n"
     ]
    }
   ],
   "source": [
    "mse_elm      = pd.DataFrame()\n",
    "mseval_elm   = pd.DataFrame()\n",
    "cla_report   = []\n",
    "\n",
    "for i in np.arange(1,11,1):\n",
    "    elm = ELM(Xtrain=Xtrain_iris, ytrain=ytrain_iris, Xval=Xval_iris, yval=yval_iris, n1=1)\n",
    "    elm.fit()\n",
    "    \n",
    "    mse_elm[np.str(i)]    = elm.mse.reset_index()[0]\n",
    "    mseval_elm[np.str(i)] = elm.mseval.reset_index()[0]\n",
    " \n",
    "    y = pd.DataFrame(elm.predict(Xtest_iris.values, act_func='biStep').values,columns=iris.target_names)\n",
    "    y.replace(-1,0,inplace=True)\n",
    "    \n",
    "    cla_report = np.append(cla_report,classification_report(y_true=ytest_iris, y_pred=y))\n",
    "    \n",
    "    print('Run: '+np.str(i))"
   ]
  },
  {
   "cell_type": "code",
   "execution_count": 82,
   "id": "minimal-enlargement",
   "metadata": {
    "scrolled": false
   },
   "outputs": [
    {
     "name": "stdout",
     "output_type": "stream",
     "text": [
      "RUN: 0-------------------------------------------------------------------------\n",
      "              precision    recall  f1-score   support\n",
      "\n",
      "           0       0.63      1.00      0.77        12\n",
      "           1       0.00      0.00      0.00        17\n",
      "           2       0.92      0.75      0.83        16\n",
      "\n",
      "   micro avg       0.75      0.53      0.62        45\n",
      "   macro avg       0.52      0.58      0.53        45\n",
      "weighted avg       0.50      0.53      0.50        45\n",
      " samples avg       0.53      0.53      0.53        45\n",
      "\n",
      "RUN: 1-------------------------------------------------------------------------\n",
      "              precision    recall  f1-score   support\n",
      "\n",
      "           0       0.63      1.00      0.77        12\n",
      "           1       0.00      0.00      0.00        17\n",
      "           2       0.86      0.75      0.80        16\n",
      "\n",
      "   micro avg       0.73      0.53      0.62        45\n",
      "   macro avg       0.50      0.58      0.52        45\n",
      "weighted avg       0.47      0.53      0.49        45\n",
      " samples avg       0.53      0.53      0.53        45\n",
      "\n",
      "RUN: 2-------------------------------------------------------------------------\n",
      "              precision    recall  f1-score   support\n",
      "\n",
      "           0       0.67      1.00      0.80        12\n",
      "           1       0.00      0.00      0.00        17\n",
      "           2       0.72      0.81      0.76        16\n",
      "\n",
      "   micro avg       0.69      0.56      0.62        45\n",
      "   macro avg       0.46      0.60      0.52        45\n",
      "weighted avg       0.43      0.56      0.49        45\n",
      " samples avg       0.56      0.56      0.56        45\n",
      "\n",
      "RUN: 3-------------------------------------------------------------------------\n",
      "              precision    recall  f1-score   support\n",
      "\n",
      "           0       0.58      0.92      0.71        12\n",
      "           1       0.00      0.00      0.00        17\n",
      "           2       0.75      0.75      0.75        16\n",
      "\n",
      "   micro avg       0.66      0.51      0.57        45\n",
      "   macro avg       0.44      0.56      0.49        45\n",
      "weighted avg       0.42      0.51      0.46        45\n",
      " samples avg       0.51      0.51      0.51        45\n",
      "\n",
      "RUN: 4-------------------------------------------------------------------------\n",
      "              precision    recall  f1-score   support\n",
      "\n",
      "           0       0.71      1.00      0.83        12\n",
      "           1       0.00      0.00      0.00        17\n",
      "           2       0.75      0.94      0.83        16\n",
      "\n",
      "   micro avg       0.73      0.60      0.66        45\n",
      "   macro avg       0.49      0.65      0.55        45\n",
      "weighted avg       0.45      0.60      0.52        45\n",
      " samples avg       0.60      0.60      0.60        45\n",
      "\n",
      "RUN: 5-------------------------------------------------------------------------\n",
      "              precision    recall  f1-score   support\n",
      "\n",
      "           0       0.54      0.58      0.56        12\n",
      "           1       0.00      0.00      0.00        17\n",
      "           2       0.73      0.69      0.71        16\n",
      "\n",
      "   micro avg       0.64      0.40      0.49        45\n",
      "   macro avg       0.42      0.42      0.42        45\n",
      "weighted avg       0.40      0.40      0.40        45\n",
      " samples avg       0.40      0.40      0.40        45\n",
      "\n",
      "RUN: 6-------------------------------------------------------------------------\n",
      "              precision    recall  f1-score   support\n",
      "\n",
      "           0       0.67      1.00      0.80        12\n",
      "           1       0.00      0.00      0.00        17\n",
      "           2       0.83      0.94      0.88        16\n",
      "\n",
      "   micro avg       0.75      0.60      0.67        45\n",
      "   macro avg       0.50      0.65      0.56        45\n",
      "weighted avg       0.47      0.60      0.53        45\n",
      " samples avg       0.60      0.60      0.60        45\n",
      "\n",
      "RUN: 7-------------------------------------------------------------------------\n",
      "              precision    recall  f1-score   support\n",
      "\n",
      "           0       0.47      0.58      0.52        12\n",
      "           1       0.00      0.00      0.00        17\n",
      "           2       0.83      0.62      0.71        16\n",
      "\n",
      "   micro avg       0.63      0.38      0.47        45\n",
      "   macro avg       0.43      0.40      0.41        45\n",
      "weighted avg       0.42      0.38      0.39        45\n",
      " samples avg       0.38      0.38      0.38        45\n",
      "\n",
      "RUN: 8-------------------------------------------------------------------------\n",
      "              precision    recall  f1-score   support\n",
      "\n",
      "           0       0.71      1.00      0.83        12\n",
      "           1       0.00      0.00      0.00        17\n",
      "           2       0.94      0.94      0.94        16\n",
      "\n",
      "   micro avg       0.82      0.60      0.69        45\n",
      "   macro avg       0.55      0.65      0.59        45\n",
      "weighted avg       0.52      0.60      0.55        45\n",
      " samples avg       0.60      0.60      0.60        45\n",
      "\n",
      "RUN: 9-------------------------------------------------------------------------\n",
      "              precision    recall  f1-score   support\n",
      "\n",
      "           0       0.71      1.00      0.83        12\n",
      "           1       0.00      0.00      0.00        17\n",
      "           2       0.76      0.81      0.79        16\n",
      "\n",
      "   micro avg       0.74      0.56      0.63        45\n",
      "   macro avg       0.49      0.60      0.54        45\n",
      "weighted avg       0.46      0.56      0.50        45\n",
      " samples avg       0.56      0.56      0.56        45\n",
      "\n"
     ]
    }
   ],
   "source": [
    "for i in range(10):\n",
    "    print('RUN: '+np.str(i)+'-------------------------------------------------------------------------')\n",
    "    print(cla_report[i])"
   ]
  },
  {
   "cell_type": "code",
   "execution_count": 83,
   "id": "further-implementation",
   "metadata": {},
   "outputs": [
    {
     "data": {
      "text/plain": [
       "Text(0, 0.5, 'MSE')"
      ]
     },
     "execution_count": 83,
     "metadata": {},
     "output_type": "execute_result"
    },
    {
     "data": {
      "image/png": "[encoded data removed]",
      "text/plain": [
       "<Figure size 720x720 with 1 Axes>"
      ]
     },
     "metadata": {
      "needs_background": "light"
     },
     "output_type": "display_data"
    }
   ],
   "source": [
    "plt.figure(figsize = (10,10))\n",
    "sns.boxplot(data=mseval_elm.T)\n",
    "plt.xlabel('1 - Neuron')\n",
    "plt.ylabel('MSE')"
   ]
  },
  {
   "cell_type": "code",
   "execution_count": 101,
   "id": "creative-presence",
   "metadata": {},
   "outputs": [],
   "source": [
    "boxplot = pd.concat((boxplot, mseval_elm.T), ignore_index=True, axis=1)"
   ]
  },
  {
   "cell_type": "markdown",
   "id": "diverse-pepper",
   "metadata": {},
   "source": [
    "###### 10 Neurons"
   ]
  },
  {
   "cell_type": "code",
   "execution_count": 102,
   "id": "inside-tower",
   "metadata": {},
   "outputs": [
    {
     "name": "stderr",
     "output_type": "stream",
     "text": [
      "C:\\Users\\thiag\\miniconda3\\lib\\site-packages\\sklearn\\metrics\\_classification.py:1221: UndefinedMetricWarning: Precision and F-score are ill-defined and being set to 0.0 in samples with no predicted labels. Use `zero_division` parameter to control this behavior.\n",
      "  _warn_prf(average, modifier, msg_start, len(result))\n",
      "C:\\Users\\thiag\\miniconda3\\lib\\site-packages\\sklearn\\metrics\\_classification.py:1221: UndefinedMetricWarning: Precision and F-score are ill-defined and being set to 0.0 in samples with no predicted labels. Use `zero_division` parameter to control this behavior.\n",
      "  _warn_prf(average, modifier, msg_start, len(result))\n",
      "C:\\Users\\thiag\\miniconda3\\lib\\site-packages\\sklearn\\metrics\\_classification.py:1221: UndefinedMetricWarning: Precision and F-score are ill-defined and being set to 0.0 in samples with no predicted labels. Use `zero_division` parameter to control this behavior.\n",
      "  _warn_prf(average, modifier, msg_start, len(result))\n",
      "C:\\Users\\thiag\\miniconda3\\lib\\site-packages\\sklearn\\metrics\\_classification.py:1221: UndefinedMetricWarning: Precision and F-score are ill-defined and being set to 0.0 in samples with no predicted labels. Use `zero_division` parameter to control this behavior.\n",
      "  _warn_prf(average, modifier, msg_start, len(result))\n"
     ]
    },
    {
     "name": "stdout",
     "output_type": "stream",
     "text": [
      "Run: 1\n",
      "Run: 2\n",
      "Run: 3\n",
      "Run: 4\n",
      "Run: 5\n",
      "Run: 6\n",
      "Run: 7\n",
      "Run: 8\n",
      "Run: 9\n",
      "Run: 10\n"
     ]
    }
   ],
   "source": [
    "mse_elm      = pd.DataFrame()\n",
    "mseval_elm   = pd.DataFrame()\n",
    "cla_report   = []\n",
    "\n",
    "for i in np.arange(1,11,1):\n",
    "    elm = ELM(Xtrain=Xtrain_iris, ytrain=ytrain_iris, Xval=Xval_iris, yval=yval_iris, n1=10)\n",
    "    elm.fit()\n",
    "    \n",
    "    mse_elm[np.str(i)]    = elm.mse.reset_index()[0]\n",
    "    mseval_elm[np.str(i)] = elm.mseval.reset_index()[0]\n",
    " \n",
    "    y = pd.DataFrame(elm.predict(Xtest_iris.values, act_func='biStep').values,columns=iris.target_names)\n",
    "    y.replace(-1,0,inplace=True)\n",
    "    \n",
    "    cla_report = np.append(cla_report,classification_report(y_true=ytest_iris, y_pred=y))\n",
    "    \n",
    "    print('Run: '+np.str(i))"
   ]
  },
  {
   "cell_type": "code",
   "execution_count": 103,
   "id": "atlantic-instrument",
   "metadata": {
    "scrolled": false
   },
   "outputs": [
    {
     "name": "stdout",
     "output_type": "stream",
     "text": [
      "RUN: 0-------------------------------------------------------------------------\n",
      "              precision    recall  f1-score   support\n",
      "\n",
      "           0       1.00      1.00      1.00        12\n",
      "           1       0.87      0.76      0.81        17\n",
      "           2       0.83      0.94      0.88        16\n",
      "\n",
      "   micro avg       0.89      0.89      0.89        45\n",
      "   macro avg       0.90      0.90      0.90        45\n",
      "weighted avg       0.89      0.89      0.89        45\n",
      " samples avg       0.88      0.89      0.88        45\n",
      "\n",
      "RUN: 1-------------------------------------------------------------------------\n",
      "              precision    recall  f1-score   support\n",
      "\n",
      "           0       1.00      1.00      1.00        12\n",
      "           1       0.94      1.00      0.97        17\n",
      "           2       0.89      1.00      0.94        16\n",
      "\n",
      "   micro avg       0.94      1.00      0.97        45\n",
      "   macro avg       0.94      1.00      0.97        45\n",
      "weighted avg       0.94      1.00      0.97        45\n",
      " samples avg       0.97      1.00      0.98        45\n",
      "\n",
      "RUN: 2-------------------------------------------------------------------------\n",
      "              precision    recall  f1-score   support\n",
      "\n",
      "           0       1.00      1.00      1.00        12\n",
      "           1       0.94      0.94      0.94        17\n",
      "           2       0.89      1.00      0.94        16\n",
      "\n",
      "   micro avg       0.94      0.98      0.96        45\n",
      "   macro avg       0.94      0.98      0.96        45\n",
      "weighted avg       0.94      0.98      0.96        45\n",
      " samples avg       0.96      0.98      0.96        45\n",
      "\n",
      "RUN: 3-------------------------------------------------------------------------\n",
      "              precision    recall  f1-score   support\n",
      "\n",
      "           0       1.00      1.00      1.00        12\n",
      "           1       0.94      0.94      0.94        17\n",
      "           2       0.94      1.00      0.97        16\n",
      "\n",
      "   micro avg       0.96      0.98      0.97        45\n",
      "   macro avg       0.96      0.98      0.97        45\n",
      "weighted avg       0.96      0.98      0.97        45\n",
      " samples avg       0.97      0.98      0.97        45\n",
      "\n",
      "RUN: 4-------------------------------------------------------------------------\n",
      "              precision    recall  f1-score   support\n",
      "\n",
      "           0       1.00      1.00      1.00        12\n",
      "           1       0.88      0.82      0.85        17\n",
      "           2       0.89      1.00      0.94        16\n",
      "\n",
      "   micro avg       0.91      0.93      0.92        45\n",
      "   macro avg       0.92      0.94      0.93        45\n",
      "weighted avg       0.91      0.93      0.92        45\n",
      " samples avg       0.91      0.93      0.92        45\n",
      "\n",
      "RUN: 5-------------------------------------------------------------------------\n",
      "              precision    recall  f1-score   support\n",
      "\n",
      "           0       1.00      1.00      1.00        12\n",
      "           1       0.94      0.88      0.91        17\n",
      "           2       0.84      1.00      0.91        16\n",
      "\n",
      "   micro avg       0.91      0.96      0.93        45\n",
      "   macro avg       0.93      0.96      0.94        45\n",
      "weighted avg       0.92      0.96      0.94        45\n",
      " samples avg       0.93      0.96      0.94        45\n",
      "\n",
      "RUN: 6-------------------------------------------------------------------------\n",
      "              precision    recall  f1-score   support\n",
      "\n",
      "           0       1.00      1.00      1.00        12\n",
      "           1       0.94      0.94      0.94        17\n",
      "           2       0.83      0.94      0.88        16\n",
      "\n",
      "   micro avg       0.91      0.96      0.93        45\n",
      "   macro avg       0.92      0.96      0.94        45\n",
      "weighted avg       0.92      0.96      0.94        45\n",
      " samples avg       0.93      0.96      0.94        45\n",
      "\n",
      "RUN: 7-------------------------------------------------------------------------\n",
      "              precision    recall  f1-score   support\n",
      "\n",
      "           0       1.00      1.00      1.00        12\n",
      "           1       0.89      1.00      0.94        17\n",
      "           2       0.94      0.94      0.94        16\n",
      "\n",
      "   micro avg       0.94      0.98      0.96        45\n",
      "   macro avg       0.94      0.98      0.96        45\n",
      "weighted avg       0.94      0.98      0.96        45\n",
      " samples avg       0.96      0.98      0.96        45\n",
      "\n",
      "RUN: 8-------------------------------------------------------------------------\n",
      "              precision    recall  f1-score   support\n",
      "\n",
      "           0       1.00      1.00      1.00        12\n",
      "           1       0.94      0.88      0.91        17\n",
      "           2       0.83      0.94      0.88        16\n",
      "\n",
      "   micro avg       0.91      0.93      0.92        45\n",
      "   macro avg       0.92      0.94      0.93        45\n",
      "weighted avg       0.92      0.93      0.92        45\n",
      " samples avg       0.91      0.93      0.92        45\n",
      "\n",
      "RUN: 9-------------------------------------------------------------------------\n",
      "              precision    recall  f1-score   support\n",
      "\n",
      "           0       1.00      1.00      1.00        12\n",
      "           1       0.88      0.88      0.88        17\n",
      "           2       0.89      1.00      0.94        16\n",
      "\n",
      "   micro avg       0.91      0.96      0.93        45\n",
      "   macro avg       0.92      0.96      0.94        45\n",
      "weighted avg       0.92      0.96      0.93        45\n",
      " samples avg       0.92      0.96      0.93        45\n",
      "\n"
     ]
    }
   ],
   "source": [
    "for i in range(10):\n",
    "    print('RUN: '+np.str(i)+'-------------------------------------------------------------------------')\n",
    "    print(cla_report[i])"
   ]
  },
  {
   "cell_type": "code",
   "execution_count": 104,
   "id": "functioning-exhaust",
   "metadata": {},
   "outputs": [
    {
     "data": {
      "text/plain": [
       "Text(0, 0.5, 'MSE')"
      ]
     },
     "execution_count": 104,
     "metadata": {},
     "output_type": "execute_result"
    },
    {
     "data": {
      "image/png": "[encoded data removed]",
      "text/plain": [
       "<Figure size 720x720 with 1 Axes>"
      ]
     },
     "metadata": {
      "needs_background": "light"
     },
     "output_type": "display_data"
    }
   ],
   "source": [
    "plt.figure(figsize = (10,10))\n",
    "sns.boxplot(data=mseval_elm.T)\n",
    "plt.xlabel('10 - Neurons')\n",
    "plt.ylabel('MSE')"
   ]
  },
  {
   "cell_type": "code",
   "execution_count": 105,
   "id": "killing-afghanistan",
   "metadata": {},
   "outputs": [],
   "source": [
    "boxplot = pd.concat((boxplot, mseval_elm.T), ignore_index=True, axis=1)"
   ]
  },
  {
   "cell_type": "markdown",
   "id": "sticky-lyric",
   "metadata": {},
   "source": [
    "###### 50 Neurons"
   ]
  },
  {
   "cell_type": "code",
   "execution_count": 106,
   "id": "skilled-unknown",
   "metadata": {},
   "outputs": [
    {
     "name": "stdout",
     "output_type": "stream",
     "text": [
      "Run: 1\n",
      "Run: 2\n",
      "Run: 3\n",
      "Run: 4\n",
      "Run: 5\n",
      "Run: 6\n",
      "Run: 7\n",
      "Run: 8\n",
      "Run: 9\n",
      "Run: 10\n"
     ]
    },
    {
     "name": "stderr",
     "output_type": "stream",
     "text": [
      "C:\\Users\\thiag\\miniconda3\\lib\\site-packages\\sklearn\\metrics\\_classification.py:1221: UndefinedMetricWarning: Precision and F-score are ill-defined and being set to 0.0 in samples with no predicted labels. Use `zero_division` parameter to control this behavior.\n",
      "  _warn_prf(average, modifier, msg_start, len(result))\n",
      "C:\\Users\\thiag\\miniconda3\\lib\\site-packages\\sklearn\\metrics\\_classification.py:1221: UndefinedMetricWarning: Precision and F-score are ill-defined and being set to 0.0 in samples with no predicted labels. Use `zero_division` parameter to control this behavior.\n",
      "  _warn_prf(average, modifier, msg_start, len(result))\n",
      "C:\\Users\\thiag\\miniconda3\\lib\\site-packages\\sklearn\\metrics\\_classification.py:1221: UndefinedMetricWarning: Precision and F-score are ill-defined and being set to 0.0 in samples with no predicted labels. Use `zero_division` parameter to control this behavior.\n",
      "  _warn_prf(average, modifier, msg_start, len(result))\n"
     ]
    }
   ],
   "source": [
    "mse_elm      = pd.DataFrame()\n",
    "mseval_elm   = pd.DataFrame()\n",
    "cla_report   = []\n",
    "\n",
    "for i in np.arange(1,11,1):\n",
    "    elm = ELM(Xtrain=Xtrain_iris, ytrain=ytrain_iris, Xval=Xval_iris, yval=yval_iris, n1=50)\n",
    "    elm.fit()\n",
    "    \n",
    "    mse_elm[np.str(i)]    = elm.mse.reset_index()[0]\n",
    "    mseval_elm[np.str(i)] = elm.mseval.reset_index()[0]\n",
    " \n",
    "    y = pd.DataFrame(elm.predict(Xtest_iris.values, act_func='biStep').values,columns=iris.target_names)\n",
    "    y.replace(-1,0,inplace=True)\n",
    "    \n",
    "    cla_report = np.append(cla_report,classification_report(y_true=ytest_iris, y_pred=y))\n",
    "    \n",
    "    print('Run: '+np.str(i))"
   ]
  },
  {
   "cell_type": "code",
   "execution_count": 107,
   "id": "possible-roulette",
   "metadata": {
    "scrolled": false
   },
   "outputs": [
    {
     "name": "stdout",
     "output_type": "stream",
     "text": [
      "RUN: 0-------------------------------------------------------------------------\n",
      "              precision    recall  f1-score   support\n",
      "\n",
      "           0       1.00      1.00      1.00        12\n",
      "           1       0.93      0.82      0.87        17\n",
      "           2       0.83      0.94      0.88        16\n",
      "\n",
      "   micro avg       0.91      0.91      0.91        45\n",
      "   macro avg       0.92      0.92      0.92        45\n",
      "weighted avg       0.92      0.91      0.91        45\n",
      " samples avg       0.91      0.91      0.91        45\n",
      "\n",
      "RUN: 1-------------------------------------------------------------------------\n",
      "              precision    recall  f1-score   support\n",
      "\n",
      "           0       1.00      1.00      1.00        12\n",
      "           1       0.82      0.82      0.82        17\n",
      "           2       0.81      0.81      0.81        16\n",
      "\n",
      "   micro avg       0.87      0.87      0.87        45\n",
      "   macro avg       0.88      0.88      0.88        45\n",
      "weighted avg       0.87      0.87      0.87        45\n",
      " samples avg       0.87      0.87      0.87        45\n",
      "\n",
      "RUN: 2-------------------------------------------------------------------------\n",
      "              precision    recall  f1-score   support\n",
      "\n",
      "           0       1.00      1.00      1.00        12\n",
      "           1       0.81      0.76      0.79        17\n",
      "           2       0.76      0.81      0.79        16\n",
      "\n",
      "   micro avg       0.84      0.84      0.84        45\n",
      "   macro avg       0.86      0.86      0.86        45\n",
      "weighted avg       0.85      0.84      0.84        45\n",
      " samples avg       0.84      0.84      0.84        45\n",
      "\n",
      "RUN: 3-------------------------------------------------------------------------\n",
      "              precision    recall  f1-score   support\n",
      "\n",
      "           0       0.92      1.00      0.96        12\n",
      "           1       0.81      0.76      0.79        17\n",
      "           2       0.74      0.88      0.80        16\n",
      "\n",
      "   micro avg       0.81      0.87      0.84        45\n",
      "   macro avg       0.82      0.88      0.85        45\n",
      "weighted avg       0.82      0.87      0.84        45\n",
      " samples avg       0.83      0.87      0.84        45\n",
      "\n",
      "RUN: 4-------------------------------------------------------------------------\n",
      "              precision    recall  f1-score   support\n",
      "\n",
      "           0       1.00      1.00      1.00        12\n",
      "           1       0.76      0.76      0.76        17\n",
      "           2       0.78      0.88      0.82        16\n",
      "\n",
      "   micro avg       0.83      0.87      0.85        45\n",
      "   macro avg       0.85      0.88      0.86        45\n",
      "weighted avg       0.83      0.87      0.85        45\n",
      " samples avg       0.84      0.87      0.85        45\n",
      "\n",
      "RUN: 5-------------------------------------------------------------------------\n",
      "              precision    recall  f1-score   support\n",
      "\n",
      "           0       0.92      1.00      0.96        12\n",
      "           1       0.81      0.76      0.79        17\n",
      "           2       0.76      0.81      0.79        16\n",
      "\n",
      "   micro avg       0.83      0.84      0.84        45\n",
      "   macro avg       0.83      0.86      0.85        45\n",
      "weighted avg       0.82      0.84      0.83        45\n",
      " samples avg       0.84      0.84      0.84        45\n",
      "\n",
      "RUN: 6-------------------------------------------------------------------------\n",
      "              precision    recall  f1-score   support\n",
      "\n",
      "           0       1.00      1.00      1.00        12\n",
      "           1       0.93      0.82      0.87        17\n",
      "           2       0.88      0.94      0.91        16\n",
      "\n",
      "   micro avg       0.93      0.91      0.92        45\n",
      "   macro avg       0.94      0.92      0.93        45\n",
      "weighted avg       0.93      0.91      0.92        45\n",
      " samples avg       0.91      0.91      0.91        45\n",
      "\n",
      "RUN: 7-------------------------------------------------------------------------\n",
      "              precision    recall  f1-score   support\n",
      "\n",
      "           0       1.00      1.00      1.00        12\n",
      "           1       1.00      0.76      0.87        17\n",
      "           2       0.79      0.94      0.86        16\n",
      "\n",
      "   micro avg       0.91      0.89      0.90        45\n",
      "   macro avg       0.93      0.90      0.91        45\n",
      "weighted avg       0.93      0.89      0.90        45\n",
      " samples avg       0.89      0.89      0.89        45\n",
      "\n",
      "RUN: 8-------------------------------------------------------------------------\n",
      "              precision    recall  f1-score   support\n",
      "\n",
      "           0       1.00      1.00      1.00        12\n",
      "           1       0.88      0.82      0.85        17\n",
      "           2       0.82      0.88      0.85        16\n",
      "\n",
      "   micro avg       0.89      0.89      0.89        45\n",
      "   macro avg       0.90      0.90      0.90        45\n",
      "weighted avg       0.89      0.89      0.89        45\n",
      " samples avg       0.88      0.89      0.88        45\n",
      "\n",
      "RUN: 9-------------------------------------------------------------------------\n",
      "              precision    recall  f1-score   support\n",
      "\n",
      "           0       1.00      1.00      1.00        12\n",
      "           1       0.87      0.76      0.81        17\n",
      "           2       0.78      0.88      0.82        16\n",
      "\n",
      "   micro avg       0.87      0.87      0.87        45\n",
      "   macro avg       0.88      0.88      0.88        45\n",
      "weighted avg       0.87      0.87      0.87        45\n",
      " samples avg       0.87      0.87      0.87        45\n",
      "\n"
     ]
    }
   ],
   "source": [
    "for i in range(10):\n",
    "    print('RUN: '+np.str(i)+'-------------------------------------------------------------------------')\n",
    "    print(cla_report[i])"
   ]
  },
  {
   "cell_type": "code",
   "execution_count": 108,
   "id": "linear-durham",
   "metadata": {},
   "outputs": [
    {
     "data": {
      "text/plain": [
       "Text(0, 0.5, 'MSE')"
      ]
     },
     "execution_count": 108,
     "metadata": {},
     "output_type": "execute_result"
    },
    {
     "data": {
      "image/png": "[encoded data removed]",
      "text/plain": [
       "<Figure size 720x720 with 1 Axes>"
      ]
     },
     "metadata": {
      "needs_background": "light"
     },
     "output_type": "display_data"
    }
   ],
   "source": [
    "plt.figure(figsize = (10,10))\n",
    "sns.boxplot(data=mseval_elm.T)\n",
    "plt.xlabel('Iterations')\n",
    "plt.ylabel('MSE')"
   ]
  },
  {
   "cell_type": "code",
   "execution_count": 109,
   "id": "scheduled-quest",
   "metadata": {},
   "outputs": [],
   "source": [
    "boxplot = pd.concat((boxplot, mseval_elm.T), ignore_index=True, axis=1)"
   ]
  },
  {
   "cell_type": "code",
   "execution_count": 112,
   "id": "primary-routine",
   "metadata": {},
   "outputs": [],
   "source": [
    "a = pd.DataFrame(boxplot.values, columns=['1N', '10N', '50N'])"
   ]
  },
  {
   "cell_type": "code",
   "execution_count": 114,
   "id": "found-short",
   "metadata": {},
   "outputs": [
    {
     "data": {
      "text/plain": [
       "Text(0, 0.5, 'MSE')"
      ]
     },
     "execution_count": 114,
     "metadata": {},
     "output_type": "execute_result"
    },
    {
     "data": {
      "image/png": "[encoded data removed]",
      "text/plain": [
       "<Figure size 720x720 with 1 Axes>"
      ]
     },
     "metadata": {
      "needs_background": "light"
     },
     "output_type": "display_data"
    }
   ],
   "source": [
    "a = pd.DataFrame(boxplot.values, columns=['1N', '10N', '50N'])\n",
    "plt.figure(figsize = (10,10))\n",
    "sns.boxplot(data=a)\n",
    "plt.ylabel('MSE')"
   ]
  },
  {
   "cell_type": "markdown",
   "id": "understanding-techno",
   "metadata": {},
   "source": [
    "### WINE"
   ]
  },
  {
   "cell_type": "code",
   "execution_count": 124,
   "id": "native-newfoundland",
   "metadata": {},
   "outputs": [],
   "source": [
    "Xtrain_wine_i, Xval_wine_i, ytrain_wine_i, yval_wine_i = train_test_split(range(wine_df.shape[0]),range(wine_df.shape[0]),\n",
    "                                                    test_size=0.3)\n"
   ]
  },
  {
   "cell_type": "code",
   "execution_count": 125,
   "id": "uniform-category",
   "metadata": {},
   "outputs": [],
   "source": [
    "Xtrain_wine = wine_df_norm[wine.feature_names].iloc[Xtrain_wine_i]\n",
    "ytrain_wine = wine_df_norm[wine.target_names].iloc[ytrain_wine_i]\n",
    "Xval_wine   = wine_df_norm[wine.feature_names].iloc[Xval_wine_i]\n",
    "yval_wine   = wine_df_norm[wine.target_names].iloc[yval_wine_i]"
   ]
  },
  {
   "cell_type": "code",
   "execution_count": 126,
   "id": "preliminary-count",
   "metadata": {},
   "outputs": [],
   "source": [
    "Xtest_wine = Xval_wine\n",
    "ytest_wine = yval_wine\n",
    "ytest_wine.replace(-1,0,inplace=True)"
   ]
  },
  {
   "cell_type": "code",
   "execution_count": 127,
   "id": "curious-pipeline",
   "metadata": {},
   "outputs": [
    {
     "name": "stdout",
     "output_type": "stream",
     "text": [
      "Dados treino:\n",
      "class_0    40\n",
      "class_1    49\n",
      "class_2    35\n",
      "dtype: int64\n",
      "\n",
      "Dados validação:\n",
      "class_0    19\n",
      "class_1    22\n",
      "class_2    13\n",
      "dtype: int64\n",
      "\n",
      "Dados teste:\n",
      "class_0    19\n",
      "class_1    22\n",
      "class_2    13\n",
      "dtype: int64\n"
     ]
    }
   ],
   "source": [
    "print('Dados treino:')\n",
    "print(np.str(ytrain_wine.replace(-1,0).sum()))\n",
    "print('\\nDados validação:')\n",
    "print(np.str(yval_wine.replace(-1,0).sum()))\n",
    "print('\\nDados teste:')\n",
    "print(np.str(ytest_wine.sum()))"
   ]
  },
  {
   "cell_type": "markdown",
   "id": "bigger-things",
   "metadata": {},
   "source": [
    "### 1 Neuron"
   ]
  },
  {
   "cell_type": "code",
   "execution_count": 134,
   "id": "optimum-reggae",
   "metadata": {},
   "outputs": [
    {
     "name": "stderr",
     "output_type": "stream",
     "text": [
      "C:\\Users\\thiag\\miniconda3\\lib\\site-packages\\sklearn\\metrics\\_classification.py:1221: UndefinedMetricWarning: Precision and F-score are ill-defined and being set to 0.0 in labels with no predicted samples. Use `zero_division` parameter to control this behavior.\n",
      "  _warn_prf(average, modifier, msg_start, len(result))\n",
      "C:\\Users\\thiag\\miniconda3\\lib\\site-packages\\sklearn\\metrics\\_classification.py:1221: UndefinedMetricWarning: Precision and F-score are ill-defined and being set to 0.0 in samples with no predicted labels. Use `zero_division` parameter to control this behavior.\n",
      "  _warn_prf(average, modifier, msg_start, len(result))\n",
      "C:\\Users\\thiag\\miniconda3\\lib\\site-packages\\sklearn\\metrics\\_classification.py:1221: UndefinedMetricWarning: Precision and F-score are ill-defined and being set to 0.0 in labels with no predicted samples. Use `zero_division` parameter to control this behavior.\n",
      "  _warn_prf(average, modifier, msg_start, len(result))\n",
      "C:\\Users\\thiag\\miniconda3\\lib\\site-packages\\sklearn\\metrics\\_classification.py:1221: UndefinedMetricWarning: Precision and F-score are ill-defined and being set to 0.0 in samples with no predicted labels. Use `zero_division` parameter to control this behavior.\n",
      "  _warn_prf(average, modifier, msg_start, len(result))\n",
      "C:\\Users\\thiag\\miniconda3\\lib\\site-packages\\sklearn\\metrics\\_classification.py:1221: UndefinedMetricWarning: Precision and F-score are ill-defined and being set to 0.0 in labels with no predicted samples. Use `zero_division` parameter to control this behavior.\n",
      "  _warn_prf(average, modifier, msg_start, len(result))\n",
      "C:\\Users\\thiag\\miniconda3\\lib\\site-packages\\sklearn\\metrics\\_classification.py:1221: UndefinedMetricWarning: Precision and F-score are ill-defined and being set to 0.0 in samples with no predicted labels. Use `zero_division` parameter to control this behavior.\n",
      "  _warn_prf(average, modifier, msg_start, len(result))\n",
      "C:\\Users\\thiag\\miniconda3\\lib\\site-packages\\sklearn\\metrics\\_classification.py:1221: UndefinedMetricWarning: Precision and F-score are ill-defined and being set to 0.0 in labels with no predicted samples. Use `zero_division` parameter to control this behavior.\n",
      "  _warn_prf(average, modifier, msg_start, len(result))\n",
      "C:\\Users\\thiag\\miniconda3\\lib\\site-packages\\sklearn\\metrics\\_classification.py:1221: UndefinedMetricWarning: Precision and F-score are ill-defined and being set to 0.0 in samples with no predicted labels. Use `zero_division` parameter to control this behavior.\n",
      "  _warn_prf(average, modifier, msg_start, len(result))\n",
      "C:\\Users\\thiag\\miniconda3\\lib\\site-packages\\sklearn\\metrics\\_classification.py:1221: UndefinedMetricWarning: Precision and F-score are ill-defined and being set to 0.0 in labels with no predicted samples. Use `zero_division` parameter to control this behavior.\n",
      "  _warn_prf(average, modifier, msg_start, len(result))\n",
      "C:\\Users\\thiag\\miniconda3\\lib\\site-packages\\sklearn\\metrics\\_classification.py:1221: UndefinedMetricWarning: Precision and F-score are ill-defined and being set to 0.0 in samples with no predicted labels. Use `zero_division` parameter to control this behavior.\n",
      "  _warn_prf(average, modifier, msg_start, len(result))\n",
      "C:\\Users\\thiag\\miniconda3\\lib\\site-packages\\sklearn\\metrics\\_classification.py:1221: UndefinedMetricWarning: Precision and F-score are ill-defined and being set to 0.0 in labels with no predicted samples. Use `zero_division` parameter to control this behavior.\n",
      "  _warn_prf(average, modifier, msg_start, len(result))\n",
      "C:\\Users\\thiag\\miniconda3\\lib\\site-packages\\sklearn\\metrics\\_classification.py:1221: UndefinedMetricWarning: Precision and F-score are ill-defined and being set to 0.0 in samples with no predicted labels. Use `zero_division` parameter to control this behavior.\n",
      "  _warn_prf(average, modifier, msg_start, len(result))\n",
      "C:\\Users\\thiag\\miniconda3\\lib\\site-packages\\sklearn\\metrics\\_classification.py:1221: UndefinedMetricWarning: Precision and F-score are ill-defined and being set to 0.0 in labels with no predicted samples. Use `zero_division` parameter to control this behavior.\n",
      "  _warn_prf(average, modifier, msg_start, len(result))\n",
      "C:\\Users\\thiag\\miniconda3\\lib\\site-packages\\sklearn\\metrics\\_classification.py:1221: UndefinedMetricWarning: Precision and F-score are ill-defined and being set to 0.0 in samples with no predicted labels. Use `zero_division` parameter to control this behavior.\n",
      "  _warn_prf(average, modifier, msg_start, len(result))\n",
      "C:\\Users\\thiag\\miniconda3\\lib\\site-packages\\sklearn\\metrics\\_classification.py:1221: UndefinedMetricWarning: Precision and F-score are ill-defined and being set to 0.0 in labels with no predicted samples. Use `zero_division` parameter to control this behavior.\n",
      "  _warn_prf(average, modifier, msg_start, len(result))\n",
      "C:\\Users\\thiag\\miniconda3\\lib\\site-packages\\sklearn\\metrics\\_classification.py:1221: UndefinedMetricWarning: Precision and F-score are ill-defined and being set to 0.0 in samples with no predicted labels. Use `zero_division` parameter to control this behavior.\n",
      "  _warn_prf(average, modifier, msg_start, len(result))\n",
      "C:\\Users\\thiag\\miniconda3\\lib\\site-packages\\sklearn\\metrics\\_classification.py:1221: UndefinedMetricWarning: Precision and F-score are ill-defined and being set to 0.0 in labels with no predicted samples. Use `zero_division` parameter to control this behavior.\n",
      "  _warn_prf(average, modifier, msg_start, len(result))\n",
      "C:\\Users\\thiag\\miniconda3\\lib\\site-packages\\sklearn\\metrics\\_classification.py:1221: UndefinedMetricWarning: Precision and F-score are ill-defined and being set to 0.0 in samples with no predicted labels. Use `zero_division` parameter to control this behavior.\n",
      "  _warn_prf(average, modifier, msg_start, len(result))\n",
      "C:\\Users\\thiag\\miniconda3\\lib\\site-packages\\sklearn\\metrics\\_classification.py:1221: UndefinedMetricWarning: Precision and F-score are ill-defined and being set to 0.0 in labels with no predicted samples. Use `zero_division` parameter to control this behavior.\n",
      "  _warn_prf(average, modifier, msg_start, len(result))\n",
      "C:\\Users\\thiag\\miniconda3\\lib\\site-packages\\sklearn\\metrics\\_classification.py:1221: UndefinedMetricWarning: Precision and F-score are ill-defined and being set to 0.0 in samples with no predicted labels. Use `zero_division` parameter to control this behavior.\n",
      "  _warn_prf(average, modifier, msg_start, len(result))\n"
     ]
    }
   ],
   "source": [
    "mse_elm      = pd.DataFrame()\n",
    "mseval_elm   = pd.DataFrame()\n",
    "cla_report   = []\n",
    "\n",
    "for i in np.arange(1,11,1):\n",
    "    elm = ELM(Xtrain=Xtrain_wine, ytrain=ytrain_wine, Xval=Xval_wine, yval=yval_wine, n1=1)\n",
    "    elm.fit()\n",
    "    \n",
    "    mse_elm[np.str(i)]    = elm.mse.reset_index()[0]\n",
    "    mseval_elm[np.str(i)] = elm.mseval.reset_index()[0]\n",
    " \n",
    "    y = pd.DataFrame(elm.predict(Xtest_wine.values, act_func='biStep').values,columns=wine.target_names)\n",
    "    y.replace(-1,0,inplace=True)\n",
    "    \n",
    "    cla_report = np.append(cla_report,classification_report(y_true=ytest_wine, y_pred=y))   "
   ]
  },
  {
   "cell_type": "code",
   "execution_count": 135,
   "id": "peripheral-copying",
   "metadata": {
    "scrolled": false
   },
   "outputs": [
    {
     "name": "stdout",
     "output_type": "stream",
     "text": [
      "RUN: 0-------------------------------------------------------------------------\n",
      "              precision    recall  f1-score   support\n",
      "\n",
      "           0       0.85      0.58      0.69        19\n",
      "           1       0.76      0.86      0.81        22\n",
      "           2       0.00      0.00      0.00        13\n",
      "\n",
      "   micro avg       0.79      0.56      0.65        54\n",
      "   macro avg       0.54      0.48      0.50        54\n",
      "weighted avg       0.61      0.56      0.57        54\n",
      " samples avg       0.56      0.56      0.56        54\n",
      "\n",
      "RUN: 1-------------------------------------------------------------------------\n",
      "              precision    recall  f1-score   support\n",
      "\n",
      "           0       0.83      0.53      0.65        19\n",
      "           1       0.89      0.73      0.80        22\n",
      "           2       0.00      0.00      0.00        13\n",
      "\n",
      "   micro avg       0.87      0.48      0.62        54\n",
      "   macro avg       0.57      0.42      0.48        54\n",
      "weighted avg       0.66      0.48      0.55        54\n",
      " samples avg       0.48      0.48      0.48        54\n",
      "\n",
      "RUN: 2-------------------------------------------------------------------------\n",
      "              precision    recall  f1-score   support\n",
      "\n",
      "           0       1.00      0.89      0.94        19\n",
      "           1       0.59      0.77      0.67        22\n",
      "           2       0.00      0.00      0.00        13\n",
      "\n",
      "   micro avg       0.74      0.63      0.68        54\n",
      "   macro avg       0.53      0.56      0.54        54\n",
      "weighted avg       0.59      0.63      0.60        54\n",
      " samples avg       0.63      0.63      0.63        54\n",
      "\n",
      "RUN: 3-------------------------------------------------------------------------\n",
      "              precision    recall  f1-score   support\n",
      "\n",
      "           0       0.86      0.63      0.73        19\n",
      "           1       0.00      0.00      0.00        22\n",
      "           2       0.00      0.00      0.00        13\n",
      "\n",
      "   micro avg       0.86      0.22      0.35        54\n",
      "   macro avg       0.29      0.21      0.24        54\n",
      "weighted avg       0.30      0.22      0.26        54\n",
      " samples avg       0.22      0.22      0.22        54\n",
      "\n",
      "RUN: 4-------------------------------------------------------------------------\n",
      "              precision    recall  f1-score   support\n",
      "\n",
      "           0       0.91      0.53      0.67        19\n",
      "           1       0.86      0.55      0.67        22\n",
      "           2       0.00      0.00      0.00        13\n",
      "\n",
      "   micro avg       0.88      0.41      0.56        54\n",
      "   macro avg       0.59      0.36      0.44        54\n",
      "weighted avg       0.67      0.41      0.51        54\n",
      " samples avg       0.41      0.41      0.41        54\n",
      "\n",
      "RUN: 5-------------------------------------------------------------------------\n",
      "              precision    recall  f1-score   support\n",
      "\n",
      "           0       1.00      0.32      0.48        19\n",
      "           1       0.00      0.00      0.00        22\n",
      "           2       0.00      0.00      0.00        13\n",
      "\n",
      "   micro avg       1.00      0.11      0.20        54\n",
      "   macro avg       0.33      0.11      0.16        54\n",
      "weighted avg       0.35      0.11      0.17        54\n",
      " samples avg       0.11      0.11      0.11        54\n",
      "\n",
      "RUN: 6-------------------------------------------------------------------------\n",
      "              precision    recall  f1-score   support\n",
      "\n",
      "           0       0.90      0.47      0.62        19\n",
      "           1       0.00      0.00      0.00        22\n",
      "           2       0.00      0.00      0.00        13\n",
      "\n",
      "   micro avg       0.90      0.17      0.28        54\n",
      "   macro avg       0.30      0.16      0.21        54\n",
      "weighted avg       0.32      0.17      0.22        54\n",
      " samples avg       0.17      0.17      0.17        54\n",
      "\n",
      "RUN: 7-------------------------------------------------------------------------\n",
      "              precision    recall  f1-score   support\n",
      "\n",
      "           0       0.92      0.58      0.71        19\n",
      "           1       0.00      0.00      0.00        22\n",
      "           2       0.00      0.00      0.00        13\n",
      "\n",
      "   micro avg       0.92      0.20      0.33        54\n",
      "   macro avg       0.31      0.19      0.24        54\n",
      "weighted avg       0.32      0.20      0.25        54\n",
      " samples avg       0.20      0.20      0.20        54\n",
      "\n",
      "RUN: 8-------------------------------------------------------------------------\n",
      "              precision    recall  f1-score   support\n",
      "\n",
      "           0       0.86      0.32      0.46        19\n",
      "           1       0.00      0.00      0.00        22\n",
      "           2       0.00      0.00      0.00        13\n",
      "\n",
      "   micro avg       0.86      0.11      0.20        54\n",
      "   macro avg       0.29      0.11      0.15        54\n",
      "weighted avg       0.30      0.11      0.16        54\n",
      " samples avg       0.11      0.11      0.11        54\n",
      "\n",
      "RUN: 9-------------------------------------------------------------------------\n",
      "              precision    recall  f1-score   support\n",
      "\n",
      "           0       0.81      0.68      0.74        19\n",
      "           1       0.80      0.36      0.50        22\n",
      "           2       0.00      0.00      0.00        13\n",
      "\n",
      "   micro avg       0.81      0.39      0.53        54\n",
      "   macro avg       0.54      0.35      0.41        54\n",
      "weighted avg       0.61      0.39      0.47        54\n",
      " samples avg       0.39      0.39      0.39        54\n",
      "\n"
     ]
    }
   ],
   "source": [
    "for i in range(10):\n",
    "    print('RUN: '+np.str(i)+'-------------------------------------------------------------------------')\n",
    "    print(cla_report[i])"
   ]
  },
  {
   "cell_type": "code",
   "execution_count": 136,
   "id": "institutional-sculpture",
   "metadata": {},
   "outputs": [
    {
     "data": {
      "text/plain": [
       "Text(0, 0.5, 'MSE')"
      ]
     },
     "execution_count": 136,
     "metadata": {},
     "output_type": "execute_result"
    },
    {
     "data": {
      "image/png": "[encoded data removed]",
      "text/plain": [
       "<Figure size 720x720 with 1 Axes>"
      ]
     },
     "metadata": {
      "needs_background": "light"
     },
     "output_type": "display_data"
    }
   ],
   "source": [
    "plt.figure(figsize = (10,10))\n",
    "sns.boxplot(data=mseval_elm.T)\n",
    "plt.xlabel('Iterations')\n",
    "plt.ylabel('MSE')"
   ]
  },
  {
   "cell_type": "code",
   "execution_count": 137,
   "id": "capital-waters",
   "metadata": {},
   "outputs": [],
   "source": [
    "boxplot = pd.concat((boxplot, mseval_elm.T), ignore_index=True, axis=1)"
   ]
  },
  {
   "cell_type": "markdown",
   "id": "involved-argentina",
   "metadata": {},
   "source": [
    "### 10 Neurons"
   ]
  },
  {
   "cell_type": "code",
   "execution_count": 138,
   "id": "composite-zimbabwe",
   "metadata": {},
   "outputs": [
    {
     "name": "stderr",
     "output_type": "stream",
     "text": [
      "C:\\Users\\thiag\\miniconda3\\lib\\site-packages\\sklearn\\metrics\\_classification.py:1221: UndefinedMetricWarning: Precision and F-score are ill-defined and being set to 0.0 in samples with no predicted labels. Use `zero_division` parameter to control this behavior.\n",
      "  _warn_prf(average, modifier, msg_start, len(result))\n",
      "C:\\Users\\thiag\\miniconda3\\lib\\site-packages\\sklearn\\metrics\\_classification.py:1221: UndefinedMetricWarning: Precision and F-score are ill-defined and being set to 0.0 in samples with no predicted labels. Use `zero_division` parameter to control this behavior.\n",
      "  _warn_prf(average, modifier, msg_start, len(result))\n",
      "C:\\Users\\thiag\\miniconda3\\lib\\site-packages\\sklearn\\metrics\\_classification.py:1221: UndefinedMetricWarning: Precision and F-score are ill-defined and being set to 0.0 in samples with no predicted labels. Use `zero_division` parameter to control this behavior.\n",
      "  _warn_prf(average, modifier, msg_start, len(result))\n",
      "C:\\Users\\thiag\\miniconda3\\lib\\site-packages\\sklearn\\metrics\\_classification.py:1221: UndefinedMetricWarning: Precision and F-score are ill-defined and being set to 0.0 in samples with no predicted labels. Use `zero_division` parameter to control this behavior.\n",
      "  _warn_prf(average, modifier, msg_start, len(result))\n",
      "C:\\Users\\thiag\\miniconda3\\lib\\site-packages\\sklearn\\metrics\\_classification.py:1221: UndefinedMetricWarning: Precision and F-score are ill-defined and being set to 0.0 in samples with no predicted labels. Use `zero_division` parameter to control this behavior.\n",
      "  _warn_prf(average, modifier, msg_start, len(result))\n",
      "C:\\Users\\thiag\\miniconda3\\lib\\site-packages\\sklearn\\metrics\\_classification.py:1221: UndefinedMetricWarning: Precision and F-score are ill-defined and being set to 0.0 in samples with no predicted labels. Use `zero_division` parameter to control this behavior.\n",
      "  _warn_prf(average, modifier, msg_start, len(result))\n",
      "C:\\Users\\thiag\\miniconda3\\lib\\site-packages\\sklearn\\metrics\\_classification.py:1221: UndefinedMetricWarning: Precision and F-score are ill-defined and being set to 0.0 in samples with no predicted labels. Use `zero_division` parameter to control this behavior.\n",
      "  _warn_prf(average, modifier, msg_start, len(result))\n",
      "C:\\Users\\thiag\\miniconda3\\lib\\site-packages\\sklearn\\metrics\\_classification.py:1221: UndefinedMetricWarning: Precision and F-score are ill-defined and being set to 0.0 in samples with no predicted labels. Use `zero_division` parameter to control this behavior.\n",
      "  _warn_prf(average, modifier, msg_start, len(result))\n",
      "C:\\Users\\thiag\\miniconda3\\lib\\site-packages\\sklearn\\metrics\\_classification.py:1221: UndefinedMetricWarning: Precision and F-score are ill-defined and being set to 0.0 in samples with no predicted labels. Use `zero_division` parameter to control this behavior.\n",
      "  _warn_prf(average, modifier, msg_start, len(result))\n",
      "C:\\Users\\thiag\\miniconda3\\lib\\site-packages\\sklearn\\metrics\\_classification.py:1221: UndefinedMetricWarning: Precision and F-score are ill-defined and being set to 0.0 in samples with no predicted labels. Use `zero_division` parameter to control this behavior.\n",
      "  _warn_prf(average, modifier, msg_start, len(result))\n"
     ]
    }
   ],
   "source": [
    "mse_elm      = pd.DataFrame()\n",
    "mseval_elm   = pd.DataFrame()\n",
    "cla_report   = []\n",
    "\n",
    "for i in np.arange(1,11,1):\n",
    "    elm = ELM(Xtrain=Xtrain_wine, ytrain=ytrain_wine, Xval=Xval_wine, yval=yval_wine, n1=10)\n",
    "    elm.fit()\n",
    "    \n",
    "    mse_elm[np.str(i)]    = elm.mse.reset_index()[0]\n",
    "    mseval_elm[np.str(i)] = elm.mseval.reset_index()[0]\n",
    " \n",
    "    y = pd.DataFrame(elm.predict(Xtest_wine.values, act_func='biStep').values,columns=wine.target_names)\n",
    "    y.replace(-1,0,inplace=True)\n",
    "    \n",
    "    cla_report = np.append(cla_report,classification_report(y_true=ytest_wine, y_pred=y))   "
   ]
  },
  {
   "cell_type": "code",
   "execution_count": 139,
   "id": "catholic-radical",
   "metadata": {
    "scrolled": false
   },
   "outputs": [
    {
     "name": "stdout",
     "output_type": "stream",
     "text": [
      "RUN: 0-------------------------------------------------------------------------\n",
      "              precision    recall  f1-score   support\n",
      "\n",
      "           0       1.00      0.53      0.69        19\n",
      "           1       0.67      0.73      0.70        22\n",
      "           2       1.00      0.69      0.82        13\n",
      "\n",
      "   micro avg       0.81      0.65      0.72        54\n",
      "   macro avg       0.89      0.65      0.73        54\n",
      "weighted avg       0.86      0.65      0.72        54\n",
      " samples avg       0.65      0.65      0.65        54\n",
      "\n",
      "RUN: 1-------------------------------------------------------------------------\n",
      "              precision    recall  f1-score   support\n",
      "\n",
      "           0       0.94      0.84      0.89        19\n",
      "           1       0.83      0.91      0.87        22\n",
      "           2       0.91      0.77      0.83        13\n",
      "\n",
      "   micro avg       0.88      0.85      0.87        54\n",
      "   macro avg       0.89      0.84      0.86        54\n",
      "weighted avg       0.89      0.85      0.87        54\n",
      " samples avg       0.83      0.85      0.84        54\n",
      "\n",
      "RUN: 2-------------------------------------------------------------------------\n",
      "              precision    recall  f1-score   support\n",
      "\n",
      "           0       0.88      0.79      0.83        19\n",
      "           1       0.77      0.77      0.77        22\n",
      "           2       0.85      0.85      0.85        13\n",
      "\n",
      "   micro avg       0.83      0.80      0.81        54\n",
      "   macro avg       0.83      0.80      0.82        54\n",
      "weighted avg       0.83      0.80      0.81        54\n",
      " samples avg       0.80      0.80      0.80        54\n",
      "\n",
      "RUN: 3-------------------------------------------------------------------------\n",
      "              precision    recall  f1-score   support\n",
      "\n",
      "           0       1.00      0.58      0.73        19\n",
      "           1       0.73      1.00      0.85        22\n",
      "           2       1.00      0.62      0.76        13\n",
      "\n",
      "   micro avg       0.84      0.76      0.80        54\n",
      "   macro avg       0.91      0.73      0.78        54\n",
      "weighted avg       0.89      0.76      0.79        54\n",
      " samples avg       0.74      0.76      0.75        54\n",
      "\n",
      "RUN: 4-------------------------------------------------------------------------\n",
      "              precision    recall  f1-score   support\n",
      "\n",
      "           0       1.00      0.58      0.73        19\n",
      "           1       0.75      0.41      0.53        22\n",
      "           2       0.65      0.85      0.73        13\n",
      "\n",
      "   micro avg       0.78      0.57      0.66        54\n",
      "   macro avg       0.80      0.61      0.67        54\n",
      "weighted avg       0.81      0.57      0.65        54\n",
      " samples avg       0.56      0.57      0.57        54\n",
      "\n",
      "RUN: 5-------------------------------------------------------------------------\n",
      "              precision    recall  f1-score   support\n",
      "\n",
      "           0       1.00      0.63      0.77        19\n",
      "           1       0.79      0.86      0.83        22\n",
      "           2       0.60      0.46      0.52        13\n",
      "\n",
      "   micro avg       0.80      0.69      0.74        54\n",
      "   macro avg       0.80      0.65      0.71        54\n",
      "weighted avg       0.82      0.69      0.73        54\n",
      " samples avg       0.66      0.69      0.67        54\n",
      "\n",
      "RUN: 6-------------------------------------------------------------------------\n",
      "              precision    recall  f1-score   support\n",
      "\n",
      "           0       0.87      0.68      0.76        19\n",
      "           1       0.91      0.95      0.93        22\n",
      "           2       0.91      0.77      0.83        13\n",
      "\n",
      "   micro avg       0.90      0.81      0.85        54\n",
      "   macro avg       0.90      0.80      0.84        54\n",
      "weighted avg       0.90      0.81      0.85        54\n",
      " samples avg       0.81      0.81      0.81        54\n",
      "\n",
      "RUN: 7-------------------------------------------------------------------------\n",
      "              precision    recall  f1-score   support\n",
      "\n",
      "           0       1.00      0.79      0.88        19\n",
      "           1       0.80      0.73      0.76        22\n",
      "           2       0.67      0.92      0.77        13\n",
      "\n",
      "   micro avg       0.81      0.80      0.80        54\n",
      "   macro avg       0.82      0.81      0.81        54\n",
      "weighted avg       0.84      0.80      0.81        54\n",
      " samples avg       0.78      0.80      0.78        54\n",
      "\n",
      "RUN: 8-------------------------------------------------------------------------\n",
      "              precision    recall  f1-score   support\n",
      "\n",
      "           0       0.92      0.63      0.75        19\n",
      "           1       0.75      0.82      0.78        22\n",
      "           2       0.64      0.69      0.67        13\n",
      "\n",
      "   micro avg       0.76      0.72      0.74        54\n",
      "   macro avg       0.77      0.71      0.73        54\n",
      "weighted avg       0.79      0.72      0.74        54\n",
      " samples avg       0.69      0.72      0.70        54\n",
      "\n",
      "RUN: 9-------------------------------------------------------------------------\n",
      "              precision    recall  f1-score   support\n",
      "\n",
      "           0       0.94      0.84      0.89        19\n",
      "           1       0.86      0.86      0.86        22\n",
      "           2       0.77      0.77      0.77        13\n",
      "\n",
      "   micro avg       0.87      0.83      0.85        54\n",
      "   macro avg       0.86      0.82      0.84        54\n",
      "weighted avg       0.87      0.83      0.85        54\n",
      " samples avg       0.81      0.83      0.82        54\n",
      "\n"
     ]
    }
   ],
   "source": [
    "for i in range(10):\n",
    "    print('RUN: '+np.str(i)+'-------------------------------------------------------------------------')\n",
    "    print(cla_report[i])"
   ]
  },
  {
   "cell_type": "code",
   "execution_count": 140,
   "id": "photographic-respondent",
   "metadata": {},
   "outputs": [
    {
     "data": {
      "text/plain": [
       "Text(0, 0.5, 'MSE')"
      ]
     },
     "execution_count": 140,
     "metadata": {},
     "output_type": "execute_result"
    },
    {
     "data": {
      "image/png": "[encoded data removed]",
      "text/plain": [
       "<Figure size 720x720 with 1 Axes>"
      ]
     },
     "metadata": {
      "needs_background": "light"
     },
     "output_type": "display_data"
    }
   ],
   "source": [
    "plt.figure(figsize = (10,10))\n",
    "sns.boxplot(data=mseval_elm.T)\n",
    "plt.xlabel('Iterations')\n",
    "plt.ylabel('MSE')"
   ]
  },
  {
   "cell_type": "code",
   "execution_count": 141,
   "id": "satisfied-closing",
   "metadata": {},
   "outputs": [],
   "source": [
    "boxplot = pd.concat((boxplot, mseval_elm.T), ignore_index=True, axis=1)"
   ]
  },
  {
   "cell_type": "markdown",
   "id": "infinite-review",
   "metadata": {},
   "source": [
    "### 50 Neurons"
   ]
  },
  {
   "cell_type": "code",
   "execution_count": 148,
   "id": "revolutionary-citizen",
   "metadata": {},
   "outputs": [
    {
     "name": "stderr",
     "output_type": "stream",
     "text": [
      "C:\\Users\\thiag\\miniconda3\\lib\\site-packages\\sklearn\\metrics\\_classification.py:1221: UndefinedMetricWarning: Precision and F-score are ill-defined and being set to 0.0 in samples with no predicted labels. Use `zero_division` parameter to control this behavior.\n",
      "  _warn_prf(average, modifier, msg_start, len(result))\n",
      "C:\\Users\\thiag\\miniconda3\\lib\\site-packages\\sklearn\\metrics\\_classification.py:1221: UndefinedMetricWarning: Precision and F-score are ill-defined and being set to 0.0 in samples with no predicted labels. Use `zero_division` parameter to control this behavior.\n",
      "  _warn_prf(average, modifier, msg_start, len(result))\n",
      "C:\\Users\\thiag\\miniconda3\\lib\\site-packages\\sklearn\\metrics\\_classification.py:1221: UndefinedMetricWarning: Precision and F-score are ill-defined and being set to 0.0 in samples with no predicted labels. Use `zero_division` parameter to control this behavior.\n",
      "  _warn_prf(average, modifier, msg_start, len(result))\n",
      "C:\\Users\\thiag\\miniconda3\\lib\\site-packages\\sklearn\\metrics\\_classification.py:1221: UndefinedMetricWarning: Precision and F-score are ill-defined and being set to 0.0 in samples with no predicted labels. Use `zero_division` parameter to control this behavior.\n",
      "  _warn_prf(average, modifier, msg_start, len(result))\n",
      "C:\\Users\\thiag\\miniconda3\\lib\\site-packages\\sklearn\\metrics\\_classification.py:1221: UndefinedMetricWarning: Precision and F-score are ill-defined and being set to 0.0 in samples with no predicted labels. Use `zero_division` parameter to control this behavior.\n",
      "  _warn_prf(average, modifier, msg_start, len(result))\n",
      "C:\\Users\\thiag\\miniconda3\\lib\\site-packages\\sklearn\\metrics\\_classification.py:1221: UndefinedMetricWarning: Precision and F-score are ill-defined and being set to 0.0 in samples with no predicted labels. Use `zero_division` parameter to control this behavior.\n",
      "  _warn_prf(average, modifier, msg_start, len(result))\n",
      "C:\\Users\\thiag\\miniconda3\\lib\\site-packages\\sklearn\\metrics\\_classification.py:1221: UndefinedMetricWarning: Precision and F-score are ill-defined and being set to 0.0 in samples with no predicted labels. Use `zero_division` parameter to control this behavior.\n",
      "  _warn_prf(average, modifier, msg_start, len(result))\n",
      "C:\\Users\\thiag\\miniconda3\\lib\\site-packages\\sklearn\\metrics\\_classification.py:1221: UndefinedMetricWarning: Precision and F-score are ill-defined and being set to 0.0 in samples with no predicted labels. Use `zero_division` parameter to control this behavior.\n",
      "  _warn_prf(average, modifier, msg_start, len(result))\n",
      "C:\\Users\\thiag\\miniconda3\\lib\\site-packages\\sklearn\\metrics\\_classification.py:1221: UndefinedMetricWarning: Precision and F-score are ill-defined and being set to 0.0 in samples with no predicted labels. Use `zero_division` parameter to control this behavior.\n",
      "  _warn_prf(average, modifier, msg_start, len(result))\n"
     ]
    }
   ],
   "source": [
    "mse_elm      = pd.DataFrame()\n",
    "mseval_elm   = pd.DataFrame()\n",
    "cla_report   = []\n",
    "\n",
    "for i in np.arange(1,11,1):\n",
    "    elm = ELM(Xtrain=Xtrain_wine, ytrain=ytrain_wine, Xval=Xval_wine, yval=yval_wine, n1=50)\n",
    "    elm.fit()\n",
    "    \n",
    "    mse_elm[np.str(i)]    = elm.mse.reset_index()[0]\n",
    "    mseval_elm[np.str(i)] = elm.mseval.reset_index()[0]\n",
    " \n",
    "    y = pd.DataFrame(elm.predict(Xtest_wine.values, act_func='biStep').values,columns=wine.target_names)\n",
    "    y.replace(-1,0,inplace=True)\n",
    "    \n",
    "    cla_report = np.append(cla_report,classification_report(y_true=ytest_wine, y_pred=y))   "
   ]
  },
  {
   "cell_type": "code",
   "execution_count": 149,
   "id": "unsigned-asset",
   "metadata": {
    "scrolled": false
   },
   "outputs": [
    {
     "name": "stdout",
     "output_type": "stream",
     "text": [
      "RUN: 0-------------------------------------------------------------------------\n",
      "              precision    recall  f1-score   support\n",
      "\n",
      "           0       0.90      1.00      0.95        19\n",
      "           1       0.80      0.91      0.85        22\n",
      "           2       0.86      0.92      0.89        13\n",
      "\n",
      "   micro avg       0.85      0.94      0.89        54\n",
      "   macro avg       0.85      0.94      0.90        54\n",
      "weighted avg       0.85      0.94      0.89        54\n",
      " samples avg       0.89      0.94      0.91        54\n",
      "\n",
      "RUN: 1-------------------------------------------------------------------------\n",
      "              precision    recall  f1-score   support\n",
      "\n",
      "           0       0.94      0.84      0.89        19\n",
      "           1       0.76      0.73      0.74        22\n",
      "           2       0.63      0.92      0.75        13\n",
      "\n",
      "   micro avg       0.77      0.81      0.79        54\n",
      "   macro avg       0.78      0.83      0.79        54\n",
      "weighted avg       0.79      0.81      0.80        54\n",
      " samples avg       0.77      0.81      0.78        54\n",
      "\n",
      "RUN: 2-------------------------------------------------------------------------\n",
      "              precision    recall  f1-score   support\n",
      "\n",
      "           0       0.80      0.84      0.82        19\n",
      "           1       0.90      0.86      0.88        22\n",
      "           2       0.75      0.92      0.83        13\n",
      "\n",
      "   micro avg       0.82      0.87      0.85        54\n",
      "   macro avg       0.82      0.88      0.84        54\n",
      "weighted avg       0.83      0.87      0.85        54\n",
      " samples avg       0.81      0.87      0.83        54\n",
      "\n",
      "RUN: 3-------------------------------------------------------------------------\n",
      "              precision    recall  f1-score   support\n",
      "\n",
      "           0       0.89      0.84      0.86        19\n",
      "           1       0.67      0.73      0.70        22\n",
      "           2       0.61      0.85      0.71        13\n",
      "\n",
      "   micro avg       0.72      0.80      0.75        54\n",
      "   macro avg       0.72      0.81      0.76        54\n",
      "weighted avg       0.73      0.80      0.76        54\n",
      " samples avg       0.73      0.80      0.75        54\n",
      "\n",
      "RUN: 4-------------------------------------------------------------------------\n",
      "              precision    recall  f1-score   support\n",
      "\n",
      "           0       0.94      0.89      0.92        19\n",
      "           1       0.83      0.91      0.87        22\n",
      "           2       0.65      0.85      0.73        13\n",
      "\n",
      "   micro avg       0.81      0.89      0.85        54\n",
      "   macro avg       0.81      0.88      0.84        54\n",
      "weighted avg       0.83      0.89      0.85        54\n",
      " samples avg       0.83      0.89      0.85        54\n",
      "\n",
      "RUN: 5-------------------------------------------------------------------------\n",
      "              precision    recall  f1-score   support\n",
      "\n",
      "           0       0.94      0.84      0.89        19\n",
      "           1       0.66      0.95      0.78        22\n",
      "           2       0.85      0.85      0.85        13\n",
      "\n",
      "   micro avg       0.77      0.89      0.83        54\n",
      "   macro avg       0.81      0.88      0.84        54\n",
      "weighted avg       0.80      0.89      0.83        54\n",
      " samples avg       0.81      0.89      0.84        54\n",
      "\n",
      "RUN: 6-------------------------------------------------------------------------\n",
      "              precision    recall  f1-score   support\n",
      "\n",
      "           0       0.94      0.79      0.86        19\n",
      "           1       0.69      0.82      0.75        22\n",
      "           2       0.63      0.92      0.75        13\n",
      "\n",
      "   micro avg       0.74      0.83      0.78        54\n",
      "   macro avg       0.75      0.84      0.79        54\n",
      "weighted avg       0.76      0.83      0.79        54\n",
      " samples avg       0.76      0.83      0.78        54\n",
      "\n",
      "RUN: 7-------------------------------------------------------------------------\n",
      "              precision    recall  f1-score   support\n",
      "\n",
      "           0       0.89      0.89      0.89        19\n",
      "           1       0.72      0.82      0.77        22\n",
      "           2       0.63      0.92      0.75        13\n",
      "\n",
      "   micro avg       0.75      0.87      0.80        54\n",
      "   macro avg       0.75      0.88      0.80        54\n",
      "weighted avg       0.76      0.87      0.81        54\n",
      " samples avg       0.79      0.87      0.81        54\n",
      "\n",
      "RUN: 8-------------------------------------------------------------------------\n",
      "              precision    recall  f1-score   support\n",
      "\n",
      "           0       0.86      1.00      0.93        19\n",
      "           1       0.88      0.68      0.77        22\n",
      "           2       0.60      0.92      0.73        13\n",
      "\n",
      "   micro avg       0.78      0.85      0.81        54\n",
      "   macro avg       0.78      0.87      0.81        54\n",
      "weighted avg       0.81      0.85      0.81        54\n",
      " samples avg       0.80      0.85      0.81        54\n",
      "\n",
      "RUN: 9-------------------------------------------------------------------------\n",
      "              precision    recall  f1-score   support\n",
      "\n",
      "           0       0.88      0.74      0.80        19\n",
      "           1       0.74      0.91      0.82        22\n",
      "           2       0.62      0.77      0.69        13\n",
      "\n",
      "   micro avg       0.75      0.81      0.78        54\n",
      "   macro avg       0.75      0.81      0.77        54\n",
      "weighted avg       0.76      0.81      0.78        54\n",
      " samples avg       0.75      0.81      0.77        54\n",
      "\n"
     ]
    }
   ],
   "source": [
    "for i in range(10):\n",
    "    print('RUN: '+np.str(i)+'-------------------------------------------------------------------------')\n",
    "    print(cla_report[i])"
   ]
  },
  {
   "cell_type": "code",
   "execution_count": 150,
   "id": "tough-berry",
   "metadata": {},
   "outputs": [
    {
     "data": {
      "text/plain": [
       "Text(0, 0.5, 'MSE')"
      ]
     },
     "execution_count": 150,
     "metadata": {},
     "output_type": "execute_result"
    },
    {
     "data": {
      "image/png": "[encoded data removed]",
      "text/plain": [
       "<Figure size 720x720 with 1 Axes>"
      ]
     },
     "metadata": {
      "needs_background": "light"
     },
     "output_type": "display_data"
    }
   ],
   "source": [
    "plt.figure(figsize = (10,10))\n",
    "sns.boxplot(data=mseval_elm.T)\n",
    "plt.xlabel('Iterations')\n",
    "plt.ylabel('MSE')"
   ]
  },
  {
   "cell_type": "code",
   "execution_count": 151,
   "id": "supreme-tutorial",
   "metadata": {},
   "outputs": [],
   "source": [
    "boxplot = pd.concat((boxplot, mseval_elm.T), ignore_index=True, axis=1)"
   ]
  },
  {
   "cell_type": "code",
   "execution_count": 152,
   "id": "searching-diameter",
   "metadata": {},
   "outputs": [
    {
     "data": {
      "text/plain": [
       "Text(0, 0.5, 'MSE')"
      ]
     },
     "execution_count": 152,
     "metadata": {},
     "output_type": "execute_result"
    },
    {
     "data": {
      "image/png": "[encoded data removed]",
      "text/plain": [
       "<Figure size 720x720 with 1 Axes>"
      ]
     },
     "metadata": {
      "needs_background": "light"
     },
     "output_type": "display_data"
    }
   ],
   "source": [
    "a = pd.DataFrame(boxplot.values, columns=['1N', '10N', '50N'])\n",
    "plt.figure(figsize = (10,10))\n",
    "sns.boxplot(data=a)\n",
    "plt.ylabel('MSE')"
   ]
  }
 ],
 "metadata": {
  "kernelspec": {
   "display_name": "Python 3",
   "language": "python",
   "name": "python3"
  },
  "language_info": {
   "codemirror_mode": {
    "name": "ipython",
    "version": 3
   },
   "file_extension": ".py",
   "mimetype": "text/x-python",
   "name": "python",
   "nbconvert_exporter": "python",
   "pygments_lexer": "ipython3",
   "version": "3.8.5"
  }
 },
 "nbformat": 4,
 "nbformat_minor": 5
}
