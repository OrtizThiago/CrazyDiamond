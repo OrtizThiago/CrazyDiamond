{
 "cells": [
  {
   "cell_type": "markdown",
   "metadata": {},
   "source": [
    "# Lista 1"
   ]
  },
  {
   "cell_type": "markdown",
   "metadata": {},
   "source": [
    "# 1) Portas Lógicas"
   ]
  },
  {
   "cell_type": "markdown",
   "metadata": {},
   "source": [
    "### Perceptron:\n",
    "\n",
    "#### And\n",
    "Parada - iterações //\n",
    "amostras - 100\n",
    "lr - 0.01\n",
    "precisão 10^-6\n",
    "\n",
    "#### Or\n",
    "Parada - iterações\n",
    "amostras - 100\n",
    "lr - 0.05\n",
    "precisão 10^-6\n",
    "\n",
    "#### Xor\n",
    "Parada - iterações\n",
    "amostras - 100\n",
    "lr - 0.01\n",
    "precisão 10^-6\n",
    "\n",
    "### Adaline:\n",
    "\n",
    "#### And\n",
    "Parada - iterações \n",
    "amostras - 100\n",
    "lr - 0.7\n",
    "precisão 10^-6\n",
    "\n",
    "#### Or\n",
    "Parada - iterações \n",
    "amostras - 100\n",
    "lr - 0.001\n",
    "precisão 10^-6\n",
    "\n",
    "#### Xor\n",
    "Parada - iterações \n",
    "amostras - 100\n",
    "lr - 0.001\n",
    "precisão 10^-6\n",
    "\n"
   ]
  },
  {
   "cell_type": "markdown",
   "metadata": {},
   "source": [
    "## Standard Imports"
   ]
  },
  {
   "cell_type": "code",
   "execution_count": 1,
   "metadata": {},
   "outputs": [],
   "source": [
    "import numpy as np\n",
    "import pandas as pd\n",
    "import matplotlib.pyplot as plt\n",
    "import seaborn as sns\n",
    "import xlrd\n",
    "from sklearn.metrics import confusion_matrix, classification_report\n",
    "%matplotlib inline\n",
    "import sklearn as skl\n",
    "import plotly.graph_objects as go"
   ]
  },
  {
   "cell_type": "markdown",
   "metadata": {},
   "source": [
    "## Create Artificial Data"
   ]
  },
  {
   "cell_type": "code",
   "execution_count": 2,
   "metadata": {},
   "outputs": [
    {
     "data": {
      "text/html": [
       "<div>\n",
       "<style scoped>\n",
       "    .dataframe tbody tr th:only-of-type {\n",
       "        vertical-align: middle;\n",
       "    }\n",
       "\n",
       "    .dataframe tbody tr th {\n",
       "        vertical-align: top;\n",
       "    }\n",
       "\n",
       "    .dataframe thead th {\n",
       "        text-align: right;\n",
       "    }\n",
       "</style>\n",
       "<table border=\"1\" class=\"dataframe\">\n",
       "  <thead>\n",
       "    <tr style=\"text-align: right;\">\n",
       "      <th></th>\n",
       "      <th>x1</th>\n",
       "      <th>x2</th>\n",
       "      <th>And</th>\n",
       "      <th>Or</th>\n",
       "      <th>Xor</th>\n",
       "    </tr>\n",
       "  </thead>\n",
       "  <tbody>\n",
       "    <tr>\n",
       "      <th>0</th>\n",
       "      <td>1</td>\n",
       "      <td>1</td>\n",
       "      <td>True</td>\n",
       "      <td>True</td>\n",
       "      <td>False</td>\n",
       "    </tr>\n",
       "    <tr>\n",
       "      <th>1</th>\n",
       "      <td>0</td>\n",
       "      <td>0</td>\n",
       "      <td>False</td>\n",
       "      <td>False</td>\n",
       "      <td>False</td>\n",
       "    </tr>\n",
       "    <tr>\n",
       "      <th>2</th>\n",
       "      <td>1</td>\n",
       "      <td>1</td>\n",
       "      <td>True</td>\n",
       "      <td>True</td>\n",
       "      <td>False</td>\n",
       "    </tr>\n",
       "    <tr>\n",
       "      <th>3</th>\n",
       "      <td>0</td>\n",
       "      <td>0</td>\n",
       "      <td>False</td>\n",
       "      <td>False</td>\n",
       "      <td>False</td>\n",
       "    </tr>\n",
       "    <tr>\n",
       "      <th>4</th>\n",
       "      <td>0</td>\n",
       "      <td>1</td>\n",
       "      <td>False</td>\n",
       "      <td>True</td>\n",
       "      <td>True</td>\n",
       "    </tr>\n",
       "  </tbody>\n",
       "</table>\n",
       "</div>"
      ],
      "text/plain": [
       "   x1  x2    And     Or    Xor\n",
       "0   1   1   True   True  False\n",
       "1   0   0  False  False  False\n",
       "2   1   1   True   True  False\n",
       "3   0   0  False  False  False\n",
       "4   0   1  False   True   True"
      ]
     },
     "execution_count": 2,
     "metadata": {},
     "output_type": "execute_result"
    }
   ],
   "source": [
    "size = 200\n",
    "\n",
    "zerone = pd.DataFrame()\n",
    "zerone['x1']  = np.random.randint(0,2,size)\n",
    "zerone['x2']  = np.random.randint(0,2,size)\n",
    "zerone['And'] = np.logical_and(zerone.x1,zerone.x2)\n",
    "zerone['Or']  = np.logical_or(zerone.x1,zerone.x2)\n",
    "zerone['Xor'] = np.logical_xor(zerone.x1,zerone.x2)\n",
    "zerone.head()"
   ]
  },
  {
   "cell_type": "markdown",
   "metadata": {},
   "source": [
    "## Data preprocessing"
   ]
  },
  {
   "cell_type": "code",
   "execution_count": 3,
   "metadata": {},
   "outputs": [
    {
     "data": {
      "text/html": [
       "<div>\n",
       "<style scoped>\n",
       "    .dataframe tbody tr th:only-of-type {\n",
       "        vertical-align: middle;\n",
       "    }\n",
       "\n",
       "    .dataframe tbody tr th {\n",
       "        vertical-align: top;\n",
       "    }\n",
       "\n",
       "    .dataframe thead th {\n",
       "        text-align: right;\n",
       "    }\n",
       "</style>\n",
       "<table border=\"1\" class=\"dataframe\">\n",
       "  <thead>\n",
       "    <tr style=\"text-align: right;\">\n",
       "      <th></th>\n",
       "      <th>x1</th>\n",
       "      <th>x2</th>\n",
       "      <th>And</th>\n",
       "      <th>Or</th>\n",
       "      <th>Xor</th>\n",
       "    </tr>\n",
       "  </thead>\n",
       "  <tbody>\n",
       "    <tr>\n",
       "      <th>0</th>\n",
       "      <td>1</td>\n",
       "      <td>1</td>\n",
       "      <td>1</td>\n",
       "      <td>1</td>\n",
       "      <td>0</td>\n",
       "    </tr>\n",
       "    <tr>\n",
       "      <th>1</th>\n",
       "      <td>0</td>\n",
       "      <td>0</td>\n",
       "      <td>0</td>\n",
       "      <td>0</td>\n",
       "      <td>0</td>\n",
       "    </tr>\n",
       "    <tr>\n",
       "      <th>2</th>\n",
       "      <td>1</td>\n",
       "      <td>1</td>\n",
       "      <td>1</td>\n",
       "      <td>1</td>\n",
       "      <td>0</td>\n",
       "    </tr>\n",
       "    <tr>\n",
       "      <th>3</th>\n",
       "      <td>0</td>\n",
       "      <td>0</td>\n",
       "      <td>0</td>\n",
       "      <td>0</td>\n",
       "      <td>0</td>\n",
       "    </tr>\n",
       "    <tr>\n",
       "      <th>4</th>\n",
       "      <td>0</td>\n",
       "      <td>1</td>\n",
       "      <td>0</td>\n",
       "      <td>1</td>\n",
       "      <td>1</td>\n",
       "    </tr>\n",
       "  </tbody>\n",
       "</table>\n",
       "</div>"
      ],
      "text/plain": [
       "   x1  x2  And  Or  Xor\n",
       "0   1   1    1   1    0\n",
       "1   0   0    0   0    0\n",
       "2   1   1    1   1    0\n",
       "3   0   0    0   0    0\n",
       "4   0   1    0   1    1"
      ]
     },
     "execution_count": 3,
     "metadata": {},
     "output_type": "execute_result"
    }
   ],
   "source": [
    "#Boolean to int\n",
    "zerone = zerone*1\n",
    "zerone.head()"
   ]
  },
  {
   "cell_type": "markdown",
   "metadata": {},
   "source": [
    "### Train-Test Split"
   ]
  },
  {
   "cell_type": "code",
   "execution_count": 4,
   "metadata": {},
   "outputs": [],
   "source": [
    "from sklearn.model_selection import train_test_split"
   ]
  },
  {
   "cell_type": "code",
   "execution_count": 5,
   "metadata": {},
   "outputs": [],
   "source": [
    "#X_train, X_test, y_train, y_test = train_test_split(zerone[['x1','x2']],zerone[['And','Or','Xor']],\n",
    "#                                                    test_size=0.30)"
   ]
  },
  {
   "cell_type": "code",
   "execution_count": 6,
   "metadata": {},
   "outputs": [],
   "source": [
    "#y_test.reset_index(inplace=True)\n",
    "#y_test.drop(['index'],axis = 1, inplace=True)"
   ]
  },
  {
   "cell_type": "code",
   "execution_count": 7,
   "metadata": {},
   "outputs": [],
   "source": [
    "sep = 100\n",
    "X_train = zerone.iloc[:sep,:2]\n",
    "y_train = zerone.iloc[:sep,2:]\n",
    "\n",
    "X_test = zerone.iloc[sep:,:2]\n",
    "y_test = zerone.iloc[sep:,2:]"
   ]
  },
  {
   "cell_type": "markdown",
   "metadata": {},
   "source": [
    "# Perceptron"
   ]
  },
  {
   "cell_type": "code",
   "execution_count": 43,
   "metadata": {},
   "outputs": [],
   "source": [
    "class Perceptron(object):\n",
    "    \n",
    "    def __init__(self, Input, Output, Learning_Rate, epocs, precision):\n",
    "        self.lr      = Learning_Rate\n",
    "        self.d = Output.values\n",
    "        #self.x       = pd.DataFrame(np.insert(Input.values, 0, -1, axis = 1), columns=['teta','x1','x2','x3'])\n",
    "        self.x        = np.insert(Input.values, 0, -1, axis = 1)\n",
    "        #self.weights = np.random.random_sample(self.x.shape[1])\n",
    "        self.weights = np.random.normal(size=self.x.shape[1])\n",
    "        self.epc     = epocs\n",
    "        self.mse_    = []\n",
    "        self.mse     = pd.DataFrame()\n",
    "        self.precision = precision\n",
    "        self.scape = False\n",
    "        \n",
    "    def train_w(self):\n",
    "        for j in range(self.x.shape[0]):\n",
    "            self.xi = self.x[j]\n",
    "            self.di = self.d[j]\n",
    "            self.predict_w()\n",
    "            self.error = self.di-self.ui\n",
    "            self.mse_.append(self.error)\n",
    "            self.weights = self.weights + self.lr*self.xi*(self.di-self.yi)\n",
    "                                    \n",
    "    def predict_w(self):\n",
    "        self.ui = np.dot(self.xi,self.weights.T)\n",
    "        self.yi = ((self.ui>=0)*1)\n",
    "\n",
    "        \n",
    "    def train(self):\n",
    "        self.iteration = 0\n",
    "        while(self.scape == False):\n",
    "            self.mse_    = []\n",
    "            self.train_w()\n",
    "            self.MSE()\n",
    "            \n",
    "            self.iteration += 1\n",
    "            if self.iteration >= self.epc:\n",
    "                self.scape = True\n",
    "                \n",
    "            if (self.iteration <0):   \n",
    "                prec = np.absolute(self.mse.iloc[-1][0] - self.mse.iloc[-2][0])\n",
    "                if (prec < self.precision):\n",
    "                    self.scape = True\n",
    "            \n",
    "    def MSE(self):\n",
    "        error = np.square(self.mse_).mean()\n",
    "        error = pd.DataFrame([error])\n",
    "        self.mse = pd.concat((self.mse,error))\n",
    "            \n",
    "    \n",
    "    def predict(self,x):\n",
    "        \n",
    "        x.reset_index(inplace=True)\n",
    "        x.drop(['index'],axis = 1, inplace=True)\n",
    "        x = pd.concat((pd.DataFrame(np.ones(x.shape[0], dtype=np.int)*-1, columns=['teta']),x), axis = 1)\n",
    "        self.x_p = x\n",
    "        self.y_p = pd.DataFrame((self.weights*x).sum(axis=1),columns=['y'])\n",
    "        return (self.y_p>0)*1"
   ]
  },
  {
   "cell_type": "code",
   "execution_count": 97,
   "metadata": {},
   "outputs": [],
   "source": [
    "a = zerone[['And','Or','Xor']].replace(-1,0)\n",
    "zerone[['And','Or','Xor']] = a"
   ]
  },
  {
   "cell_type": "code",
   "execution_count": 106,
   "metadata": {},
   "outputs": [],
   "source": [
    "weights_perc = pd.DataFrame()\n",
    "init_w_perc  = pd.DataFrame()\n",
    "mse_perc     = pd.DataFrame()\n",
    "ite_perc     = []\n",
    "\n",
    "for i in np.arange(1,11,1):\n",
    "    perc = Perceptron(X_train, y_train['Xor'], 0.05, 100, 10**(-12))\n",
    "    init_w_perc = pd.concat((init_w_perc, pd.DataFrame(perc.weights).T))\n",
    "    perc.train()\n",
    "    weights_perc = pd.concat((weights_perc,pd.DataFrame(perc.weights).T))\n",
    "    mse_perc[np.str(i)] = perc.mse.reset_index()[0]\n",
    "    ite_perc.append(perc.iteration)\n",
    "    \n",
    "weights_perc.reset_index(inplace=True)\n",
    "weights_perc.drop(['index'],axis = 1, inplace=True)"
   ]
  },
  {
   "cell_type": "code",
   "execution_count": 107,
   "metadata": {},
   "outputs": [
    {
     "data": {
      "image/png": "[encoded data removed]",
      "text/plain": [
       "<Figure size 720x720 with 1 Axes>"
      ]
     },
     "metadata": {
      "needs_background": "light"
     },
     "output_type": "display_data"
    }
   ],
   "source": [
    "plt.figure(figsize = (10,10))\n",
    "plt.xlim([-.15, 1.15])\n",
    "plt.ylim([-.15, 1.15])\n",
    "sns.scatterplot(x=[0,0,1,1],y=[0,1,0,1])\n",
    "for i in range(weights_perc.shape[0]):\n",
    "    x1 = np.arange(-0.1,1.1,0.1)\n",
    "    w0 = weights_perc.iloc[i,0]\n",
    "    w1 = weights_perc.iloc[i,1]\n",
    "    w2 = weights_perc.iloc[i,2]\n",
    "    y_g= ((w0-(w1*x1))/w2)\n",
    "    plt.plot(x1,y_g, label='run: '+np.str(i+1))\n",
    "    plt.legend(loc='best')"
   ]
  },
  {
   "cell_type": "code",
   "execution_count": 108,
   "metadata": {
    "scrolled": false
   },
   "outputs": [
    {
     "data": {
      "text/plain": [
       "<matplotlib.legend.Legend at 0x1448efac610>"
      ]
     },
     "execution_count": 108,
     "metadata": {},
     "output_type": "execute_result"
    },
    {
     "data": {
      "image/png": "[encoded data removed]",
      "text/plain": [
       "<Figure size 720x720 with 1 Axes>"
      ]
     },
     "metadata": {
      "needs_background": "light"
     },
     "output_type": "display_data"
    }
   ],
   "source": [
    "plt.figure(figsize = (10,10))\n",
    "for i in range(mse_perc.shape[1]):\n",
    "    x = np.arange(0,mse_perc.shape[0],1)\n",
    "    plt.plot(x,mse_perc.iloc[:,i], label='run: '+np.str(i+1))\n",
    "plt.legend(loc='best')"
   ]
  },
  {
   "cell_type": "code",
   "execution_count": 109,
   "metadata": {},
   "outputs": [
    {
     "name": "stdout",
     "output_type": "stream",
     "text": [
      "              precision    recall  f1-score   support\n",
      "\n",
      "          -1       0.00      0.00      0.00      72.0\n",
      "           0       0.00      0.00      0.00       0.0\n",
      "           1       0.00      0.00      0.00      28.0\n",
      "\n",
      "    accuracy                           0.00     100.0\n",
      "   macro avg       0.00      0.00      0.00     100.0\n",
      "weighted avg       0.00      0.00      0.00     100.0\n",
      "\n"
     ]
    },
    {
     "name": "stderr",
     "output_type": "stream",
     "text": [
      "C:\\Users\\thiag\\miniconda3\\lib\\site-packages\\sklearn\\metrics\\_classification.py:1221: UndefinedMetricWarning: Precision and F-score are ill-defined and being set to 0.0 in labels with no predicted samples. Use `zero_division` parameter to control this behavior.\n",
      "  _warn_prf(average, modifier, msg_start, len(result))\n",
      "C:\\Users\\thiag\\miniconda3\\lib\\site-packages\\sklearn\\metrics\\_classification.py:1221: UndefinedMetricWarning: Recall and F-score are ill-defined and being set to 0.0 in labels with no true samples. Use `zero_division` parameter to control this behavior.\n",
      "  _warn_prf(average, modifier, msg_start, len(result))\n"
     ]
    }
   ],
   "source": [
    "y = perc.predict(X_test)\n",
    "y_test.reset_index(inplace=True)\n",
    "y_test.drop(['index'],axis = 1, inplace=True)\n",
    "print(classification_report(y_test['And'],y))"
   ]
  },
  {
   "cell_type": "markdown",
   "metadata": {},
   "source": [
    "# Adaline NN"
   ]
  },
  {
   "cell_type": "code",
   "execution_count": 86,
   "metadata": {},
   "outputs": [],
   "source": [
    "a = zerone[['And','Or','Xor']].replace(0,-1)\n",
    "zerone[['And','Or','Xor']] = a\n",
    "\n",
    "sep = 100\n",
    "X_train = zerone.iloc[:sep,:2]\n",
    "y_train = zerone.iloc[:sep,2:]\n",
    "X_test = zerone.iloc[sep:,:2]\n",
    "y_test = zerone.iloc[sep:,2:]"
   ]
  },
  {
   "cell_type": "code",
   "execution_count": 55,
   "metadata": {},
   "outputs": [],
   "source": [
    "class Adaline(object):\n",
    "    \n",
    "    def __init__(self, Input, Output, Learning_Rate, epocs, precision):\n",
    "        self.lr      = Learning_Rate\n",
    "        self.d = Output.values\n",
    "        #self.x       = pd.DataFrame(np.insert(Input.values, 0, -1, axis = 1), columns=['teta','x1','x2','x3'])\n",
    "        self.x        = np.insert(Input.values, 0, -1, axis = 1)\n",
    "        #self.weights = np.random.random_sample(self.x.shape[1])\n",
    "        self.weights = np.random.normal(size=self.x.shape[1])\n",
    "        self.epc     = epocs\n",
    "        self.mse_    = []\n",
    "        self.mse     = pd.DataFrame()\n",
    "        self.precision = precision\n",
    "        self.scape = False\n",
    "\n",
    "        \n",
    "    def train_w(self):\n",
    "        for i in np.arange(self.x.shape[0]):\n",
    "            self.xi = self.x[i]\n",
    "            self.di = self.d[i]\n",
    "            self.ui = np.dot(self.xi,self.weights)\n",
    "            #print(self.ui)\n",
    "            #self.predict_w()\n",
    "            self.error = self.di-self.ui\n",
    "            self.weights += (self.lr*self.error)*self.xi\n",
    "            self.mse_.append(self.error)\n",
    "                                    \n",
    "    def predict_w(self):\n",
    "        self.ui = np.dot(self.xi,self.weights)\n",
    "        \n",
    "                                    \n",
    "    def predict_w(self):\n",
    "        self.ui = np.dot(self.weights[0],self.xi)\n",
    "\n",
    "        \n",
    "    def train(self):\n",
    "        self.iteration = 0\n",
    "        while(self.scape == False):\n",
    "            self.mse_    = []\n",
    "            self.train_w()\n",
    "            self.MSE()\n",
    "            \n",
    "            self.iteration += 1\n",
    "            if self.iteration >= self.epc:\n",
    "                self.scape = True\n",
    "                \n",
    "            \n",
    "            if (self.precision > ada.mse.iloc[-1][0]):   \n",
    "                self.scape = True\n",
    "            \n",
    "    def MSE(self):\n",
    "        error = np.square(self.mse_).mean()\n",
    "        error = pd.DataFrame([error])\n",
    "        self.mse = pd.concat((self.mse,error))\n",
    "            \n",
    "    \n",
    "    def predict(self,x):\n",
    "        \n",
    "        self.x_p = np.insert(x.values, 0, -1, axis = 1)\n",
    "        self.y_p = pd.DataFrame((self.weights*self.x_p).sum(axis=1),columns=['y'])\n",
    "        return (self.y_p>=0)*1"
   ]
  },
  {
   "cell_type": "code",
   "execution_count": 38,
   "metadata": {},
   "outputs": [],
   "source": [
    "weights_ada = pd.DataFrame()\n",
    "init_w_ada  = pd.DataFrame()\n",
    "mse_ada     = pd.DataFrame()\n",
    "ite_ada     = []\n",
    "\n",
    "for i in np.arange(1,11,1):\n",
    "    ada = Adaline(X_train, y_train['Xor'], 0.01, 100, -1)\n",
    "    init_w_ada = pd.concat((init_w_ada, pd.DataFrame(ada.weights).T))\n",
    "    ada.train()\n",
    "    weights_ada = pd.concat((weights_ada, pd.DataFrame(ada.weights).T))\n",
    "    mse_ada[np.str(i)] = ada.mse.reset_index()[0]\n",
    "    ite_ada.append(ada.iteration)\n",
    "    \n",
    "weights_ada.reset_index(inplace=True)\n",
    "weights_ada.drop(['index'],axis = 1, inplace=True)"
   ]
  },
  {
   "cell_type": "code",
   "execution_count": 44,
   "metadata": {},
   "outputs": [
    {
     "data": {
      "text/plain": [
       "array([ 1,  1, -1, -1, -1, -1,  1, -1, -1,  1, -1, -1,  1,  1, -1,  1, -1,\n",
       "       -1, -1, -1,  1, -1, -1, -1,  1,  1, -1, -1, -1,  1,  1, -1, -1,  1,\n",
       "        1,  1,  1, -1,  1,  1, -1, -1,  1,  1, -1,  1, -1,  1, -1,  1,  1,\n",
       "       -1, -1,  1,  1,  1, -1,  1, -1, -1, -1,  1,  1, -1, -1,  1,  1,  1,\n",
       "        1, -1,  1,  1,  1,  1, -1, -1,  1,  1,  1, -1,  1,  1, -1,  1,  1,\n",
       "        1, -1,  1, -1, -1, -1,  1, -1,  1,  1, -1,  1, -1,  1, -1])"
      ]
     },
     "execution_count": 44,
     "metadata": {},
     "output_type": "execute_result"
    }
   ],
   "source": [
    "ada.d"
   ]
  },
  {
   "cell_type": "code",
   "execution_count": 68,
   "metadata": {},
   "outputs": [
    {
     "data": {
      "image/png": "[encoded data removed]",
      "text/plain": [
       "<Figure size 720x720 with 1 Axes>"
      ]
     },
     "metadata": {
      "needs_background": "light"
     },
     "output_type": "display_data"
    }
   ],
   "source": [
    "plt.figure(figsize = (10,10))\n",
    "plt.xlim([-.15, 1.15])\n",
    "plt.ylim([-.15, 1.15])\n",
    "sns.scatterplot(x=[0,0,1,1],y=[0,1,0,1])\n",
    "for i in range(weights_ada.shape[0]):\n",
    "    x1 = np.arange(0,1.1,0.1)\n",
    "    w0 = weights_ada.iloc[i,0]\n",
    "    w1 = weights_ada.iloc[i,1]\n",
    "    w2 = weights_ada.iloc[i,2]\n",
    "    y_g= (w0-w1*x1)/w2\n",
    "    plt.plot(x1,y_g, label='run: '+np.str(i+1))\n",
    "    plt.legend(loc='best')"
   ]
  },
  {
   "cell_type": "code",
   "execution_count": 69,
   "metadata": {
    "scrolled": false
   },
   "outputs": [
    {
     "data": {
      "text/plain": [
       "<matplotlib.legend.Legend at 0x1448ddab0a0>"
      ]
     },
     "execution_count": 69,
     "metadata": {},
     "output_type": "execute_result"
    },
    {
     "data": {
      "image/png": "[encoded data removed]",
      "text/plain": [
       "<Figure size 720x720 with 1 Axes>"
      ]
     },
     "metadata": {
      "needs_background": "light"
     },
     "output_type": "display_data"
    }
   ],
   "source": [
    "plt.figure(figsize = (10,10))\n",
    "for i in range(mse_ada.shape[1]):\n",
    "    x = np.arange(0,mse_ada.shape[0],1)\n",
    "    plt.plot(x,mse_ada.iloc[:,i], label='run: '+np.str(i+1))\n",
    "plt.legend(loc='best')"
   ]
  },
  {
   "cell_type": "markdown",
   "metadata": {},
   "source": [
    "# 2) Problema do Livro"
   ]
  },
  {
   "cell_type": "code",
   "execution_count": 3,
   "metadata": {
    "scrolled": true
   },
   "outputs": [],
   "source": [
    "xls = pd.read_excel('F:\\Desktop\\8P\\8P-2\\Redes Neurais\\Listas\\Lista 1\\Lista1_Tabela_3.6_3.3.xls')"
   ]
  },
  {
   "cell_type": "code",
   "execution_count": 4,
   "metadata": {},
   "outputs": [],
   "source": [
    "X_train = xls[['x1','x2','x3']]\n",
    "y_train = xls[['d']]"
   ]
  },
  {
   "cell_type": "code",
   "execution_count": 5,
   "metadata": {},
   "outputs": [],
   "source": [
    "def norm_ada(x):\n",
    "    xmin = x.min()\n",
    "    xmax = x.max()\n",
    "    x = np.array(x)\n",
    "    x = -1 + (2*((x-xmin)/(xmax-xmin)))\n",
    "    return x"
   ]
  },
  {
   "cell_type": "code",
   "execution_count": 6,
   "metadata": {},
   "outputs": [],
   "source": [
    "def norm_perc(x):\n",
    "    xmin = x.min()\n",
    "    xmax = x.max()\n",
    "    x = np.array(x)\n",
    "    x = ((x-xmin)/(xmax-xmin))\n",
    "    return x"
   ]
  },
  {
   "cell_type": "code",
   "execution_count": 24,
   "metadata": {},
   "outputs": [],
   "source": [
    "X_train_perc = X_train.apply(norm_perc, axis=0, result_type='broadcast',raw=True)\n",
    "y_train_perc = y_train.replace(-1,0)\n"
   ]
  },
  {
   "cell_type": "code",
   "execution_count": 8,
   "metadata": {},
   "outputs": [],
   "source": [
    "X_train_ada = X_train.apply(norm_ada, axis=0, result_type='broadcast',raw=True)\n",
    "y_train_ada = y_train"
   ]
  },
  {
   "cell_type": "code",
   "execution_count": 44,
   "metadata": {},
   "outputs": [],
   "source": [
    "X_train_perc = X_train_ada\n",
    "y_train_perc = y_train_ada"
   ]
  },
  {
   "cell_type": "markdown",
   "metadata": {},
   "source": [
    "## Perceptron"
   ]
  },
  {
   "cell_type": "code",
   "execution_count": 45,
   "metadata": {},
   "outputs": [],
   "source": [
    "weights_perc = pd.DataFrame()\n",
    "init_w_perc  = pd.DataFrame()\n",
    "mse_perc     = pd.DataFrame()\n",
    "ite_perc     = []\n",
    "\n",
    "for i in np.arange(1,6,1):\n",
    "    perc = Perceptron(X_train_perc, y_train_perc, 0.001, 500, 0.000001)\n",
    "    init_w_perc = pd.concat((init_w_perc, pd.DataFrame(perc.weights).T))\n",
    "    perc.train()\n",
    "    weights_perc = pd.concat((weights_perc,pd.DataFrame(perc.weights).T))\n",
    "    mse_perc[np.str(i)] = perc.mse.reset_index()[0]\n",
    "    ite_perc.append(perc.iteration)\n",
    "    \n",
    "weights_perc.reset_index(inplace=True)\n",
    "weights_perc.drop(['index'],axis = 1, inplace=True)"
   ]
  },
  {
   "cell_type": "code",
   "execution_count": 46,
   "metadata": {},
   "outputs": [],
   "source": [
    "init_w_perc.reset_index(inplace=True)\n",
    "init_w_perc.drop(['index'],axis = 1, inplace=True)"
   ]
  },
  {
   "cell_type": "code",
   "execution_count": 47,
   "metadata": {},
   "outputs": [
    {
     "data": {
      "text/html": [
       "<div>\n",
       "<style scoped>\n",
       "    .dataframe tbody tr th:only-of-type {\n",
       "        vertical-align: middle;\n",
       "    }\n",
       "\n",
       "    .dataframe tbody tr th {\n",
       "        vertical-align: top;\n",
       "    }\n",
       "\n",
       "    .dataframe thead th {\n",
       "        text-align: right;\n",
       "    }\n",
       "</style>\n",
       "<table border=\"1\" class=\"dataframe\">\n",
       "  <thead>\n",
       "    <tr style=\"text-align: right;\">\n",
       "      <th></th>\n",
       "      <th>0</th>\n",
       "      <th>1</th>\n",
       "      <th>2</th>\n",
       "      <th>3</th>\n",
       "      <th>0</th>\n",
       "      <th>1</th>\n",
       "      <th>2</th>\n",
       "      <th>3</th>\n",
       "    </tr>\n",
       "  </thead>\n",
       "  <tbody>\n",
       "    <tr>\n",
       "      <th>0</th>\n",
       "      <td>-1.942647</td>\n",
       "      <td>-0.581519</td>\n",
       "      <td>1.511994</td>\n",
       "      <td>-0.483669</td>\n",
       "      <td>2.201353</td>\n",
       "      <td>0.265373</td>\n",
       "      <td>2.775245</td>\n",
       "      <td>-1.218671</td>\n",
       "    </tr>\n",
       "    <tr>\n",
       "      <th>1</th>\n",
       "      <td>0.572628</td>\n",
       "      <td>1.429543</td>\n",
       "      <td>1.418143</td>\n",
       "      <td>0.006850</td>\n",
       "      <td>2.342628</td>\n",
       "      <td>0.941552</td>\n",
       "      <td>3.110111</td>\n",
       "      <td>-1.851514</td>\n",
       "    </tr>\n",
       "    <tr>\n",
       "      <th>2</th>\n",
       "      <td>0.544254</td>\n",
       "      <td>0.473740</td>\n",
       "      <td>0.571310</td>\n",
       "      <td>0.040678</td>\n",
       "      <td>1.979254</td>\n",
       "      <td>0.452152</td>\n",
       "      <td>2.538434</td>\n",
       "      <td>-1.294423</td>\n",
       "    </tr>\n",
       "    <tr>\n",
       "      <th>3</th>\n",
       "      <td>-0.423148</td>\n",
       "      <td>-0.403913</td>\n",
       "      <td>0.833133</td>\n",
       "      <td>-0.035933</td>\n",
       "      <td>1.937852</td>\n",
       "      <td>0.153601</td>\n",
       "      <td>2.427441</td>\n",
       "      <td>-0.998805</td>\n",
       "    </tr>\n",
       "    <tr>\n",
       "      <th>4</th>\n",
       "      <td>-0.978959</td>\n",
       "      <td>-0.987478</td>\n",
       "      <td>0.723069</td>\n",
       "      <td>-1.109570</td>\n",
       "      <td>2.050041</td>\n",
       "      <td>0.288158</td>\n",
       "      <td>2.604227</td>\n",
       "      <td>-1.347126</td>\n",
       "    </tr>\n",
       "  </tbody>\n",
       "</table>\n",
       "</div>"
      ],
      "text/plain": [
       "          0         1         2         3         0         1         2  \\\n",
       "0 -1.942647 -0.581519  1.511994 -0.483669  2.201353  0.265373  2.775245   \n",
       "1  0.572628  1.429543  1.418143  0.006850  2.342628  0.941552  3.110111   \n",
       "2  0.544254  0.473740  0.571310  0.040678  1.979254  0.452152  2.538434   \n",
       "3 -0.423148 -0.403913  0.833133 -0.035933  1.937852  0.153601  2.427441   \n",
       "4 -0.978959 -0.987478  0.723069 -1.109570  2.050041  0.288158  2.604227   \n",
       "\n",
       "          3  \n",
       "0 -1.218671  \n",
       "1 -1.851514  \n",
       "2 -1.294423  \n",
       "3 -0.998805  \n",
       "4 -1.347126  "
      ]
     },
     "execution_count": 47,
     "metadata": {},
     "output_type": "execute_result"
    }
   ],
   "source": [
    "pd.concat((init_w_perc,weights_perc),axis=1)"
   ]
  },
  {
   "cell_type": "code",
   "execution_count": 48,
   "metadata": {},
   "outputs": [
    {
     "data": {
      "text/plain": [
       "[500, 500, 500, 500, 500]"
      ]
     },
     "execution_count": 48,
     "metadata": {},
     "output_type": "execute_result"
    }
   ],
   "source": [
    "ite_perc"
   ]
  },
  {
   "cell_type": "code",
   "execution_count": 49,
   "metadata": {},
   "outputs": [
    {
     "data": {
      "text/html": [
       "<div>\n",
       "<style scoped>\n",
       "    .dataframe tbody tr th:only-of-type {\n",
       "        vertical-align: middle;\n",
       "    }\n",
       "\n",
       "    .dataframe tbody tr th {\n",
       "        vertical-align: top;\n",
       "    }\n",
       "\n",
       "    .dataframe thead th {\n",
       "        text-align: right;\n",
       "    }\n",
       "</style>\n",
       "<table border=\"1\" class=\"dataframe\">\n",
       "  <thead>\n",
       "    <tr style=\"text-align: right;\">\n",
       "      <th></th>\n",
       "      <th>0</th>\n",
       "      <th>1</th>\n",
       "      <th>2</th>\n",
       "      <th>3</th>\n",
       "    </tr>\n",
       "  </thead>\n",
       "  <tbody>\n",
       "    <tr>\n",
       "      <th>0</th>\n",
       "      <td>2.201353</td>\n",
       "      <td>0.265373</td>\n",
       "      <td>2.775245</td>\n",
       "      <td>-1.218671</td>\n",
       "    </tr>\n",
       "    <tr>\n",
       "      <th>1</th>\n",
       "      <td>2.342628</td>\n",
       "      <td>0.941552</td>\n",
       "      <td>3.110111</td>\n",
       "      <td>-1.851514</td>\n",
       "    </tr>\n",
       "    <tr>\n",
       "      <th>2</th>\n",
       "      <td>1.979254</td>\n",
       "      <td>0.452152</td>\n",
       "      <td>2.538434</td>\n",
       "      <td>-1.294423</td>\n",
       "    </tr>\n",
       "    <tr>\n",
       "      <th>3</th>\n",
       "      <td>1.937852</td>\n",
       "      <td>0.153601</td>\n",
       "      <td>2.427441</td>\n",
       "      <td>-0.998805</td>\n",
       "    </tr>\n",
       "    <tr>\n",
       "      <th>4</th>\n",
       "      <td>2.050041</td>\n",
       "      <td>0.288158</td>\n",
       "      <td>2.604227</td>\n",
       "      <td>-1.347126</td>\n",
       "    </tr>\n",
       "  </tbody>\n",
       "</table>\n",
       "</div>"
      ],
      "text/plain": [
       "          0         1         2         3\n",
       "0  2.201353  0.265373  2.775245 -1.218671\n",
       "1  2.342628  0.941552  3.110111 -1.851514\n",
       "2  1.979254  0.452152  2.538434 -1.294423\n",
       "3  1.937852  0.153601  2.427441 -0.998805\n",
       "4  2.050041  0.288158  2.604227 -1.347126"
      ]
     },
     "execution_count": 49,
     "metadata": {},
     "output_type": "execute_result"
    }
   ],
   "source": [
    "weights_perc"
   ]
  },
  {
   "cell_type": "code",
   "execution_count": 50,
   "metadata": {},
   "outputs": [
    {
     "data": {
      "text/plain": [
       "<matplotlib.legend.Legend at 0x211ee3bed60>"
      ]
     },
     "execution_count": 50,
     "metadata": {},
     "output_type": "execute_result"
    },
    {
     "data": {
      "image/png": "[encoded data removed]",
      "text/plain": [
       "<Figure size 720x720 with 1 Axes>"
      ]
     },
     "metadata": {
      "needs_background": "light"
     },
     "output_type": "display_data"
    }
   ],
   "source": [
    "plt.figure(figsize = (10,10))\n",
    "for i in range(mse_perc.shape[1]):\n",
    "    x = np.arange(0,mse_perc.shape[0],1)\n",
    "    plt.plot(x,mse_perc.iloc[:,i], label='run: '+np.str(i+1))\n",
    "plt.legend(loc='best')"
   ]
  },
  {
   "cell_type": "code",
   "execution_count": 51,
   "metadata": {},
   "outputs": [],
   "source": [
    "tabela = table()\n",
    "tabela[[1,2,3]] = tabela[[1,2,3]].apply(norm_perc, axis=0, result_type='broadcast',raw=True)"
   ]
  },
  {
   "cell_type": "code",
   "execution_count": 52,
   "metadata": {},
   "outputs": [
    {
     "data": {
      "text/html": [
       "<div>\n",
       "<style scoped>\n",
       "    .dataframe tbody tr th:only-of-type {\n",
       "        vertical-align: middle;\n",
       "    }\n",
       "\n",
       "    .dataframe tbody tr th {\n",
       "        vertical-align: top;\n",
       "    }\n",
       "\n",
       "    .dataframe thead th {\n",
       "        text-align: right;\n",
       "    }\n",
       "</style>\n",
       "<table border=\"1\" class=\"dataframe\">\n",
       "  <thead>\n",
       "    <tr style=\"text-align: right;\">\n",
       "      <th></th>\n",
       "      <th>0</th>\n",
       "      <th>1</th>\n",
       "      <th>2</th>\n",
       "      <th>3</th>\n",
       "      <th>y1</th>\n",
       "      <th>y2</th>\n",
       "      <th>y3</th>\n",
       "      <th>y4</th>\n",
       "      <th>y5</th>\n",
       "    </tr>\n",
       "  </thead>\n",
       "  <tbody>\n",
       "    <tr>\n",
       "      <th>0</th>\n",
       "      <td>-1.0</td>\n",
       "      <td>0.570585</td>\n",
       "      <td>0.243391</td>\n",
       "      <td>0.694902</td>\n",
       "      <td>-2.221323</td>\n",
       "      <td>-2.335040</td>\n",
       "      <td>-2.002927</td>\n",
       "      <td>-1.953464</td>\n",
       "      <td>-2.187897</td>\n",
       "    </tr>\n",
       "    <tr>\n",
       "      <th>1</th>\n",
       "      <td>-1.0</td>\n",
       "      <td>0.413549</td>\n",
       "      <td>1.000000</td>\n",
       "      <td>0.636498</td>\n",
       "      <td>-0.092046</td>\n",
       "      <td>-0.021625</td>\n",
       "      <td>-0.077730</td>\n",
       "      <td>-0.082627</td>\n",
       "      <td>-0.184090</td>\n",
       "    </tr>\n",
       "    <tr>\n",
       "      <th>2</th>\n",
       "      <td>-1.0</td>\n",
       "      <td>0.821610</td>\n",
       "      <td>0.598067</td>\n",
       "      <td>0.670581</td>\n",
       "      <td>-1.140755</td>\n",
       "      <td>-0.950575</td>\n",
       "      <td>-0.957622</td>\n",
       "      <td>-1.029659</td>\n",
       "      <td>-1.159141</td>\n",
       "    </tr>\n",
       "    <tr>\n",
       "      <th>3</th>\n",
       "      <td>-1.0</td>\n",
       "      <td>1.000000</td>\n",
       "      <td>0.956012</td>\n",
       "      <td>1.000000</td>\n",
       "      <td>-0.501484</td>\n",
       "      <td>-0.279287</td>\n",
       "      <td>-0.394751</td>\n",
       "      <td>-0.462394</td>\n",
       "      <td>-0.619336</td>\n",
       "    </tr>\n",
       "    <tr>\n",
       "      <th>4</th>\n",
       "      <td>-1.0</td>\n",
       "      <td>0.767397</td>\n",
       "      <td>0.769827</td>\n",
       "      <td>0.741123</td>\n",
       "      <td>-0.764435</td>\n",
       "      <td>-0.598038</td>\n",
       "      <td>-0.637446</td>\n",
       "      <td>-0.691508</td>\n",
       "      <td>-0.822492</td>\n",
       "    </tr>\n",
       "    <tr>\n",
       "      <th>5</th>\n",
       "      <td>-1.0</td>\n",
       "      <td>0.444678</td>\n",
       "      <td>0.932419</td>\n",
       "      <td>0.344303</td>\n",
       "      <td>0.084752</td>\n",
       "      <td>0.338505</td>\n",
       "      <td>0.143020</td>\n",
       "      <td>0.049952</td>\n",
       "      <td>0.042508</td>\n",
       "    </tr>\n",
       "    <tr>\n",
       "      <th>6</th>\n",
       "      <td>-1.0</td>\n",
       "      <td>0.849280</td>\n",
       "      <td>0.308485</td>\n",
       "      <td>0.719062</td>\n",
       "      <td>-1.996157</td>\n",
       "      <td>-1.914918</td>\n",
       "      <td>-1.742952</td>\n",
       "      <td>-1.776776</td>\n",
       "      <td>-1.970616</td>\n",
       "    </tr>\n",
       "    <tr>\n",
       "      <th>7</th>\n",
       "      <td>-1.0</td>\n",
       "      <td>0.448212</td>\n",
       "      <td>0.867609</td>\n",
       "      <td>0.462505</td>\n",
       "      <td>-0.238223</td>\n",
       "      <td>-0.078586</td>\n",
       "      <td>-0.172901</td>\n",
       "      <td>-0.224888</td>\n",
       "      <td>-0.284485</td>\n",
       "    </tr>\n",
       "    <tr>\n",
       "      <th>8</th>\n",
       "      <td>-1.0</td>\n",
       "      <td>0.189932</td>\n",
       "      <td>0.706794</td>\n",
       "      <td>0.538904</td>\n",
       "      <td>-0.846172</td>\n",
       "      <td>-0.963379</td>\n",
       "      <td>-0.796796</td>\n",
       "      <td>-0.731239</td>\n",
       "      <td>-0.880631</td>\n",
       "    </tr>\n",
       "    <tr>\n",
       "      <th>9</th>\n",
       "      <td>-1.0</td>\n",
       "      <td>0.000000</td>\n",
       "      <td>0.000000</td>\n",
       "      <td>0.000000</td>\n",
       "      <td>-2.201353</td>\n",
       "      <td>-2.342628</td>\n",
       "      <td>-1.979254</td>\n",
       "      <td>-1.937852</td>\n",
       "      <td>-2.050041</td>\n",
       "    </tr>\n",
       "  </tbody>\n",
       "</table>\n",
       "</div>"
      ],
      "text/plain": [
       "     0         1         2         3        y1        y2        y3        y4  \\\n",
       "0 -1.0  0.570585  0.243391  0.694902 -2.221323 -2.335040 -2.002927 -1.953464   \n",
       "1 -1.0  0.413549  1.000000  0.636498 -0.092046 -0.021625 -0.077730 -0.082627   \n",
       "2 -1.0  0.821610  0.598067  0.670581 -1.140755 -0.950575 -0.957622 -1.029659   \n",
       "3 -1.0  1.000000  0.956012  1.000000 -0.501484 -0.279287 -0.394751 -0.462394   \n",
       "4 -1.0  0.767397  0.769827  0.741123 -0.764435 -0.598038 -0.637446 -0.691508   \n",
       "5 -1.0  0.444678  0.932419  0.344303  0.084752  0.338505  0.143020  0.049952   \n",
       "6 -1.0  0.849280  0.308485  0.719062 -1.996157 -1.914918 -1.742952 -1.776776   \n",
       "7 -1.0  0.448212  0.867609  0.462505 -0.238223 -0.078586 -0.172901 -0.224888   \n",
       "8 -1.0  0.189932  0.706794  0.538904 -0.846172 -0.963379 -0.796796 -0.731239   \n",
       "9 -1.0  0.000000  0.000000  0.000000 -2.201353 -2.342628 -1.979254 -1.937852   \n",
       "\n",
       "         y5  \n",
       "0 -2.187897  \n",
       "1 -0.184090  \n",
       "2 -1.159141  \n",
       "3 -0.619336  \n",
       "4 -0.822492  \n",
       "5  0.042508  \n",
       "6 -1.970616  \n",
       "7 -0.284485  \n",
       "8 -0.880631  \n",
       "9 -2.050041  "
      ]
     },
     "execution_count": 52,
     "metadata": {},
     "output_type": "execute_result"
    }
   ],
   "source": [
    "tabela['y1'] = np.dot(tabela[[0,1,2,3]],np.array(weights_perc.iloc[0]))\n",
    "tabela['y2'] = np.dot(tabela[[0,1,2,3]],np.array(weights_perc.iloc[1]))\n",
    "tabela['y3'] = np.dot(tabela[[0,1,2,3]],np.array(weights_perc.iloc[2]))\n",
    "tabela['y4'] = np.dot(tabela[[0,1,2,3]],np.array(weights_perc.iloc[3]))\n",
    "tabela['y5'] = np.dot(tabela[[0,1,2,3]],np.array(weights_perc.iloc[4]))\n",
    "tabela"
   ]
  },
  {
   "cell_type": "markdown",
   "metadata": {},
   "source": [
    "## Adaline"
   ]
  },
  {
   "cell_type": "code",
   "execution_count": 56,
   "metadata": {},
   "outputs": [],
   "source": [
    "weights_ada = pd.DataFrame()\n",
    "init_w_ada  = pd.DataFrame()\n",
    "mse_ada     = pd.DataFrame()\n",
    "ite_ada     = []\n",
    "\n",
    "for i in np.arange(1,6,1):\n",
    "    ada = Adaline(X_train_ada, y_train_ada, 0.01, 500, 0.000001)\n",
    "    init_w_ada = pd.concat((init_w_ada, pd.DataFrame(ada.weights).T))\n",
    "    ada.train()\n",
    "    weights_ada = pd.concat((weights_ada, pd.DataFrame(ada.weights).T))\n",
    "    mse_ada[np.str(i)] = ada.mse.reset_index()[0]\n",
    "    ite_ada.append(ada.iteration)\n",
    "    \n",
    "weights_ada.reset_index(inplace=True)\n",
    "weights_ada.drop(['index'],axis = 1, inplace=True)"
   ]
  },
  {
   "cell_type": "code",
   "execution_count": 57,
   "metadata": {},
   "outputs": [],
   "source": [
    "init_w_ada.reset_index(inplace=True)\n",
    "init_w_ada.drop(['index'],axis = 1, inplace=True)"
   ]
  },
  {
   "cell_type": "code",
   "execution_count": 58,
   "metadata": {},
   "outputs": [
    {
     "data": {
      "text/html": [
       "<div>\n",
       "<style scoped>\n",
       "    .dataframe tbody tr th:only-of-type {\n",
       "        vertical-align: middle;\n",
       "    }\n",
       "\n",
       "    .dataframe tbody tr th {\n",
       "        vertical-align: top;\n",
       "    }\n",
       "\n",
       "    .dataframe thead th {\n",
       "        text-align: right;\n",
       "    }\n",
       "</style>\n",
       "<table border=\"1\" class=\"dataframe\">\n",
       "  <thead>\n",
       "    <tr style=\"text-align: right;\">\n",
       "      <th></th>\n",
       "      <th>0</th>\n",
       "      <th>1</th>\n",
       "      <th>2</th>\n",
       "      <th>3</th>\n",
       "      <th>0</th>\n",
       "      <th>1</th>\n",
       "      <th>2</th>\n",
       "      <th>3</th>\n",
       "    </tr>\n",
       "  </thead>\n",
       "  <tbody>\n",
       "    <tr>\n",
       "      <th>0</th>\n",
       "      <td>0.591871</td>\n",
       "      <td>-2.170654</td>\n",
       "      <td>-0.705437</td>\n",
       "      <td>0.981314</td>\n",
       "      <td>0.032998</td>\n",
       "      <td>2.730675</td>\n",
       "      <td>1.540285</td>\n",
       "      <td>-3.344358</td>\n",
       "    </tr>\n",
       "    <tr>\n",
       "      <th>1</th>\n",
       "      <td>0.134552</td>\n",
       "      <td>0.626593</td>\n",
       "      <td>1.451664</td>\n",
       "      <td>0.122448</td>\n",
       "      <td>0.031660</td>\n",
       "      <td>2.846735</td>\n",
       "      <td>1.564812</td>\n",
       "      <td>-3.465414</td>\n",
       "    </tr>\n",
       "    <tr>\n",
       "      <th>2</th>\n",
       "      <td>-1.461214</td>\n",
       "      <td>0.594040</td>\n",
       "      <td>-0.206352</td>\n",
       "      <td>1.971785</td>\n",
       "      <td>0.032395</td>\n",
       "      <td>2.783006</td>\n",
       "      <td>1.551344</td>\n",
       "      <td>-3.398942</td>\n",
       "    </tr>\n",
       "    <tr>\n",
       "      <th>3</th>\n",
       "      <td>-0.257758</td>\n",
       "      <td>-0.336433</td>\n",
       "      <td>0.050425</td>\n",
       "      <td>1.242229</td>\n",
       "      <td>0.032439</td>\n",
       "      <td>2.779168</td>\n",
       "      <td>1.550533</td>\n",
       "      <td>-3.394939</td>\n",
       "    </tr>\n",
       "    <tr>\n",
       "      <th>4</th>\n",
       "      <td>0.409687</td>\n",
       "      <td>0.237403</td>\n",
       "      <td>-0.794880</td>\n",
       "      <td>1.005681</td>\n",
       "      <td>0.032239</td>\n",
       "      <td>2.796496</td>\n",
       "      <td>1.554195</td>\n",
       "      <td>-3.413013</td>\n",
       "    </tr>\n",
       "  </tbody>\n",
       "</table>\n",
       "</div>"
      ],
      "text/plain": [
       "          0         1         2         3         0         1         2  \\\n",
       "0  0.591871 -2.170654 -0.705437  0.981314  0.032998  2.730675  1.540285   \n",
       "1  0.134552  0.626593  1.451664  0.122448  0.031660  2.846735  1.564812   \n",
       "2 -1.461214  0.594040 -0.206352  1.971785  0.032395  2.783006  1.551344   \n",
       "3 -0.257758 -0.336433  0.050425  1.242229  0.032439  2.779168  1.550533   \n",
       "4  0.409687  0.237403 -0.794880  1.005681  0.032239  2.796496  1.554195   \n",
       "\n",
       "          3  \n",
       "0 -3.344358  \n",
       "1 -3.465414  \n",
       "2 -3.398942  \n",
       "3 -3.394939  \n",
       "4 -3.413013  "
      ]
     },
     "execution_count": 58,
     "metadata": {},
     "output_type": "execute_result"
    }
   ],
   "source": [
    "pd.concat((init_w_ada,weights_ada),axis=1)"
   ]
  },
  {
   "cell_type": "code",
   "execution_count": 59,
   "metadata": {},
   "outputs": [
    {
     "data": {
      "text/html": [
       "<div>\n",
       "<style scoped>\n",
       "    .dataframe tbody tr th:only-of-type {\n",
       "        vertical-align: middle;\n",
       "    }\n",
       "\n",
       "    .dataframe tbody tr th {\n",
       "        vertical-align: top;\n",
       "    }\n",
       "\n",
       "    .dataframe thead th {\n",
       "        text-align: right;\n",
       "    }\n",
       "</style>\n",
       "<table border=\"1\" class=\"dataframe\">\n",
       "  <thead>\n",
       "    <tr style=\"text-align: right;\">\n",
       "      <th></th>\n",
       "      <th>0</th>\n",
       "      <th>1</th>\n",
       "      <th>2</th>\n",
       "      <th>3</th>\n",
       "    </tr>\n",
       "  </thead>\n",
       "  <tbody>\n",
       "    <tr>\n",
       "      <th>0</th>\n",
       "      <td>0.591871</td>\n",
       "      <td>-2.170654</td>\n",
       "      <td>-0.705437</td>\n",
       "      <td>0.981314</td>\n",
       "    </tr>\n",
       "    <tr>\n",
       "      <th>1</th>\n",
       "      <td>0.134552</td>\n",
       "      <td>0.626593</td>\n",
       "      <td>1.451664</td>\n",
       "      <td>0.122448</td>\n",
       "    </tr>\n",
       "    <tr>\n",
       "      <th>2</th>\n",
       "      <td>-1.461214</td>\n",
       "      <td>0.594040</td>\n",
       "      <td>-0.206352</td>\n",
       "      <td>1.971785</td>\n",
       "    </tr>\n",
       "    <tr>\n",
       "      <th>3</th>\n",
       "      <td>-0.257758</td>\n",
       "      <td>-0.336433</td>\n",
       "      <td>0.050425</td>\n",
       "      <td>1.242229</td>\n",
       "    </tr>\n",
       "    <tr>\n",
       "      <th>4</th>\n",
       "      <td>0.409687</td>\n",
       "      <td>0.237403</td>\n",
       "      <td>-0.794880</td>\n",
       "      <td>1.005681</td>\n",
       "    </tr>\n",
       "  </tbody>\n",
       "</table>\n",
       "</div>"
      ],
      "text/plain": [
       "          0         1         2         3\n",
       "0  0.591871 -2.170654 -0.705437  0.981314\n",
       "1  0.134552  0.626593  1.451664  0.122448\n",
       "2 -1.461214  0.594040 -0.206352  1.971785\n",
       "3 -0.257758 -0.336433  0.050425  1.242229\n",
       "4  0.409687  0.237403 -0.794880  1.005681"
      ]
     },
     "execution_count": 59,
     "metadata": {},
     "output_type": "execute_result"
    }
   ],
   "source": [
    "init_w_ada"
   ]
  },
  {
   "cell_type": "code",
   "execution_count": 60,
   "metadata": {},
   "outputs": [
    {
     "data": {
      "text/plain": [
       "[500, 500, 500, 500, 500]"
      ]
     },
     "execution_count": 60,
     "metadata": {},
     "output_type": "execute_result"
    }
   ],
   "source": [
    "ite_ada"
   ]
  },
  {
   "cell_type": "code",
   "execution_count": 61,
   "metadata": {},
   "outputs": [
    {
     "data": {
      "text/html": [
       "<div>\n",
       "<style scoped>\n",
       "    .dataframe tbody tr th:only-of-type {\n",
       "        vertical-align: middle;\n",
       "    }\n",
       "\n",
       "    .dataframe tbody tr th {\n",
       "        vertical-align: top;\n",
       "    }\n",
       "\n",
       "    .dataframe thead th {\n",
       "        text-align: right;\n",
       "    }\n",
       "</style>\n",
       "<table border=\"1\" class=\"dataframe\">\n",
       "  <thead>\n",
       "    <tr style=\"text-align: right;\">\n",
       "      <th></th>\n",
       "      <th>0</th>\n",
       "      <th>1</th>\n",
       "      <th>2</th>\n",
       "      <th>3</th>\n",
       "    </tr>\n",
       "  </thead>\n",
       "  <tbody>\n",
       "    <tr>\n",
       "      <th>0</th>\n",
       "      <td>0.032998</td>\n",
       "      <td>2.730675</td>\n",
       "      <td>1.540285</td>\n",
       "      <td>-3.344358</td>\n",
       "    </tr>\n",
       "    <tr>\n",
       "      <th>1</th>\n",
       "      <td>0.031660</td>\n",
       "      <td>2.846735</td>\n",
       "      <td>1.564812</td>\n",
       "      <td>-3.465414</td>\n",
       "    </tr>\n",
       "    <tr>\n",
       "      <th>2</th>\n",
       "      <td>0.032395</td>\n",
       "      <td>2.783006</td>\n",
       "      <td>1.551344</td>\n",
       "      <td>-3.398942</td>\n",
       "    </tr>\n",
       "    <tr>\n",
       "      <th>3</th>\n",
       "      <td>0.032439</td>\n",
       "      <td>2.779168</td>\n",
       "      <td>1.550533</td>\n",
       "      <td>-3.394939</td>\n",
       "    </tr>\n",
       "    <tr>\n",
       "      <th>4</th>\n",
       "      <td>0.032239</td>\n",
       "      <td>2.796496</td>\n",
       "      <td>1.554195</td>\n",
       "      <td>-3.413013</td>\n",
       "    </tr>\n",
       "  </tbody>\n",
       "</table>\n",
       "</div>"
      ],
      "text/plain": [
       "          0         1         2         3\n",
       "0  0.032998  2.730675  1.540285 -3.344358\n",
       "1  0.031660  2.846735  1.564812 -3.465414\n",
       "2  0.032395  2.783006  1.551344 -3.398942\n",
       "3  0.032439  2.779168  1.550533 -3.394939\n",
       "4  0.032239  2.796496  1.554195 -3.413013"
      ]
     },
     "execution_count": 61,
     "metadata": {},
     "output_type": "execute_result"
    }
   ],
   "source": [
    "weights_ada"
   ]
  },
  {
   "cell_type": "code",
   "execution_count": 62,
   "metadata": {},
   "outputs": [
    {
     "data": {
      "text/plain": [
       "<matplotlib.legend.Legend at 0x211ee421700>"
      ]
     },
     "execution_count": 62,
     "metadata": {},
     "output_type": "execute_result"
    },
    {
     "data": {
      "image/png": "[encoded data removed]",
      "text/plain": [
       "<Figure size 720x720 with 1 Axes>"
      ]
     },
     "metadata": {
      "needs_background": "light"
     },
     "output_type": "display_data"
    }
   ],
   "source": [
    "plt.figure(figsize = (10,10))\n",
    "for i in range(mse_ada.shape[1]):\n",
    "    x = np.arange(0,mse_ada.shape[0],1)\n",
    "    plt.plot(x,mse_ada.iloc[:,i], label='run: '+np.str(i+1))\n",
    "plt.legend(loc='best')"
   ]
  },
  {
   "cell_type": "code",
   "execution_count": 63,
   "metadata": {},
   "outputs": [],
   "source": [
    "tabela = table()\n",
    "tabela[[1,2,3]] = tabela[[1,2,3]].apply(norm_ada, axis=0, result_type='broadcast',raw=True)"
   ]
  },
  {
   "cell_type": "code",
   "execution_count": 65,
   "metadata": {},
   "outputs": [
    {
     "data": {
      "text/html": [
       "<div>\n",
       "<style scoped>\n",
       "    .dataframe tbody tr th:only-of-type {\n",
       "        vertical-align: middle;\n",
       "    }\n",
       "\n",
       "    .dataframe tbody tr th {\n",
       "        vertical-align: top;\n",
       "    }\n",
       "\n",
       "    .dataframe thead th {\n",
       "        text-align: right;\n",
       "    }\n",
       "</style>\n",
       "<table border=\"1\" class=\"dataframe\">\n",
       "  <thead>\n",
       "    <tr style=\"text-align: right;\">\n",
       "      <th></th>\n",
       "      <th>0</th>\n",
       "      <th>1</th>\n",
       "      <th>2</th>\n",
       "      <th>3</th>\n",
       "      <th>y1</th>\n",
       "      <th>y2</th>\n",
       "      <th>y3</th>\n",
       "      <th>y4</th>\n",
       "      <th>y5</th>\n",
       "    </tr>\n",
       "  </thead>\n",
       "  <tbody>\n",
       "    <tr>\n",
       "      <th>0</th>\n",
       "      <td>-1.0</td>\n",
       "      <td>0.141171</td>\n",
       "      <td>-0.513218</td>\n",
       "      <td>0.389805</td>\n",
       "      <td>-1.741655</td>\n",
       "      <td>-1.783708</td>\n",
       "      <td>-1.760617</td>\n",
       "      <td>-1.759226</td>\n",
       "      <td>-1.765505</td>\n",
       "    </tr>\n",
       "    <tr>\n",
       "      <th>1</th>\n",
       "      <td>-1.0</td>\n",
       "      <td>-0.172901</td>\n",
       "      <td>1.000000</td>\n",
       "      <td>0.272997</td>\n",
       "      <td>0.122151</td>\n",
       "      <td>0.094901</td>\n",
       "      <td>0.109864</td>\n",
       "      <td>0.110765</td>\n",
       "      <td>0.106697</td>\n",
       "    </tr>\n",
       "    <tr>\n",
       "      <th>2</th>\n",
       "      <td>-1.0</td>\n",
       "      <td>0.643220</td>\n",
       "      <td>0.196134</td>\n",
       "      <td>0.341162</td>\n",
       "      <td>0.884561</td>\n",
       "      <td>0.924063</td>\n",
       "      <td>0.902373</td>\n",
       "      <td>0.901066</td>\n",
       "      <td>0.906964</td>\n",
       "    </tr>\n",
       "    <tr>\n",
       "      <th>3</th>\n",
       "      <td>-1.0</td>\n",
       "      <td>1.000000</td>\n",
       "      <td>0.912024</td>\n",
       "      <td>1.000000</td>\n",
       "      <td>0.758095</td>\n",
       "      <td>0.776807</td>\n",
       "      <td>0.766532</td>\n",
       "      <td>0.765914</td>\n",
       "      <td>0.768707</td>\n",
       "    </tr>\n",
       "    <tr>\n",
       "      <th>4</th>\n",
       "      <td>-1.0</td>\n",
       "      <td>0.534795</td>\n",
       "      <td>0.539653</td>\n",
       "      <td>0.482247</td>\n",
       "      <td>0.645765</td>\n",
       "      <td>0.664029</td>\n",
       "      <td>0.654000</td>\n",
       "      <td>0.653396</td>\n",
       "      <td>0.656123</td>\n",
       "    </tr>\n",
       "    <tr>\n",
       "      <th>5</th>\n",
       "      <td>-1.0</td>\n",
       "      <td>-0.110643</td>\n",
       "      <td>0.864838</td>\n",
       "      <td>-0.311395</td>\n",
       "      <td>2.038383</td>\n",
       "      <td>2.085788</td>\n",
       "      <td>2.059758</td>\n",
       "      <td>2.058190</td>\n",
       "      <td>2.065268</td>\n",
       "    </tr>\n",
       "    <tr>\n",
       "      <th>6</th>\n",
       "      <td>-1.0</td>\n",
       "      <td>0.698560</td>\n",
       "      <td>-0.383030</td>\n",
       "      <td>0.438125</td>\n",
       "      <td>-0.180680</td>\n",
       "      <td>-0.160698</td>\n",
       "      <td>-0.171670</td>\n",
       "      <td>-0.172331</td>\n",
       "      <td>-0.169347</td>\n",
       "    </tr>\n",
       "    <tr>\n",
       "      <th>7</th>\n",
       "      <td>-1.0</td>\n",
       "      <td>-0.103575</td>\n",
       "      <td>0.735219</td>\n",
       "      <td>-0.074990</td>\n",
       "      <td>1.067412</td>\n",
       "      <td>1.083840</td>\n",
       "      <td>1.074819</td>\n",
       "      <td>1.074276</td>\n",
       "      <td>1.076729</td>\n",
       "    </tr>\n",
       "    <tr>\n",
       "      <th>8</th>\n",
       "      <td>-1.0</td>\n",
       "      <td>-0.620136</td>\n",
       "      <td>0.413587</td>\n",
       "      <td>0.077808</td>\n",
       "      <td>-1.349565</td>\n",
       "      <td>-1.419475</td>\n",
       "      <td>-1.381087</td>\n",
       "      <td>-1.378775</td>\n",
       "      <td>-1.389213</td>\n",
       "    </tr>\n",
       "    <tr>\n",
       "      <th>9</th>\n",
       "      <td>-1.0</td>\n",
       "      <td>-1.000000</td>\n",
       "      <td>-1.000000</td>\n",
       "      <td>-1.000000</td>\n",
       "      <td>-0.959600</td>\n",
       "      <td>-0.977793</td>\n",
       "      <td>-0.967803</td>\n",
       "      <td>-0.967201</td>\n",
       "      <td>-0.969918</td>\n",
       "    </tr>\n",
       "  </tbody>\n",
       "</table>\n",
       "</div>"
      ],
      "text/plain": [
       "     0         1         2         3        y1        y2        y3        y4  \\\n",
       "0 -1.0  0.141171 -0.513218  0.389805 -1.741655 -1.783708 -1.760617 -1.759226   \n",
       "1 -1.0 -0.172901  1.000000  0.272997  0.122151  0.094901  0.109864  0.110765   \n",
       "2 -1.0  0.643220  0.196134  0.341162  0.884561  0.924063  0.902373  0.901066   \n",
       "3 -1.0  1.000000  0.912024  1.000000  0.758095  0.776807  0.766532  0.765914   \n",
       "4 -1.0  0.534795  0.539653  0.482247  0.645765  0.664029  0.654000  0.653396   \n",
       "5 -1.0 -0.110643  0.864838 -0.311395  2.038383  2.085788  2.059758  2.058190   \n",
       "6 -1.0  0.698560 -0.383030  0.438125 -0.180680 -0.160698 -0.171670 -0.172331   \n",
       "7 -1.0 -0.103575  0.735219 -0.074990  1.067412  1.083840  1.074819  1.074276   \n",
       "8 -1.0 -0.620136  0.413587  0.077808 -1.349565 -1.419475 -1.381087 -1.378775   \n",
       "9 -1.0 -1.000000 -1.000000 -1.000000 -0.959600 -0.977793 -0.967803 -0.967201   \n",
       "\n",
       "         y5  \n",
       "0 -1.765505  \n",
       "1  0.106697  \n",
       "2  0.906964  \n",
       "3  0.768707  \n",
       "4  0.656123  \n",
       "5  2.065268  \n",
       "6 -0.169347  \n",
       "7  1.076729  \n",
       "8 -1.389213  \n",
       "9 -0.969918  "
      ]
     },
     "execution_count": 65,
     "metadata": {},
     "output_type": "execute_result"
    }
   ],
   "source": [
    "tabela['y1'] = np.dot(tabela[[0,1,2,3]],np.array(weights_ada.iloc[0]))\n",
    "tabela['y2'] = np.dot(tabela[[0,1,2,3]],np.array(weights_ada.iloc[1]))\n",
    "tabela['y3'] = np.dot(tabela[[0,1,2,3]],np.array(weights_ada.iloc[2]))\n",
    "tabela['y4'] = np.dot(tabela[[0,1,2,3]],np.array(weights_ada.iloc[3]))\n",
    "tabela['y5'] = np.dot(tabela[[0,1,2,3]],np.array(weights_ada.iloc[4]))\n",
    "tabela"
   ]
  },
  {
   "cell_type": "markdown",
   "metadata": {},
   "source": [
    "## Data plot"
   ]
  },
  {
   "cell_type": "code",
   "execution_count": 32,
   "metadata": {},
   "outputs": [],
   "source": [
    "def table():\n",
    "    bias = np.ones(10)*-1\n",
    "    x1 = [-0.3665, -0.7842, 0.3012, 0.7757, 0.1570, -0.7014, 0.3748, -0.6920, -1.3790, -1.8842]\n",
    "    x2 = [0.0620, 1.1267, 0.5611, 1.0648, 0.8028, 1.0316, 0.1536, 0.9404, 0.7141, -0.2805]\n",
    "    x3 = [5.9891, 5.5912, 5.8234, 8.0677, 6.3040, 3.6005, 6.1537, 4.4058, 4.9263, 1.2548]\n",
    "    return pd.DataFrame([bias,x1,x2,x3]).T"
   ]
  }
 ],
 "metadata": {
  "kernelspec": {
   "display_name": "Python 3",
   "language": "python",
   "name": "python3"
  },
  "language_info": {
   "codemirror_mode": {
    "name": "ipython",
    "version": 3
   },
   "file_extension": ".py",
   "mimetype": "text/x-python",
   "name": "python",
   "nbconvert_exporter": "python",
   "pygments_lexer": "ipython3",
   "version": "3.8.5"
  }
 },
 "nbformat": 4,
 "nbformat_minor": 4
}
