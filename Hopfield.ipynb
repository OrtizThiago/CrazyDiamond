{
 "cells": [
  {
   "cell_type": "markdown",
   "id": "spanish-control",
   "metadata": {},
   "source": [
    "# Hopfield Network"
   ]
  },
  {
   "cell_type": "markdown",
   "id": "internal-palestine",
   "metadata": {},
   "source": [
    "Developer: Thiago Fellipe Ortiz de Camargo"
   ]
  },
  {
   "cell_type": "markdown",
   "id": "collect-better",
   "metadata": {},
   "source": [
    "## Standard Imports"
   ]
  },
  {
   "cell_type": "code",
   "execution_count": 162,
   "id": "eight-length",
   "metadata": {},
   "outputs": [],
   "source": [
    "import numpy as np\n",
    "import pandas as pd\n",
    "import matplotlib.pyplot as plt\n",
    "import math"
   ]
  },
  {
   "cell_type": "markdown",
   "id": "steady-candy",
   "metadata": {},
   "source": [
    "## Hopfield"
   ]
  },
  {
   "cell_type": "code",
   "execution_count": 163,
   "id": "valid-massage",
   "metadata": {},
   "outputs": [],
   "source": [
    "class hopfield(object):\n",
    "    \n",
    "    def __init__(self, patterns, noise_percentage, pattern_n_row, pattern_n_column, ib, epochs, neta):\n",
    "        self.patterns = patterns\n",
    "        self.noise    = 1-noise_percentage\n",
    "        self.nrow     = pattern_n_row\n",
    "        self.ncol     = pattern_n_column\n",
    "        self.fmn      = len(patterns)\n",
    "        self.dim      = len(self.patterns[0])\n",
    "        self.ib       = ib\n",
    "        self.epc      = epochs\n",
    "        self.scape    = False\n",
    "        self.n        = neta\n",
    "        \n",
    "    def noise_attribution(self, patt):\n",
    "        self.pattern = patt\n",
    "        self.randM   = np.random.rand(self.nrow,self.ncol)\n",
    "        self.auxA    = self.noise > self.randM\n",
    "        self.auxB    = self.noise < self.randM\n",
    "        self.randM[self.auxA] =  1\n",
    "        self.randM[self.auxB] = -1\n",
    "        self.new_patter       = self.pattern.reshape(self.nrow,self.ncol)*self.randM\n",
    "        return self.new_patter.reshape(self.dim,1)\n",
    "    \n",
    "    def weights(self):\n",
    "        self.auxW = 0\n",
    "        \n",
    "        for patt in self.patterns:\n",
    "            self.auxW += patt*patt.reshape(self.dim,1)\n",
    "            \n",
    "        a = 1/self.dim\n",
    "        b = self.fmn/self.dim\n",
    "            \n",
    "        #self.W = np.array(((1/self.dim)*self.auxW)-((self.fmn/self.dim)*np.zeros((self.dim, self.dim))))\n",
    "        self.W = (a*self.auxW)-(b*np.zeros((self.dim,self.dim)))\n",
    "    \n",
    "    def run(self):\n",
    "        \n",
    "        self.weights()\n",
    "        self.it_patt    = []\n",
    "        self.outputs    = pd.DataFrame()\n",
    "        self.noised_img = pd.DataFrame()\n",
    "        \n",
    "        for patt in self.patterns:\n",
    "            self.v_current  = self.noise_attribution(patt)\n",
    "            self.noised_img = pd.concat((self.noised_img, pd.DataFrame(self.v_current).T))       \n",
    "            self.it = 0\n",
    "            self.scape = False\n",
    "\n",
    "            while(self.scape == False):\n",
    "                self.v_past    = self.v_current\n",
    "                self.u         = np.dot(self.W,self.v_past)+self.ib\n",
    "                self.u        -= self.n*self.u\n",
    "                self.v_current = np.sign(np.tanh(self.u))\n",
    "\n",
    "                if pd.DataFrame(self.v_current).equals(pd.DataFrame(self.v_past)):\n",
    "                    self.scape = True\n",
    "\n",
    "                if(self.it >= self.epc):\n",
    "                    self.scape = True\n",
    "\n",
    "                self.it += 1\n",
    "            self.it_patt.append(self.it)\n",
    "                \n",
    "            self.outputs = pd.concat((self.outputs,pd.DataFrame(self.v_current).T))\n",
    "    \n",
    "    "
   ]
  },
  {
   "cell_type": "markdown",
   "id": "impaired-illustration",
   "metadata": {},
   "source": [
    "## Examples"
   ]
  },
  {
   "cell_type": "code",
   "execution_count": 95,
   "id": "beginning-nation",
   "metadata": {},
   "outputs": [],
   "source": [
    "N1 = np.array((-1, -1, 1, 1, -1, -1, 1, 1, 1, -1, -1, -1, 1, 1, -1, -1, -1, 1, 1, -1, -1, -1, 1, 1, -1, -1, -1, 1, 1, -1, -1, -1, 1, 1, -1, -1, -1, 1, 1, -1, -1, -1, 1, 1, -1))\n",
    "N2 = np.array((1, 1, 1, 1, 1, 1, 1, 1, 1, 1, -1, -1, -1, 1, 1, -1, -1, -1, 1, 1, 1, 1, 1, 1, 1, 1, 1, -1, -1, -1, 1, 1, -1, -1, -1, 1, 1, 1, 1, 1, 1, 1, 1, 1, 1))\n",
    "N3 = np.array((1, 1, 1, 1, 1, 1, 1, 1, 1, 1, -1, -1, -1, 1, 1, -1, -1, -1, 1, 1, 1, 1, 1, 1, 1, -1, -1, -1, 1, 1, -1, -1, -1, 1, 1, 1, 1, 1, 1, 1, 1, 1, 1, 1, 1))\n",
    "N4 = np.array((1, 1, -1, 1, 1, 1, 1, -1, 1, 1, 1, 1, -1, 1, 1, 1, 1, 1, 1, 1, 1, 1, 1, 1, 1, -1, -1, -1, 1, 1, -1, -1, -1, 1, 1, -1, -1, -1, 1, 1, -1, -1, -1, 1, 1))\n",
    "N = np.array((N1, N2, N3, N4))"
   ]
  },
  {
   "cell_type": "code",
   "execution_count": 102,
   "id": "prerequisite-opposition",
   "metadata": {},
   "outputs": [],
   "source": [
    "hp = hopfield(patterns=N, noise_percentage=0.08, \n",
    "              pattern_n_row=9, pattern_n_column=5, ib=0, epochs=100000, neta = 0.1)\n",
    "hp.run()"
   ]
  },
  {
   "cell_type": "code",
   "execution_count": 103,
   "id": "thrown-anatomy",
   "metadata": {},
   "outputs": [
    {
     "data": {
      "image/png": "[encoded data removed]",
      "text/plain": [
       "<Figure size 504x720 with 12 Axes>"
      ]
     },
     "metadata": {
      "needs_background": "light"
     },
     "output_type": "display_data"
    }
   ],
   "source": [
    "fig, axs = plt.subplots(nrows=3, ncols=4, figsize=(7, 10))\n",
    "\n",
    "# ------- N1 -------\n",
    "axs[0][0].set_title('Pattern 1')\n",
    "axs[0][0].imshow(N1.reshape(9,5))\n",
    "\n",
    "axs[1][0].set_title('Noised Pattern 1')\n",
    "axs[1][0].imshow(hp.noised_img.iloc[0,:].values.reshape(9,5))\n",
    "\n",
    "axs[2][0].set_title('HP Pattern 1')\n",
    "axs[2][0].imshow(hp.outputs.iloc[0,:].values.reshape(9,5))\n",
    "\n",
    "\n",
    "# ------- N2 -------\n",
    "axs[0][1].set_title('Pattern 2')\n",
    "axs[0][1].imshow(N2.reshape(9,5))\n",
    "\n",
    "axs[1][1].set_title('Noised Pattern 2')\n",
    "axs[1][1].imshow(hp.noised_img.iloc[1,:].values.reshape(9,5))\n",
    "\n",
    "axs[2][1].set_title('HP Pattern 2')\n",
    "axs[2][1].imshow(hp.outputs.iloc[1,:].values.reshape(9,5))\n",
    "\n",
    "\n",
    "# ------- N3 -------\n",
    "axs[0][2].set_title('Pattern 3')\n",
    "axs[0][2].imshow(N3.reshape(9,5))\n",
    "\n",
    "axs[1][2].set_title('Noised Pattern 3')\n",
    "axs[1][2].imshow(hp.noised_img.iloc[2,:].values.reshape(9,5))\n",
    "\n",
    "axs[2][2].set_title('HP Pattern 3')\n",
    "axs[2][2].imshow(hp.outputs.iloc[2,:].values.reshape(9,5))\n",
    "\n",
    "\n",
    "# ------- N4 -------\n",
    "axs[0][3].set_title('Pattern 4')\n",
    "axs[0][3].imshow(N4.reshape(9,5))\n",
    "\n",
    "axs[1][3].set_title('Noised Pattern 4')\n",
    "axs[1][3].imshow(hp.noised_img.iloc[3,:].values.reshape(9,5))\n",
    "\n",
    "axs[2][3].set_title('HP Pattern 4')\n",
    "axs[2][3].imshow(np.sign(hp.outputs.iloc[3,:].values.reshape(9,5)))\n",
    "\n",
    "\n",
    "\n",
    "plt.show()"
   ]
  },
  {
   "cell_type": "markdown",
   "id": "grateful-closer",
   "metadata": {},
   "source": [
    "## Libraries"
   ]
  },
  {
   "cell_type": "markdown",
   "id": "lined-council",
   "metadata": {},
   "source": [
    "### Livro"
   ]
  },
  {
   "cell_type": "code",
   "execution_count": 7,
   "id": "tight-thermal",
   "metadata": {},
   "outputs": [],
   "source": [
    "livro = pd.read_table(r'F:\\Desktop\\8P\\8P-2\\Redes Neurais\\Listas\\Lista 3\\Hopfield\\Hopfield\\livro.txt', sep = ' ')"
   ]
  },
  {
   "cell_type": "code",
   "execution_count": 191,
   "id": "accurate-eleven",
   "metadata": {},
   "outputs": [],
   "source": [
    "hp = hopfield(patterns=livro.values, noise_percentage=0.5,\n",
    "              pattern_n_row=12, pattern_n_column=10, ib=0, epochs=50000, neta = 0)\n",
    "hp.run()"
   ]
  },
  {
   "cell_type": "code",
   "execution_count": 192,
   "id": "specified-marina",
   "metadata": {},
   "outputs": [
    {
     "data": {
      "image/png": "[encoded data removed]",
      "text/plain": [
       "<Figure size 1080x1296 with 24 Axes>"
      ]
     },
     "metadata": {
      "needs_background": "light"
     },
     "output_type": "display_data"
    }
   ],
   "source": [
    "nrow = 12\n",
    "ncol = 10\n",
    "\n",
    "\n",
    "fig, axs = plt.subplots(nrows=3, ncols=8, figsize=(15, 18), squeeze=False)\n",
    "\n",
    "# ------- P1 -------\n",
    "axs[0,0].set_title('Pattern 1')\n",
    "axs[0,0].imshow(livro.values[0].reshape(nrow,ncol))\n",
    "\n",
    "axs[1,0].set_title('Noised Pattern 1')\n",
    "axs[1,0].imshow(hp.noised_img.iloc[0,:].values.reshape(nrow,ncol))\n",
    "\n",
    "axs[2,0].set_title('HP Pattern 1')\n",
    "axs[2,0].imshow(hp.outputs.iloc[0,:].values.reshape(nrow,ncol))\n",
    "\n",
    "\n",
    "# ------- P2 -------\n",
    "axs[0,1].set_title('Pattern 2')\n",
    "axs[0,1].imshow(livro.values[1].reshape(nrow,ncol))\n",
    "\n",
    "axs[1,1].set_title('Noised Pattern 2')\n",
    "axs[1,1].imshow(hp.noised_img.iloc[1,:].values.reshape(nrow,ncol))\n",
    "\n",
    "axs[2,1].set_title('HP Pattern 2')\n",
    "axs[2,1].imshow(hp.outputs.iloc[1,:].values.reshape(nrow,ncol))\n",
    "\n",
    "\n",
    "# ------- P3 -------\n",
    "axs[0,2].set_title('Pattern 3')\n",
    "axs[0,2].imshow(livro.values[2].reshape(nrow,ncol))\n",
    "\n",
    "axs[1,2].set_title('Noised Pattern 3')\n",
    "axs[1,2].imshow(hp.noised_img.iloc[2,:].values.reshape(nrow,ncol))\n",
    "\n",
    "axs[2,2].set_title('HP Pattern 3')\n",
    "axs[2,2].imshow(hp.outputs.iloc[2,:].values.reshape(nrow,ncol))\n",
    "\n",
    "\n",
    "# ------- P4 -------\n",
    "axs[0,3].set_title('Pattern 4')\n",
    "axs[0,3].imshow(livro.values[3].reshape(nrow,ncol))\n",
    "\n",
    "axs[1,3].set_title('Noised Pattern 4')\n",
    "axs[1,3].imshow(hp.noised_img.iloc[3,:].values.reshape(nrow,ncol))\n",
    "\n",
    "axs[2,3].set_title('HP Pattern 4')\n",
    "axs[2,3].imshow(hp.outputs.iloc[3,:].values.reshape(nrow,ncol))\n",
    "\n",
    "\n",
    "# ------- P5 -------\n",
    "axs[0,4].set_title('Pattern 5')\n",
    "axs[0,4].imshow(livro.values[4].reshape(nrow,ncol))\n",
    "\n",
    "axs[1,4].set_title('Noised Pattern 5')\n",
    "axs[1,4].imshow(hp.noised_img.iloc[4,:].values.reshape(nrow,ncol))\n",
    "\n",
    "axs[2,4].set_title('HP Pattern 5')\n",
    "axs[2,4].imshow(hp.outputs.iloc[4,:].values.reshape(nrow,ncol))\n",
    "\n",
    "\n",
    "# ------- P6 -------\n",
    "axs[0,5].set_title('Pattern 6')\n",
    "axs[0,5].imshow(livro.values[5].reshape(nrow,ncol))\n",
    "\n",
    "axs[1,5].set_title('Noised Pattern 6')\n",
    "axs[1,5].imshow(hp.noised_img.iloc[5,:].values.reshape(nrow,ncol))\n",
    "\n",
    "axs[2,5].set_title('HP Pattern 6')\n",
    "axs[2,5].imshow(hp.outputs.iloc[5,:].values.reshape(nrow,ncol))\n",
    "\n",
    "\n",
    "# ------- P7 -------\n",
    "axs[0,6].set_title('Pattern 7')\n",
    "axs[0,6].imshow(livro.values[6].reshape(nrow,ncol))\n",
    "\n",
    "axs[1,6].set_title('Noised Pattern 7')\n",
    "axs[1,6].imshow(hp.noised_img.iloc[6,:].values.reshape(nrow,ncol))\n",
    "\n",
    "axs[2,6].set_title('HP Pattern 6')\n",
    "axs[2,6].imshow(hp.outputs.iloc[6,:].values.reshape(nrow,ncol))\n",
    "\n",
    "\n",
    "# ------- P8 -------\n",
    "axs[0,7].set_title('Pattern 8')\n",
    "axs[0,7].imshow(livro.values[7].reshape(nrow,ncol))\n",
    "\n",
    "axs[1,7].set_title('Noised Pattern 8')\n",
    "axs[1,7].imshow(hp.noised_img.iloc[7,:].values.reshape(nrow,ncol))\n",
    "\n",
    "axs[2,7].set_title('HP Pattern 8')\n",
    "axs[2,7].imshow(hp.outputs.iloc[7,:].values.reshape(nrow,ncol))\n",
    "\n",
    "\n",
    "plt.show()"
   ]
  },
  {
   "cell_type": "code",
   "execution_count": 193,
   "id": "surgical-union",
   "metadata": {},
   "outputs": [
    {
     "name": "stdout",
     "output_type": "stream",
     "text": [
      "Acerto %: 44.791666666666664\n",
      "Erro medio %:55.20833333333333\n"
     ]
    }
   ],
   "source": [
    "perc = []\n",
    "acerto = 0\n",
    "\n",
    "for elemento, out in zip(livro.values,hp.outputs.values):\n",
    "    \n",
    "    erro   = 0\n",
    "    \n",
    "    for i in range(nrow*ncol):\n",
    "        if elemento[i] != out[i]:\n",
    "            erro += 1\n",
    "        else:\n",
    "            acerto += 1\n",
    "            \n",
    "            \n",
    "    perc.append(erro)\n",
    "\n",
    "total_perc = np.array(perc)*100/(nrow*ncol)\n",
    "med_perc   = np.mean(total_perc)\n",
    "\n",
    "acerto_perc = (acerto*100)/(hp.ncol*hp.nrow*hp.fmn)\n",
    "\n",
    "print('Acerto %: '+np.str(acerto_perc))\n",
    "print('Erro medio %:'+np.str(med_perc))"
   ]
  },
  {
   "cell_type": "markdown",
   "id": "treated-mailman",
   "metadata": {},
   "source": [
    "P   - EM        - AC\n",
    "8%  = 0          100\n",
    "10% = 0          100\n",
    "25% = 0.42       99.58     \n",
    "50% = 55.21      44.79"
   ]
  },
  {
   "cell_type": "markdown",
   "id": "internal-session",
   "metadata": {},
   "source": [
    "### Numbers"
   ]
  },
  {
   "cell_type": "code",
   "execution_count": 66,
   "id": "significant-execution",
   "metadata": {},
   "outputs": [],
   "source": [
    "numbers = pd.read_table(r'F:\\Desktop\\8P\\8P-2\\Redes Neurais\\Listas\\Lista 3\\Hopfield\\Hopfield\\numeros.txt', sep = ' ')"
   ]
  },
  {
   "cell_type": "code",
   "execution_count": 209,
   "id": "biological-bernard",
   "metadata": {},
   "outputs": [],
   "source": [
    "hp = hopfield(patterns=numbers.values, noise_percentage=0.5, \n",
    "              pattern_n_row=7, pattern_n_column=5, ib=0, epochs=1000, neta = 0)\n",
    "hp.run()"
   ]
  },
  {
   "cell_type": "code",
   "execution_count": 210,
   "id": "clear-reverse",
   "metadata": {
    "scrolled": false
   },
   "outputs": [
    {
     "data": {
      "image/png": "[encoded data removed]",
      "text/plain": [
       "<Figure size 1224x1080 with 30 Axes>"
      ]
     },
     "metadata": {
      "needs_background": "light"
     },
     "output_type": "display_data"
    }
   ],
   "source": [
    "nrow = 7\n",
    "ncol = 5\n",
    "\n",
    "\n",
    "fig, axs = plt.subplots(nrows=3, ncols=10, figsize=(17, 15), squeeze=False)\n",
    "\n",
    "# ------- P1 -------\n",
    "axs[0,0].set_title('Pattern 1')\n",
    "axs[0,0].imshow(numbers.values[0].reshape(nrow,ncol))\n",
    "\n",
    "axs[1,0].set_title('Noised Pattern 1')\n",
    "axs[1,0].imshow(hp.noised_img.iloc[0,:].values.reshape(nrow,ncol))\n",
    "\n",
    "axs[2,0].set_title('HP Pattern 1')\n",
    "axs[2,0].imshow(hp.outputs.iloc[0,:].values.reshape(nrow,ncol))\n",
    "\n",
    "\n",
    "# ------- P2 -------\n",
    "axs[0,1].set_title('Pattern 2')\n",
    "axs[0,1].imshow(numbers.values[1].reshape(nrow,ncol))\n",
    "\n",
    "axs[1,1].set_title('Noised Pattern 2')\n",
    "axs[1,1].imshow(hp.noised_img.iloc[1,:].values.reshape(nrow,ncol))\n",
    "\n",
    "axs[2,1].set_title('HP Pattern 2')\n",
    "axs[2,1].imshow(hp.outputs.iloc[1,:].values.reshape(nrow,ncol))\n",
    "\n",
    "\n",
    "# ------- P3 -------\n",
    "axs[0,2].set_title('Pattern 3')\n",
    "axs[0,2].imshow(numbers.values[2].reshape(nrow,ncol))\n",
    "\n",
    "axs[1,2].set_title('Noised Pattern 3')\n",
    "axs[1,2].imshow(hp.noised_img.iloc[2,:].values.reshape(nrow,ncol))\n",
    "\n",
    "axs[2,2].set_title('HP Pattern 3')\n",
    "axs[2,2].imshow(hp.outputs.iloc[2,:].values.reshape(nrow,ncol))\n",
    "\n",
    "\n",
    "# ------- P4 -------\n",
    "axs[0,3].set_title('Pattern 4')\n",
    "axs[0,3].imshow(numbers.values[3].reshape(nrow,ncol))\n",
    "\n",
    "axs[1,3].set_title('Noised Pattern 4')\n",
    "axs[1,3].imshow(hp.noised_img.iloc[3,:].values.reshape(nrow,ncol))\n",
    "\n",
    "axs[2,3].set_title('HP Pattern 4')\n",
    "axs[2,3].imshow(hp.outputs.iloc[3,:].values.reshape(nrow,ncol))\n",
    "\n",
    "\n",
    "# ------- P5 -------\n",
    "axs[0,4].set_title('Pattern 5')\n",
    "axs[0,4].imshow(numbers.values[4].reshape(nrow,ncol))\n",
    "\n",
    "axs[1,4].set_title('Noised Pattern 5')\n",
    "axs[1,4].imshow(hp.noised_img.iloc[4,:].values.reshape(nrow,ncol))\n",
    "\n",
    "axs[2,4].set_title('HP Pattern 5')\n",
    "axs[2,4].imshow(hp.outputs.iloc[4,:].values.reshape(nrow,ncol))\n",
    "\n",
    "\n",
    "# ------- P6 -------\n",
    "axs[0,5].set_title('Pattern 6')\n",
    "axs[0,5].imshow(numbers.values[5].reshape(nrow,ncol))\n",
    "\n",
    "axs[1,5].set_title('Noised Pattern 6')\n",
    "axs[1,5].imshow(hp.noised_img.iloc[5,:].values.reshape(nrow,ncol))\n",
    "\n",
    "axs[2,5].set_title('HP Pattern 6')\n",
    "axs[2,5].imshow(hp.outputs.iloc[5,:].values.reshape(nrow,ncol))\n",
    "\n",
    "\n",
    "# ------- P7 -------\n",
    "axs[0,6].set_title('Pattern 7')\n",
    "axs[0,6].imshow(numbers.values[6].reshape(nrow,ncol))\n",
    "\n",
    "axs[1,6].set_title('Noised Pattern 7')\n",
    "axs[1,6].imshow(hp.noised_img.iloc[6,:].values.reshape(nrow,ncol))\n",
    "\n",
    "axs[2,6].set_title('HP Pattern 7')\n",
    "axs[2,6].imshow(hp.outputs.iloc[6,:].values.reshape(nrow,ncol))\n",
    "\n",
    "\n",
    "# ------- P8 -------\n",
    "axs[0,7].set_title('Pattern 8')\n",
    "axs[0,7].imshow(numbers.values[7].reshape(nrow,ncol))\n",
    "\n",
    "axs[1,7].set_title('Noised Pattern 8')\n",
    "axs[1,7].imshow(hp.noised_img.iloc[7,:].values.reshape(nrow,ncol))\n",
    "\n",
    "axs[2,7].set_title('HP Pattern 8')\n",
    "axs[2,7].imshow(hp.outputs.iloc[7,:].values.reshape(nrow,ncol))\n",
    "\n",
    "\n",
    "# ------- P9 -------\n",
    "axs[0,8].set_title('Pattern 9')\n",
    "axs[0,8].imshow(numbers.values[8].reshape(nrow,ncol))\n",
    "\n",
    "axs[1,8].set_title('Noised Pattern 9')\n",
    "axs[1,8].imshow(hp.noised_img.iloc[8,:].values.reshape(nrow,ncol))\n",
    "\n",
    "axs[2,8].set_title('HP Pattern 9')\n",
    "axs[2,8].imshow(hp.outputs.iloc[8,:].values.reshape(nrow,ncol))\n",
    "\n",
    "# ------- P10 -------\n",
    "axs[0,9].set_title('Pattern 10')\n",
    "axs[0,9].imshow(numbers.values[9].reshape(nrow,ncol))\n",
    "\n",
    "axs[1,9].set_title('Noised Pattern 10')\n",
    "axs[1,9].imshow(hp.noised_img.iloc[9,:].values.reshape(nrow,ncol))\n",
    "\n",
    "axs[2,9].set_title('HP Pattern 10')\n",
    "axs[2,9].imshow(hp.outputs.iloc[9,:].values.reshape(nrow,ncol))\n",
    "\n",
    "\n",
    "plt.show()"
   ]
  },
  {
   "cell_type": "code",
   "execution_count": 211,
   "id": "textile-shirt",
   "metadata": {},
   "outputs": [
    {
     "data": {
      "text/plain": [
       "63.71428571428571"
      ]
     },
     "execution_count": 211,
     "metadata": {},
     "output_type": "execute_result"
    }
   ],
   "source": [
    "perc = []\n",
    "\n",
    "for elemento, out in zip(numbers.values,hp.outputs.values):\n",
    "    erro = 0\n",
    "    for i in range(nrow*ncol):\n",
    "        if elemento[i] != out[i]:\n",
    "            erro += 1\n",
    "        \n",
    "    perc.append(erro)\n",
    "\n",
    "total_perc = np.array(perc)*100/(nrow*ncol)\n",
    "med_perc   = np.mean(total_perc)\n",
    "med_perc"
   ]
  },
  {
   "cell_type": "markdown",
   "id": "renewable-monster",
   "metadata": {},
   "source": [
    "8%  = 17.71\n",
    "10% = 23.42\n",
    "25% = 22.51\n",
    "50% = 63.71"
   ]
  },
  {
   "cell_type": "markdown",
   "id": "realistic-factor",
   "metadata": {},
   "source": [
    "### Letras"
   ]
  },
  {
   "cell_type": "code",
   "execution_count": 19,
   "id": "classified-malaysia",
   "metadata": {},
   "outputs": [],
   "source": [
    "letters = pd.read_csv(r'F:\\Desktop\\8P\\8P-2\\Redes Neurais\\Listas\\Lista 3\\Hopfield\\Hopfield\\LETRAS.csv', sep = ' ')"
   ]
  },
  {
   "cell_type": "code",
   "execution_count": 222,
   "id": "maritime-knitting",
   "metadata": {},
   "outputs": [],
   "source": [
    "hp = hopfield(patterns=letters.values, noise_percentage=0.5, \n",
    "              pattern_n_row=20, pattern_n_column=20, ib=0, epochs=100, neta = 0.05)\n",
    "hp.run()"
   ]
  },
  {
   "cell_type": "code",
   "execution_count": 223,
   "id": "deluxe-chapter",
   "metadata": {},
   "outputs": [
    {
     "data": {
      "text/plain": [
       "<matplotlib.image.AxesImage at 0x1c720ce5d30>"
      ]
     },
     "execution_count": 223,
     "metadata": {},
     "output_type": "execute_result"
    },
    {
     "data": {
      "image/png": "[encoded data removed]",
      "text/plain": [
       "<Figure size 1440x1224 with 36 Axes>"
      ]
     },
     "metadata": {
      "needs_background": "light"
     },
     "output_type": "display_data"
    }
   ],
   "source": [
    "nrow = 20\n",
    "ncol = 20\n",
    "\n",
    "\n",
    "fig, axs = plt.subplots(nrows=3, ncols=12, figsize=(20, 17), squeeze=False)\n",
    "\n",
    "# ------- P1 -------\n",
    "axs[0,0].set_title('Pattern 1')\n",
    "axs[0,0].imshow(letters.values[0].reshape(nrow,ncol))\n",
    "\n",
    "axs[1,0].set_title('Noised Pattern 1')\n",
    "axs[1,0].imshow(hp.noised_img.iloc[0,:].values.reshape(nrow,ncol))\n",
    "\n",
    "axs[2,0].set_title('HP Pattern 1')\n",
    "axs[2,0].imshow(hp.outputs.iloc[0,:].values.reshape(nrow,ncol))\n",
    "\n",
    "\n",
    "# ------- P2 -------\n",
    "axs[0,1].set_title('Pattern 2')\n",
    "axs[0,1].imshow(letters.values[1].reshape(nrow,ncol))\n",
    "\n",
    "axs[1,1].set_title('Noised Pattern 2')\n",
    "axs[1,1].imshow(hp.noised_img.iloc[1,:].values.reshape(nrow,ncol))\n",
    "\n",
    "axs[2,1].set_title('HP Pattern 2')\n",
    "axs[2,1].imshow(hp.outputs.iloc[1,:].values.reshape(nrow,ncol))\n",
    "\n",
    "\n",
    "# ------- P3 -------\n",
    "axs[0,2].set_title('Pattern 3')\n",
    "axs[0,2].imshow(letters.values[2].reshape(nrow,ncol))\n",
    "\n",
    "axs[1,2].set_title('Noised Pattern 3')\n",
    "axs[1,2].imshow(hp.noised_img.iloc[2,:].values.reshape(nrow,ncol))\n",
    "\n",
    "axs[2,2].set_title('HP Pattern 3')\n",
    "axs[2,2].imshow(hp.outputs.iloc[2,:].values.reshape(nrow,ncol))\n",
    "\n",
    "\n",
    "# ------- P4 -------\n",
    "axs[0,3].set_title('Pattern 4')\n",
    "axs[0,3].imshow(letters.values[3].reshape(nrow,ncol))\n",
    "\n",
    "axs[1,3].set_title('Noised Pattern 4')\n",
    "axs[1,3].imshow(hp.noised_img.iloc[3,:].values.reshape(nrow,ncol))\n",
    "\n",
    "axs[2,3].set_title('HP Pattern 4')\n",
    "axs[2,3].imshow(hp.outputs.iloc[3,:].values.reshape(nrow,ncol))\n",
    "\n",
    "\n",
    "# ------- P5 -------\n",
    "axs[0,4].set_title('Pattern 5')\n",
    "axs[0,4].imshow(letters.values[4].reshape(nrow,ncol))\n",
    "\n",
    "axs[1,4].set_title('Noised Pattern 5')\n",
    "axs[1,4].imshow(hp.noised_img.iloc[4,:].values.reshape(nrow,ncol))\n",
    "\n",
    "axs[2,4].set_title('HP Pattern 5')\n",
    "axs[2,4].imshow(hp.outputs.iloc[4,:].values.reshape(nrow,ncol))\n",
    "\n",
    "\n",
    "# ------- P6 -------\n",
    "axs[0,5].set_title('Pattern 6')\n",
    "axs[0,5].imshow(letters.values[5].reshape(nrow,ncol))\n",
    "\n",
    "axs[1,5].set_title('Noised Pattern 6')\n",
    "axs[1,5].imshow(hp.noised_img.iloc[5,:].values.reshape(nrow,ncol))\n",
    "\n",
    "axs[2,5].set_title('HP Pattern 6')\n",
    "axs[2,5].imshow(hp.outputs.iloc[5,:].values.reshape(nrow,ncol))\n",
    "\n",
    "\n",
    "# ------- P7 -------\n",
    "axs[0,6].set_title('Pattern 7')\n",
    "axs[0,6].imshow(letters.values[6].reshape(nrow,ncol))\n",
    "\n",
    "axs[1,6].set_title('Noised Pattern 7')\n",
    "axs[1,6].imshow(hp.noised_img.iloc[6,:].values.reshape(nrow,ncol))\n",
    "\n",
    "axs[2,6].set_title('HP Pattern 6')\n",
    "axs[2,6].imshow(hp.outputs.iloc[6,:].values.reshape(nrow,ncol))\n",
    "\n",
    "\n",
    "# ------- P8 -------\n",
    "axs[0,7].set_title('Pattern 8')\n",
    "axs[0,7].imshow(letters.values[7].reshape(nrow,ncol))\n",
    "\n",
    "axs[1,7].set_title('Noised Pattern 8')\n",
    "axs[1,7].imshow(hp.noised_img.iloc[7,:].values.reshape(nrow,ncol))\n",
    "\n",
    "axs[2,7].set_title('HP Pattern 8')\n",
    "axs[2,7].imshow(hp.outputs.iloc[7,:].values.reshape(nrow,ncol))\n",
    "\n",
    "\n",
    "# ------- P9 -------\n",
    "axs[0,8].set_title('Pattern 9')\n",
    "axs[0,8].imshow(letters.values[8].reshape(nrow,ncol))\n",
    "\n",
    "axs[1,8].set_title('Noised Pattern 9')\n",
    "axs[1,8].imshow(hp.noised_img.iloc[8,:].values.reshape(nrow,ncol))\n",
    "\n",
    "axs[2,8].set_title('HP Pattern 9')\n",
    "axs[2,8].imshow(hp.outputs.iloc[8,:].values.reshape(nrow,ncol))\n",
    "\n",
    "\n",
    "# ------- P10 -------\n",
    "axs[0,9].set_title('Pattern 10')\n",
    "axs[0,9].imshow(letters.values[9].reshape(nrow,ncol))\n",
    "\n",
    "axs[1,9].set_title('Noised Pattern 10')\n",
    "axs[1,9].imshow(hp.noised_img.iloc[9,:].values.reshape(nrow,ncol))\n",
    "\n",
    "axs[2,9].set_title('HP Pattern 10')\n",
    "axs[2,9].imshow(hp.outputs.iloc[9,:].values.reshape(nrow,ncol))\n",
    "\n",
    "\n",
    "# ------- P11 -------\n",
    "axs[0,10].set_title('Pattern 11')\n",
    "axs[0,10].imshow(letters.values[10].reshape(nrow,ncol))\n",
    "\n",
    "axs[1,10].set_title('Noised Pattern 11')\n",
    "axs[1,10].imshow(hp.noised_img.iloc[10,:].values.reshape(nrow,ncol))\n",
    "\n",
    "axs[2,10].set_title('HP Pattern 11')\n",
    "axs[2,10].imshow(hp.outputs.iloc[10,:].values.reshape(nrow,ncol))\n",
    "\n",
    "\n",
    "# ------- P12 -------\n",
    "axs[0,11].set_title('Pattern 12')\n",
    "axs[0,11].imshow(letters.values[11].reshape(nrow,ncol))\n",
    "\n",
    "axs[1,11].set_title('Noised Pattern 12')\n",
    "axs[1,11].imshow(hp.noised_img.iloc[11,:].values.reshape(nrow,ncol))\n",
    "\n",
    "axs[2,11].set_title('HP Pattern 12')\n",
    "axs[2,11].imshow(hp.outputs.iloc[11,:].values.reshape(nrow,ncol))"
   ]
  },
  {
   "cell_type": "code",
   "execution_count": 224,
   "id": "narrow-grade",
   "metadata": {},
   "outputs": [
    {
     "data": {
      "text/plain": [
       "54.729166666666664"
      ]
     },
     "execution_count": 224,
     "metadata": {},
     "output_type": "execute_result"
    }
   ],
   "source": [
    "perc = []\n",
    "\n",
    "for elemento, out in zip(letters.values,hp.outputs.values):\n",
    "    erro = 0\n",
    "    for i in range(nrow*ncol):\n",
    "        if elemento[i] != out[i]:\n",
    "            erro += 1\n",
    "        \n",
    "    perc.append(erro)\n",
    "\n",
    "total_perc = np.array(perc)*100/(nrow*ncol)\n",
    "med_perc   = np.mean(total_perc)\n",
    "med_perc"
   ]
  },
  {
   "cell_type": "markdown",
   "id": "dental-current",
   "metadata": {},
   "source": [
    "8%  = 17.35\n",
    "10% = 17.35\n",
    "25% = 17.37\n",
    "50% = 54.73"
   ]
  },
  {
   "cell_type": "code",
   "execution_count": 33,
   "id": "incorporate-header",
   "metadata": {},
   "outputs": [],
   "source": [
    "classes = [1.3, 1.65, 1.75, 2]\n",
    "labels  = ['1 - baixa', '2 - media', '3 - Alta']"
   ]
  },
  {
   "cell_type": "code",
   "execution_count": 34,
   "id": "trying-snake",
   "metadata": {},
   "outputs": [],
   "source": [
    "x = [1.3 , 1.45, 1.65 , 1.75, 1.9]"
   ]
  },
  {
   "cell_type": "code",
   "execution_count": 35,
   "id": "differential-insured",
   "metadata": {},
   "outputs": [],
   "source": [
    "a = pd.cut( x = x,\n",
    "        bins = classes,\n",
    "        right = False,\n",
    "        labels = labels,\n",
    "        include_lowest = True)"
   ]
  },
  {
   "cell_type": "code",
   "execution_count": 36,
   "id": "nasty-daisy",
   "metadata": {},
   "outputs": [
    {
     "data": {
      "text/plain": [
       "[1.3, 1.45, 1.65, 1.75, 1.9]"
      ]
     },
     "execution_count": 36,
     "metadata": {},
     "output_type": "execute_result"
    }
   ],
   "source": [
    "x"
   ]
  },
  {
   "cell_type": "code",
   "execution_count": 37,
   "id": "choice-female",
   "metadata": {},
   "outputs": [
    {
     "data": {
      "text/plain": [
       "['1 - baixa', '1 - baixa', '2 - media', '3 - Alta', '3 - Alta']\n",
       "Categories (3, object): ['1 - baixa' < '2 - media' < '3 - Alta']"
      ]
     },
     "execution_count": 37,
     "metadata": {},
     "output_type": "execute_result"
    }
   ],
   "source": [
    "a"
   ]
  },
  {
   "cell_type": "code",
   "execution_count": 419,
   "id": "cubic-massachusetts",
   "metadata": {},
   "outputs": [
    {
     "data": {
      "text/plain": [
       "['1 - baixa', '1 - baixa', '1 - baixa', '2 - media', '3 - Alta']\n",
       "Categories (3, object): ['1 - baixa' < '2 - media' < '3 - Alta']"
      ]
     },
     "execution_count": 419,
     "metadata": {},
     "output_type": "execute_result"
    }
   ],
   "source": [
    "pd.cut( x = x,\n",
    "        bins = classes,\n",
    "        right = True,\n",
    "        labels = labels,\n",
    "        include_lowest = True)"
   ]
  },
  {
   "cell_type": "code",
   "execution_count": 420,
   "id": "assigned-fraction",
   "metadata": {},
   "outputs": [
    {
     "data": {
      "text/plain": [
       "['1 - baixa', '1 - baixa', '2 - media', '3 - Alta', '3 - Alta']\n",
       "Categories (3, object): ['1 - baixa' < '2 - media' < '3 - Alta']"
      ]
     },
     "execution_count": 420,
     "metadata": {},
     "output_type": "execute_result"
    }
   ],
   "source": [
    "pd.cut( x = x,\n",
    "        bins = classes,\n",
    "        labels = labels,\n",
    "        right = False,\n",
    "        include_lowest = True)"
   ]
  },
  {
   "cell_type": "code",
   "execution_count": null,
   "id": "arranged-hawaiian",
   "metadata": {},
   "outputs": [],
   "source": []
  },
  {
   "cell_type": "code",
   "execution_count": null,
   "id": "commercial-monkey",
   "metadata": {},
   "outputs": [],
   "source": []
  }
 ],
 "metadata": {
  "kernelspec": {
   "display_name": "Python 3",
   "language": "python",
   "name": "python3"
  },
  "language_info": {
   "codemirror_mode": {
    "name": "ipython",
    "version": 3
   },
   "file_extension": ".py",
   "mimetype": "text/x-python",
   "name": "python",
   "nbconvert_exporter": "python",
   "pygments_lexer": "ipython3",
   "version": "3.8.5"
  }
 },
 "nbformat": 4,
 "nbformat_minor": 5
}
