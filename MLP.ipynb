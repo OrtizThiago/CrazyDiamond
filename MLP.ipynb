{
 "cells": [
  {
   "cell_type": "markdown",
   "id": "technological-scout",
   "metadata": {},
   "source": [
    "# Multi Layer Perceptron"
   ]
  },
  {
   "cell_type": "markdown",
   "id": "forced-complex",
   "metadata": {},
   "source": [
    "## Standard Imports"
   ]
  },
  {
   "cell_type": "code",
   "execution_count": 1,
   "id": "younger-condition",
   "metadata": {},
   "outputs": [],
   "source": [
    "import numpy as np\n",
    "import pandas as pd\n",
    "import matplotlib.pyplot as plt\n",
    "import seaborn as sns\n",
    "import sklearn as skl\n",
    "%matplotlib inline"
   ]
  },
  {
   "cell_type": "markdown",
   "id": "miniature-table",
   "metadata": {},
   "source": [
    "## Create Artificial Data"
   ]
  },
  {
   "cell_type": "code",
   "execution_count": 2,
   "id": "excellent-indian",
   "metadata": {},
   "outputs": [
    {
     "data": {
      "text/html": [
       "<div>\n",
       "<style scoped>\n",
       "    .dataframe tbody tr th:only-of-type {\n",
       "        vertical-align: middle;\n",
       "    }\n",
       "\n",
       "    .dataframe tbody tr th {\n",
       "        vertical-align: top;\n",
       "    }\n",
       "\n",
       "    .dataframe thead th {\n",
       "        text-align: right;\n",
       "    }\n",
       "</style>\n",
       "<table border=\"1\" class=\"dataframe\">\n",
       "  <thead>\n",
       "    <tr style=\"text-align: right;\">\n",
       "      <th></th>\n",
       "      <th>x1</th>\n",
       "      <th>x2</th>\n",
       "      <th>And</th>\n",
       "      <th>Or</th>\n",
       "      <th>Xor</th>\n",
       "    </tr>\n",
       "  </thead>\n",
       "  <tbody>\n",
       "    <tr>\n",
       "      <th>0</th>\n",
       "      <td>0</td>\n",
       "      <td>0</td>\n",
       "      <td>-1</td>\n",
       "      <td>-1</td>\n",
       "      <td>-1</td>\n",
       "    </tr>\n",
       "    <tr>\n",
       "      <th>1</th>\n",
       "      <td>1</td>\n",
       "      <td>1</td>\n",
       "      <td>1</td>\n",
       "      <td>1</td>\n",
       "      <td>-1</td>\n",
       "    </tr>\n",
       "    <tr>\n",
       "      <th>2</th>\n",
       "      <td>0</td>\n",
       "      <td>0</td>\n",
       "      <td>-1</td>\n",
       "      <td>-1</td>\n",
       "      <td>-1</td>\n",
       "    </tr>\n",
       "    <tr>\n",
       "      <th>3</th>\n",
       "      <td>0</td>\n",
       "      <td>1</td>\n",
       "      <td>-1</td>\n",
       "      <td>1</td>\n",
       "      <td>1</td>\n",
       "    </tr>\n",
       "    <tr>\n",
       "      <th>4</th>\n",
       "      <td>0</td>\n",
       "      <td>1</td>\n",
       "      <td>-1</td>\n",
       "      <td>1</td>\n",
       "      <td>1</td>\n",
       "    </tr>\n",
       "  </tbody>\n",
       "</table>\n",
       "</div>"
      ],
      "text/plain": [
       "   x1  x2  And  Or  Xor\n",
       "0   0   0   -1  -1   -1\n",
       "1   1   1    1   1   -1\n",
       "2   0   0   -1  -1   -1\n",
       "3   0   1   -1   1    1\n",
       "4   0   1   -1   1    1"
      ]
     },
     "execution_count": 2,
     "metadata": {},
     "output_type": "execute_result"
    }
   ],
   "source": [
    "size = 200\n",
    "\n",
    "zerone = pd.DataFrame()\n",
    "zerone['x1']  = np.random.randint(0,2,size)\n",
    "zerone['x2']  = np.random.randint(0,2,size)\n",
    "zerone['And'] = np.logical_and(zerone.x1,zerone.x2)\n",
    "zerone['Or']  = np.logical_or(zerone.x1,zerone.x2)\n",
    "zerone['Xor'] = np.logical_xor(zerone.x1,zerone.x2)\n",
    "\n",
    "zerone = zerone*1\n",
    "a = zerone[['And','Or','Xor']].replace(0,-1)\n",
    "zerone[['And','Or','Xor']] = a\n",
    "\n",
    "zerone.head()"
   ]
  },
  {
   "cell_type": "markdown",
   "id": "built-machine",
   "metadata": {},
   "source": [
    "## MLP2HL"
   ]
  },
  {
   "cell_type": "code",
   "execution_count": 3,
   "id": "pleased-indonesia",
   "metadata": {},
   "outputs": [],
   "source": [
    "class MLP2HL(object):\n",
    "    \n",
    "    def __init__(self, Xtrain, ytrain, Xval, yval, epochs, lr, n1, n2, precision):\n",
    "        self.epc    = epochs\n",
    "        self.lr     = lr\n",
    "        self.n1     = n1   #First hidden layer neuron quantity\n",
    "        self.n2     = n2\n",
    "        \n",
    "        self.d       = ytrain.values\n",
    "        self.x       = np.insert(Xtrain.values, 0, -1, axis = 1)\n",
    "        self.dval       = yval.values\n",
    "        self.xval       = np.insert(Xval.values, 0, -1, axis = 1)\n",
    "        \n",
    "        self.mse_      = []\n",
    "        self.mse       = pd.DataFrame()\n",
    "        self.mseval_      = []\n",
    "        self.mseval       = pd.DataFrame()\n",
    "        \n",
    "        \n",
    "        self.precision = precision\n",
    "        \n",
    "        \n",
    "        self.weight1 = np.random.rand(self.n1,self.x.shape[1])  \n",
    "        self.weight2 = np.random.rand(self.n2,self.n1+1)          #+1 for the w0\n",
    "        self.weight3 = np.random.rand(self.d.shape[1],self.n2+1)  #+1 for the w0\n",
    "        \n",
    "        self.sigma1 = np.zeros(self.n1)\n",
    "        self.sigma2 = np.zeros(self.n2)\n",
    "        self.sigma3 = np.zeros(self.d.shape[1])\n",
    "        \n",
    "        self.scape = False\n",
    "        \n",
    "        #Activations functions and it's derivates\n",
    "    def tanh(self, val):\n",
    "        return np.tanh(val)\n",
    "    \n",
    "    def tanhD(self, val):\n",
    "        return (1-(np.tanh(val))**2)\n",
    "    \n",
    "    def logistic(self, val):\n",
    "        return (1/(1+np.exp(-val)))\n",
    "    \n",
    "    def logisticD(self, val):\n",
    "        aux = (1/(1+np.exp(-val)))\n",
    "        return aux*(1-aux)\n",
    "      \n",
    "    #Forward step \n",
    "    def forward(self):        \n",
    "        self.l1 = np.dot(self.xi,self.weight1.T)\n",
    "        self.Y1 = np.insert(self.tanh(self.l1), 0, -1)\n",
    "        self.l2 = np.dot(self.Y1,self.weight2.T)\n",
    "        self.Y2 = np.insert(self.tanh(self.l2), 0, -1)\n",
    "        self.l3 = np.dot(self.Y2, self.weight3.T)\n",
    "        self.Y3 = self.tanh(self.l3)\n",
    "        \n",
    "    def backpropagation(self):\n",
    "        #Step 1\n",
    "        self.sigma3    = ((self.di - self.Y3)*self.tanhD(self.l3))\n",
    "        self.sigma3    =  self.sigma3.reshape(-1,1)\n",
    "        self.weight3  +=   self.lr*self.sigma3*self.Y2\n",
    "        \n",
    "        #Step 2\n",
    "        ## Layer 2\n",
    "        self.sigma2   = np.sum(self.sigma3*self.weight3[:,1:], axis=0)*self.tanhD(self.l2)\n",
    "        self.sigma2   = self.sigma2.reshape(-1,1)\n",
    "        self.weight2 += (self.lr*self.sigma2*self.Y1)\n",
    "        \n",
    "        ## Layer 1\n",
    "        self.sigma1   =  np.sum(self.sigma2*self.weight2[:,1:], axis=0)*self.tanhD(self.l1)\n",
    "        self.sigma1   =  self.sigma1.reshape(-1,1)\n",
    "        self.weight1 += (self.lr*self.sigma1*self.xi)\n",
    "        \n",
    "        \n",
    "        \n",
    "\n",
    "    def predict(self,x,act_func):   \n",
    "        self.pred_x = np.insert(x, 0, -1, axis = 1)\n",
    "        self.pred = []\n",
    "        for xi in self.pred_x:\n",
    "            self.xi = xi\n",
    "            self.forward()\n",
    "            self.pred.append(self.Y2)\n",
    "        \n",
    "        if act_func == 'None':\n",
    "            return self.pred\n",
    "        \n",
    "        elif act_func == 'Step':\n",
    "            return self.step(self.pred)\n",
    "        \n",
    "        elif act_func == 'biStep':\n",
    "            return self.biStep(self.pred)\n",
    "    \n",
    "    def MSE(self,train_val):\n",
    "        \n",
    "        if train_val == 'train':\n",
    "            error    = np.square(self.mse_)/2\n",
    "            error    = error.mean()\n",
    "            error    = pd.DataFrame([error])\n",
    "            self.mse = pd.concat((self.mse,error))\n",
    "        \n",
    "        elif train_val == 'val':\n",
    "            error       = np.array(mlp.mseval_)/2\n",
    "            error       = error.mean()\n",
    "            error       = pd.DataFrame([error])\n",
    "            self.mseval = pd.concat((self.mseval,error))\n",
    "        \n",
    "    def validation(self):\n",
    "        self.mseval_ = []\n",
    "        for xi,di in zip(self.xval,self.dval):\n",
    "            self.xi = xi\n",
    "            self.di = di\n",
    "            self.forward()\n",
    "            error = (self.dval-self.Y3)**2\n",
    "            self.mseval_.append(np.sum(error))   \n",
    "            \n",
    "        self.MSE('val')\n",
    "    \n",
    "    \n",
    "    def fit(self):\n",
    "        self.iteration = 0\n",
    "        while(self.scape == False):\n",
    "            self.mse_    = []\n",
    "            for xi,di in zip(self.x,self.d):\n",
    "                self.xi = xi\n",
    "                self.di = di\n",
    "                self.forward()\n",
    "                self.backpropagation()\n",
    "                error = (self.di-self.Y3)**2\n",
    "                self.mse_.append(np.sum(error))\n",
    "                \n",
    "                \n",
    "            self.MSE('train')\n",
    "            self.validation()\n",
    "            \n",
    "            self.iteration += 1\n",
    "            if self.iteration >= self.epc:\n",
    "                self.scape = True\n",
    "                \n",
    "            if self.iteration > 1:\n",
    "                self.e = np.absolute(self.mse.iloc[-1][0] - self.mse.iloc[-2][0])\n",
    "                \n",
    "                if (self.precision >= self.e):   \n",
    "                    self.scape = True\n",
    "    \n",
    "    def step(self, y):\n",
    "        return (pd.DataFrame(y)>=0)*1\n",
    "    \n",
    "    def biStep(self, y):\n",
    "        return ((pd.DataFrame(y)>=0)*1).replace(0,-1)    "
   ]
  },
  {
   "cell_type": "markdown",
   "id": "nervous-magic",
   "metadata": {},
   "source": [
    "## MLP1HL"
   ]
  },
  {
   "cell_type": "code",
   "execution_count": 318,
   "id": "copyrighted-shirt",
   "metadata": {},
   "outputs": [
    {
     "ename": "SyntaxError",
     "evalue": "invalid syntax (<ipython-input-318-deff9bb6a8d0>, line 96)",
     "output_type": "error",
     "traceback": [
      "\u001b[1;36m  File \u001b[1;32m\"<ipython-input-318-deff9bb6a8d0>\"\u001b[1;36m, line \u001b[1;32m96\u001b[0m\n\u001b[1;33m    self.mseval_.append(np.sum(error))\u001b[0m\n\u001b[1;37m    ^\u001b[0m\n\u001b[1;31mSyntaxError\u001b[0m\u001b[1;31m:\u001b[0m invalid syntax\n"
     ]
    }
   ],
   "source": [
    "class MLP1HL(object):\n",
    "    \n",
    "    def __init__(self, Xtrain, ytrain, Xval, yval, Xtest, ytest, epochs, lr, n1, precision, alpha):\n",
    "        self.epc    = epochs\n",
    "        self.lr     = lr\n",
    "        self.n1     = n1   #First hidden layer neuron quantity\n",
    "        \n",
    "        self.d       = ytrain.values\n",
    "        self.x       = np.insert(Xtrain.values, 0, -1, axis = 1)\n",
    "        self.dval    = yval.values\n",
    "        self.xval    = np.insert(Xval.values, 0, -1, axis = 1)\n",
    "        self.xtest   = np.insert(Xtest, 0, -1, axis = 1)\n",
    "        self.dtest   = ytest.values\n",
    "        \n",
    "        self.mse_      = []\n",
    "        self.mse       = pd.DataFrame()\n",
    "        self.mseval_   = []\n",
    "        self.mseval    = pd.DataFrame()\n",
    "        self.msetest_  = []\n",
    "        self.msetest   = pd.DataFrame()\n",
    "        self.minmseval = 100000\n",
    "        \n",
    "        \n",
    "        self.precision = precision\n",
    "        \n",
    "        \n",
    "        self.weight1 = np.random.rand(self.n1,self.x.shape[1])  \n",
    "        self.weight2 = np.random.rand(self.d.shape[1],self.n1+1)          #+1 for the w0\n",
    "        self.weight1_t_1 = self.weight1\n",
    "        self.weight2_t_1 = self.weight2\n",
    "        self.alpha = alpha\n",
    "        \n",
    "        self.scape = False\n",
    "\n",
    "        \n",
    "        #Activations functions and it's derivates\n",
    "    def tanh(self, val):\n",
    "        return np.tanh(val)\n",
    "    \n",
    "    def tanhD(self, val):\n",
    "        return (1-(np.tanh(val))**2)\n",
    "    \n",
    "    def logistic(self, val):\n",
    "        return (1/(1+np.exp(-val)))\n",
    "    \n",
    "    def logisticD(self, val):\n",
    "        aux = (1/(1+np.exp(-val)))\n",
    "        return aux*(1-aux)\n",
    "      \n",
    "    #Forward step \n",
    "    def forward(self):        \n",
    "        self.l1 = np.dot(self.xi,self.weight1.T)\n",
    "        self.Y1 = np.insert(self.tanh(self.l1), 0, -1)\n",
    "        self.l2 = np.dot(self.Y1, self.weight2.T)\n",
    "        self.Y2 = self.tanh(self.l2)\n",
    "        \n",
    "    def backpropagation(self):\n",
    "        #Step 1\n",
    "        self.sigma2    = ((self.di - self.Y2)*self.tanhD(self.l2))\n",
    "        self.sigma2    =  self.sigma2.reshape(-1,1)\n",
    "        self.weight2  +=   (self.lr*self.sigma2*self.Y1)+(self.alpha*(self.weight2-self.weight2_t_1))\n",
    "        self.weight2_t_1 = self.weight2\n",
    "        \n",
    "        #Step 2\n",
    "        ## Layer 1\n",
    "        self.sigma1  =  np.sum(self.sigma2*self.weight2[:,1:], axis=0)*self.tanhD(self.l1)\n",
    "        self.sigma1  =  self.sigma1.reshape(-1,1)\n",
    "        self.weight1 += (self.lr*self.sigma1*self.xi)+(self.alpha*(self.weight1-self.weight1_t_1))\n",
    "        self.weight1_t_1 = self.weight1\n",
    "\n",
    "    def predict(self,x,act_func):   \n",
    "        self.pred_x = np.insert(x, 0, -1, axis = 1)\n",
    "        self.pred = []\n",
    "        for xi in self.pred_x:\n",
    "            self.xi = xi\n",
    "            self.forward()\n",
    "            self.pred.append(self.Y2)\n",
    "        \n",
    "        if act_func == 'None':\n",
    "            return self.pred\n",
    "        \n",
    "        elif act_func == 'Step':\n",
    "            return self.step(self.pred)\n",
    "        \n",
    "        elif act_func == 'biStep':\n",
    "            return self.biStep(self.pred)\n",
    "        \n",
    "    \n",
    "    def validation(self):\n",
    "        self.mseval_ = []\n",
    "        for xi,di in zip(self.xval,self.dval):\n",
    "            self.xi = xi\n",
    "            self.di = di\n",
    "            self.forward()\n",
    "            error = np.square((self.di-self.Y2)\n",
    "            self.mseval_.append(np.sum(error))   \n",
    "            \n",
    "        self.MSE('val')\n",
    "        \n",
    "        \n",
    "    def predict_test(self):\n",
    "        self.msetest_ = []\n",
    "        for xi,di in zip(self.xtest,self.dtest):\n",
    "            self.xi    = xi\n",
    "            self.di    = di\n",
    "            self.forward()\n",
    "            error = np.square((self.di-self.Y2)\n",
    "            self.msetest_.append(np.sum(error))\n",
    "        \n",
    "        self.MSE('test')\n",
    "        \n",
    "    \n",
    "    def MSE(self,train_val):\n",
    "        \n",
    "        if train_val == 'train':\n",
    "            error    = np.array(self.mse_)/2\n",
    "            error    = error.mean()\n",
    "            error    = pd.DataFrame([error])\n",
    "            self.mse = pd.concat((self.mse,error))\n",
    "        \n",
    "        elif train_val == 'val':\n",
    "            error       = np.array(mlp.mseval_)/2\n",
    "            error       = error.mean()\n",
    "            error       = pd.DataFrame([error])\n",
    "            self.mseval = pd.concat((self.mseval,error))\n",
    "            \n",
    "        elif train_val == 'test':\n",
    "            error        = np.array(mlp.msetest_)/2\n",
    "            error        = error.mean()\n",
    "            error        = pd.DataFrame([error])\n",
    "            self.msetest = pd.concat((self.msetest,error))\n",
    "    \n",
    "    \n",
    "    def fit(self):\n",
    "        self.iteration = 0\n",
    "        while(self.scape == False):\n",
    "            self.mse_    = []\n",
    "            for xi,di in zip(self.x,self.d):\n",
    "                self.xi = xi\n",
    "                self.di = di\n",
    "                self.forward()\n",
    "                self.backpropagation()\n",
    "                error = np.square(self.di-self.Y2)\n",
    "                self.mse_.append(np.sum(error))\n",
    "                \n",
    "                \n",
    "            self.MSE('train')\n",
    "            self.validation()\n",
    "            \n",
    "            \n",
    "            self.iteration += 1\n",
    "            if self.iteration >= self.epc:\n",
    "                self.scape = True\n",
    "                \n",
    "            if self.iteration > 1:\n",
    "                #Stop criteria\n",
    "                self.e = np.absolute(self.mse.iloc[-1][0] - self.mse.iloc[-2][0])\n",
    "                \n",
    "                if (self.precision >= self.e):   \n",
    "                    self.scape = True\n",
    "                \n",
    "                #Best weight saving\n",
    "                if (self.mseval.iloc[-1][0] < self.minmseval):\n",
    "                    self.minmseval = self.mseval.iloc[-1][0]\n",
    "                    self.best_w1   = self.weight1\n",
    "                    self.best_w2   = self.weight2\n",
    "                    self.ite_check = self.iteration\n",
    "            \n",
    "        self.weight1 = self.best_w1\n",
    "        self.weight2 = self.best_w2\n",
    "        \n",
    "        self.predict_test()\n",
    "    \n",
    "    def step(self, y):\n",
    "        return (pd.DataFrame(y)>=0)*1\n",
    "    \n",
    "    def biStep(self, y):\n",
    "        return ((pd.DataFrame(y)>=0)*1).replace(0,-1)"
   ]
  },
  {
   "cell_type": "code",
   "execution_count": 317,
   "id": "inappropriate-evolution",
   "metadata": {},
   "outputs": [
    {
     "data": {
      "text/plain": [
       "array([1, 4, 9], dtype=int32)"
      ]
     },
     "execution_count": 317,
     "metadata": {},
     "output_type": "execute_result"
    }
   ],
   "source": [
    "np.square(np.array([-1, 2, -3]))"
   ]
  },
  {
   "cell_type": "code",
   "execution_count": 8,
   "id": "lightweight-beach",
   "metadata": {},
   "outputs": [],
   "source": [
    "sep = 100\n",
    "X_train = zerone.iloc[:sep,:2]\n",
    "y_train = zerone.iloc[:sep,2:]\n",
    "X_test = zerone.iloc[sep:,:2]\n",
    "y_test = zerone.iloc[sep:,2:]"
   ]
  },
  {
   "cell_type": "markdown",
   "id": "electrical-assumption",
   "metadata": {},
   "source": [
    "### Portas lógicas"
   ]
  },
  {
   "cell_type": "code",
   "execution_count": 9,
   "id": "awful-powder",
   "metadata": {},
   "outputs": [],
   "source": [
    "y_train_run = pd.DataFrame(y_train['Xor'])"
   ]
  },
  {
   "cell_type": "code",
   "execution_count": 39,
   "id": "atomic-haiti",
   "metadata": {
    "collapsed": true
   },
   "outputs": [
    {
     "ename": "NameError",
     "evalue": "name 'X_train' is not defined",
     "output_type": "error",
     "traceback": [
      "\u001b[1;31m---------------------------------------------------------------------------\u001b[0m",
      "\u001b[1;31mNameError\u001b[0m                                 Traceback (most recent call last)",
      "\u001b[1;32m<ipython-input-39-0c7c2ce11a33>\u001b[0m in \u001b[0;36m<module>\u001b[1;34m\u001b[0m\n\u001b[0;32m      5\u001b[0m \u001b[1;33m\u001b[0m\u001b[0m\n\u001b[0;32m      6\u001b[0m \u001b[1;32mfor\u001b[0m \u001b[0mi\u001b[0m \u001b[1;32min\u001b[0m \u001b[0mnp\u001b[0m\u001b[1;33m.\u001b[0m\u001b[0marange\u001b[0m\u001b[1;33m(\u001b[0m\u001b[1;36m1\u001b[0m\u001b[1;33m,\u001b[0m\u001b[1;36m11\u001b[0m\u001b[1;33m,\u001b[0m\u001b[1;36m1\u001b[0m\u001b[1;33m)\u001b[0m\u001b[1;33m:\u001b[0m\u001b[1;33m\u001b[0m\u001b[1;33m\u001b[0m\u001b[0m\n\u001b[1;32m----> 7\u001b[1;33m     \u001b[0mmlp\u001b[0m \u001b[1;33m=\u001b[0m \u001b[0mMLP1HL\u001b[0m\u001b[1;33m(\u001b[0m\u001b[0mXtrain\u001b[0m\u001b[1;33m=\u001b[0m\u001b[0mX_train\u001b[0m\u001b[1;33m,\u001b[0m \u001b[0mytrain\u001b[0m\u001b[1;33m=\u001b[0m\u001b[0my_train_run\u001b[0m\u001b[1;33m,\u001b[0m \u001b[0mlr\u001b[0m\u001b[1;33m=\u001b[0m\u001b[1;36m0.001\u001b[0m\u001b[1;33m,\u001b[0m \u001b[0mepochs\u001b[0m\u001b[1;33m=\u001b[0m\u001b[1;36m1000\u001b[0m\u001b[1;33m,\u001b[0m \u001b[0mn1\u001b[0m\u001b[1;33m=\u001b[0m\u001b[1;36m3\u001b[0m\u001b[1;33m,\u001b[0m \u001b[0mprecision\u001b[0m \u001b[1;33m=\u001b[0m \u001b[1;36m0.00001\u001b[0m\u001b[1;33m)\u001b[0m\u001b[1;33m\u001b[0m\u001b[1;33m\u001b[0m\u001b[0m\n\u001b[0m\u001b[0;32m      8\u001b[0m     \u001b[0mmlp\u001b[0m\u001b[1;33m.\u001b[0m\u001b[0mfit\u001b[0m\u001b[1;33m(\u001b[0m\u001b[1;33m)\u001b[0m\u001b[1;33m\u001b[0m\u001b[1;33m\u001b[0m\u001b[0m\n\u001b[0;32m      9\u001b[0m     \u001b[0mmse_mlp\u001b[0m\u001b[1;33m[\u001b[0m\u001b[0mnp\u001b[0m\u001b[1;33m.\u001b[0m\u001b[0mstr\u001b[0m\u001b[1;33m(\u001b[0m\u001b[0mi\u001b[0m\u001b[1;33m)\u001b[0m\u001b[1;33m]\u001b[0m \u001b[1;33m=\u001b[0m \u001b[0mmlp\u001b[0m\u001b[1;33m.\u001b[0m\u001b[0mmse\u001b[0m\u001b[1;33m.\u001b[0m\u001b[0mreset_index\u001b[0m\u001b[1;33m(\u001b[0m\u001b[1;33m)\u001b[0m\u001b[1;33m[\u001b[0m\u001b[1;36m0\u001b[0m\u001b[1;33m]\u001b[0m\u001b[1;33m\u001b[0m\u001b[1;33m\u001b[0m\u001b[0m\n",
      "\u001b[1;31mNameError\u001b[0m: name 'X_train' is not defined"
     ]
    }
   ],
   "source": [
    "weight1_mlp = pd.DataFrame()\n",
    "weight2_mlp = pd.DataFrame()\n",
    "mse_mlp     = pd.DataFrame(np.zeros(1000))\n",
    "ite_mlp     = []\n",
    "\n",
    "for i in np.arange(1,11,1):\n",
    "    mlp = MLP1HL(Xtrain=X_train, ytrain=y_train_run, lr=0.001, epochs=1000, n1=3, precision = 0.00001)\n",
    "    mlp.fit()\n",
    "    mse_mlp[np.str(i)] = mlp.mse.reset_index()[0]\n",
    "    ite_mlp.append(mlp.iteration)\n",
    "    weight1_mlp = pd.concat((weight1_mlp,pd.DataFrame(mlp.weight1)))\n",
    "    weight2_mlp = pd.concat((weight2_mlp,pd.DataFrame(mlp.weight2)))\n",
    "\n",
    "mse_mlp.drop(0, axis = 1, inplace = True)\n",
    "mse_mlp.dropna(axis=0, how='all')"
   ]
  },
  {
   "cell_type": "code",
   "execution_count": 11,
   "id": "vietnamese-satisfaction",
   "metadata": {
    "collapsed": true
   },
   "outputs": [
    {
     "data": {
      "text/plain": [
       "<matplotlib.legend.Legend at 0x1ae298729d0>"
      ]
     },
     "execution_count": 11,
     "metadata": {},
     "output_type": "execute_result"
    },
    {
     "data": {
      "image/png": "[encoded data removed]",
      "text/plain": [
       "<Figure size 720x720 with 1 Axes>"
      ]
     },
     "metadata": {
      "needs_background": "light"
     },
     "output_type": "display_data"
    }
   ],
   "source": [
    "plt.figure(figsize = (10,10))\n",
    "for i in range(mse_mlp.shape[1]):\n",
    "    x = np.arange(0,mse_mlp.shape[0],1)\n",
    "    plt.plot(x,mse_mlp.iloc[:,i], label='run: '+np.str(i+1))\n",
    "plt.xlabel('Iterations')\n",
    "plt.ylabel('MSE')\n",
    "plt.legend(loc='best')"
   ]
  },
  {
   "cell_type": "code",
   "execution_count": 17,
   "id": "enhanced-postcard",
   "metadata": {},
   "outputs": [],
   "source": [
    "from sklearn.metrics import confusion_matrix, classification_report"
   ]
  },
  {
   "cell_type": "code",
   "execution_count": 114,
   "id": "classical-bottle",
   "metadata": {
    "collapsed": true
   },
   "outputs": [
    {
     "name": "stdout",
     "output_type": "stream",
     "text": [
      "              precision    recall  f1-score   support\n",
      "\n",
      "          -1       1.00      1.00      1.00        57\n",
      "           1       1.00      1.00      1.00        43\n",
      "\n",
      "    accuracy                           1.00       100\n",
      "   macro avg       1.00      1.00      1.00       100\n",
      "weighted avg       1.00      1.00      1.00       100\n",
      "\n",
      "\n",
      "\n",
      "[[57  0]\n",
      " [ 0 43]]\n"
     ]
    }
   ],
   "source": [
    "y = mlp.predict(X_test.values, act_func = 'biStep')\n",
    "\n",
    "print(classification_report(y_test['Xor'],y))\n",
    "print('\\n')\n",
    "print(confusion_matrix(y_test['Xor'],y))"
   ]
  },
  {
   "cell_type": "markdown",
   "id": "specified-column",
   "metadata": {},
   "source": [
    "#### Parâmetros"
   ]
  },
  {
   "cell_type": "markdown",
   "id": "accessory-steam",
   "metadata": {},
   "source": [
    "lr=0.001, epochs=1000, precision = 0.00001"
   ]
  },
  {
   "cell_type": "markdown",
   "id": "nuclear-possession",
   "metadata": {},
   "source": [
    "##### AND"
   ]
  },
  {
   "cell_type": "markdown",
   "id": "intense-variety",
   "metadata": {},
   "source": [
    "n=1\n",
    "[531, 537, 543, 572, 540, 559, 569, 574, 567, 566]\n",
    "\n",
    "run 3 mse: 0.0037040636790026467"
   ]
  },
  {
   "cell_type": "markdown",
   "id": "close-crown",
   "metadata": {},
   "source": [
    "n=2\n",
    "[499, 518, 479, 471, 492, 468, 539, 505, 489, 486]\n",
    "\n",
    "run 6 mse: 0.0034324181386589255"
   ]
  },
  {
   "cell_type": "markdown",
   "id": "acceptable-nebraska",
   "metadata": {},
   "source": [
    "n=3\n",
    "[446, 480, 437, 422, 442, 476, 502, 424, 470, 501]\n",
    "\n",
    "run 5 mse: 0.003308679867185873"
   ]
  },
  {
   "cell_type": "markdown",
   "id": "fifty-chemistry",
   "metadata": {},
   "source": [
    "#### OR"
   ]
  },
  {
   "cell_type": "markdown",
   "id": "integrated-watershed",
   "metadata": {},
   "source": [
    "n=1\n",
    "[445, 453, 415, 430, 493, 452, 455, 468, 436, 431]\n",
    "\n",
    "run 1 mse:0.0032915613370687402"
   ]
  },
  {
   "cell_type": "markdown",
   "id": "frequent-knowing",
   "metadata": {},
   "source": [
    "n=2\n",
    "[428, 367, 412, 386, 376, 408, 403, 406, 383, 418]\n",
    "\n",
    "run 2 mse: 0.0029011203584703603"
   ]
  },
  {
   "cell_type": "markdown",
   "id": "favorite-occurrence",
   "metadata": {},
   "source": [
    "n=3\n",
    "[347, 308, 367, 333, 375, 375, 350, 342, 371, 357]\n",
    "\n",
    "run 2 mse: 0.002740870735822879"
   ]
  },
  {
   "cell_type": "markdown",
   "id": "removable-theology",
   "metadata": {},
   "source": [
    "##### XOR"
   ]
  },
  {
   "cell_type": "markdown",
   "id": "logical-military",
   "metadata": {},
   "source": [
    "n=1\n",
    "[926, 86, 929, 1000, 55, 1000, 965, 1000, 1000, 979]\n",
    "\n",
    "run 1 mse: 0.33182229895002324"
   ]
  },
  {
   "cell_type": "markdown",
   "id": "forced-saint",
   "metadata": {},
   "source": [
    "n=2\n",
    "[1000, 996, 92, 1000, 1000, 1000, 1000, 921, 1000, 993]\n",
    "\n",
    "run 10 mse: 0.005663927227978598"
   ]
  },
  {
   "cell_type": "markdown",
   "id": "diverse-garden",
   "metadata": {},
   "source": [
    "n=3\n",
    "[939, 904, 944, 921, 1000, 1000, 949, 885, 1000, 905]\n",
    "\n",
    "run 10 mse: 0.005229562458754368"
   ]
  },
  {
   "cell_type": "markdown",
   "id": "theoretical-chance",
   "metadata": {},
   "source": [
    "## IRIS AND WINE"
   ]
  },
  {
   "cell_type": "markdown",
   "id": "mental-yugoslavia",
   "metadata": {},
   "source": [
    "### Data loading and normalizing"
   ]
  },
  {
   "cell_type": "code",
   "execution_count": 6,
   "id": "dangerous-devil",
   "metadata": {},
   "outputs": [],
   "source": [
    "def norm(x):\n",
    "    xmin = x.min()\n",
    "    xmax = x.max()\n",
    "    x = np.array(x)\n",
    "    x = -1 + (2*((x-xmin)/(xmax-xmin)))\n",
    "    return x"
   ]
  },
  {
   "cell_type": "code",
   "execution_count": 7,
   "id": "bigger-suspect",
   "metadata": {},
   "outputs": [],
   "source": [
    "from sklearn.datasets import load_iris, load_wine"
   ]
  },
  {
   "cell_type": "code",
   "execution_count": 8,
   "id": "developed-scanning",
   "metadata": {},
   "outputs": [],
   "source": [
    "iris = load_iris()\n",
    "wine = load_wine()"
   ]
  },
  {
   "cell_type": "code",
   "execution_count": 9,
   "id": "respective-indonesia",
   "metadata": {},
   "outputs": [
    {
     "data": {
      "text/html": [
       "<div>\n",
       "<style scoped>\n",
       "    .dataframe tbody tr th:only-of-type {\n",
       "        vertical-align: middle;\n",
       "    }\n",
       "\n",
       "    .dataframe tbody tr th {\n",
       "        vertical-align: top;\n",
       "    }\n",
       "\n",
       "    .dataframe thead th {\n",
       "        text-align: right;\n",
       "    }\n",
       "</style>\n",
       "<table border=\"1\" class=\"dataframe\">\n",
       "  <thead>\n",
       "    <tr style=\"text-align: right;\">\n",
       "      <th></th>\n",
       "      <th>sepal length (cm)</th>\n",
       "      <th>sepal width (cm)</th>\n",
       "      <th>petal length (cm)</th>\n",
       "      <th>petal width (cm)</th>\n",
       "      <th>setosa</th>\n",
       "      <th>versicolor</th>\n",
       "      <th>virginica</th>\n",
       "    </tr>\n",
       "  </thead>\n",
       "  <tbody>\n",
       "    <tr>\n",
       "      <th>0</th>\n",
       "      <td>5.1</td>\n",
       "      <td>3.5</td>\n",
       "      <td>1.4</td>\n",
       "      <td>0.2</td>\n",
       "      <td>1</td>\n",
       "      <td>-1</td>\n",
       "      <td>-1</td>\n",
       "    </tr>\n",
       "    <tr>\n",
       "      <th>1</th>\n",
       "      <td>4.9</td>\n",
       "      <td>3.0</td>\n",
       "      <td>1.4</td>\n",
       "      <td>0.2</td>\n",
       "      <td>1</td>\n",
       "      <td>-1</td>\n",
       "      <td>-1</td>\n",
       "    </tr>\n",
       "    <tr>\n",
       "      <th>2</th>\n",
       "      <td>4.7</td>\n",
       "      <td>3.2</td>\n",
       "      <td>1.3</td>\n",
       "      <td>0.2</td>\n",
       "      <td>1</td>\n",
       "      <td>-1</td>\n",
       "      <td>-1</td>\n",
       "    </tr>\n",
       "    <tr>\n",
       "      <th>3</th>\n",
       "      <td>4.6</td>\n",
       "      <td>3.1</td>\n",
       "      <td>1.5</td>\n",
       "      <td>0.2</td>\n",
       "      <td>1</td>\n",
       "      <td>-1</td>\n",
       "      <td>-1</td>\n",
       "    </tr>\n",
       "    <tr>\n",
       "      <th>4</th>\n",
       "      <td>5.0</td>\n",
       "      <td>3.6</td>\n",
       "      <td>1.4</td>\n",
       "      <td>0.2</td>\n",
       "      <td>1</td>\n",
       "      <td>-1</td>\n",
       "      <td>-1</td>\n",
       "    </tr>\n",
       "  </tbody>\n",
       "</table>\n",
       "</div>"
      ],
      "text/plain": [
       "   sepal length (cm)  sepal width (cm)  petal length (cm)  petal width (cm)  \\\n",
       "0                5.1               3.5                1.4               0.2   \n",
       "1                4.9               3.0                1.4               0.2   \n",
       "2                4.7               3.2                1.3               0.2   \n",
       "3                4.6               3.1                1.5               0.2   \n",
       "4                5.0               3.6                1.4               0.2   \n",
       "\n",
       "   setosa  versicolor  virginica  \n",
       "0       1          -1         -1  \n",
       "1       1          -1         -1  \n",
       "2       1          -1         -1  \n",
       "3       1          -1         -1  \n",
       "4       1          -1         -1  "
      ]
     },
     "execution_count": 9,
     "metadata": {},
     "output_type": "execute_result"
    }
   ],
   "source": [
    "iris_df = pd.DataFrame(data=iris.data,columns=iris.feature_names)\n",
    "iris_df[iris.target_names] = pd.get_dummies(iris.target).astype(np.int).replace(0,-1)\n",
    "iris_df.head()"
   ]
  },
  {
   "cell_type": "code",
   "execution_count": 10,
   "id": "august-belly",
   "metadata": {},
   "outputs": [
    {
     "data": {
      "text/html": [
       "<div>\n",
       "<style scoped>\n",
       "    .dataframe tbody tr th:only-of-type {\n",
       "        vertical-align: middle;\n",
       "    }\n",
       "\n",
       "    .dataframe tbody tr th {\n",
       "        vertical-align: top;\n",
       "    }\n",
       "\n",
       "    .dataframe thead th {\n",
       "        text-align: right;\n",
       "    }\n",
       "</style>\n",
       "<table border=\"1\" class=\"dataframe\">\n",
       "  <thead>\n",
       "    <tr style=\"text-align: right;\">\n",
       "      <th></th>\n",
       "      <th>sepal length (cm)</th>\n",
       "      <th>sepal width (cm)</th>\n",
       "      <th>petal length (cm)</th>\n",
       "      <th>petal width (cm)</th>\n",
       "      <th>setosa</th>\n",
       "      <th>versicolor</th>\n",
       "      <th>virginica</th>\n",
       "    </tr>\n",
       "  </thead>\n",
       "  <tbody>\n",
       "    <tr>\n",
       "      <th>0</th>\n",
       "      <td>-0.555556</td>\n",
       "      <td>0.250000</td>\n",
       "      <td>-0.864407</td>\n",
       "      <td>-0.916667</td>\n",
       "      <td>1</td>\n",
       "      <td>-1</td>\n",
       "      <td>-1</td>\n",
       "    </tr>\n",
       "    <tr>\n",
       "      <th>1</th>\n",
       "      <td>-0.666667</td>\n",
       "      <td>-0.166667</td>\n",
       "      <td>-0.864407</td>\n",
       "      <td>-0.916667</td>\n",
       "      <td>1</td>\n",
       "      <td>-1</td>\n",
       "      <td>-1</td>\n",
       "    </tr>\n",
       "    <tr>\n",
       "      <th>2</th>\n",
       "      <td>-0.777778</td>\n",
       "      <td>0.000000</td>\n",
       "      <td>-0.898305</td>\n",
       "      <td>-0.916667</td>\n",
       "      <td>1</td>\n",
       "      <td>-1</td>\n",
       "      <td>-1</td>\n",
       "    </tr>\n",
       "    <tr>\n",
       "      <th>3</th>\n",
       "      <td>-0.833333</td>\n",
       "      <td>-0.083333</td>\n",
       "      <td>-0.830508</td>\n",
       "      <td>-0.916667</td>\n",
       "      <td>1</td>\n",
       "      <td>-1</td>\n",
       "      <td>-1</td>\n",
       "    </tr>\n",
       "    <tr>\n",
       "      <th>4</th>\n",
       "      <td>-0.611111</td>\n",
       "      <td>0.333333</td>\n",
       "      <td>-0.864407</td>\n",
       "      <td>-0.916667</td>\n",
       "      <td>1</td>\n",
       "      <td>-1</td>\n",
       "      <td>-1</td>\n",
       "    </tr>\n",
       "  </tbody>\n",
       "</table>\n",
       "</div>"
      ],
      "text/plain": [
       "   sepal length (cm)  sepal width (cm)  petal length (cm)  petal width (cm)  \\\n",
       "0          -0.555556          0.250000          -0.864407         -0.916667   \n",
       "1          -0.666667         -0.166667          -0.864407         -0.916667   \n",
       "2          -0.777778          0.000000          -0.898305         -0.916667   \n",
       "3          -0.833333         -0.083333          -0.830508         -0.916667   \n",
       "4          -0.611111          0.333333          -0.864407         -0.916667   \n",
       "\n",
       "   setosa  versicolor  virginica  \n",
       "0       1          -1         -1  \n",
       "1       1          -1         -1  \n",
       "2       1          -1         -1  \n",
       "3       1          -1         -1  \n",
       "4       1          -1         -1  "
      ]
     },
     "execution_count": 10,
     "metadata": {},
     "output_type": "execute_result"
    }
   ],
   "source": [
    "iris_df_norm = pd.DataFrame(data=iris.data,columns=iris.feature_names).apply(norm, axis=0, result_type='broadcast',raw=True)\n",
    "iris_df_norm[iris.target_names] = pd.get_dummies(iris.target).astype(np.int).replace(0,-1)\n",
    "iris_df_norm.head()"
   ]
  },
  {
   "cell_type": "code",
   "execution_count": 11,
   "id": "cardiovascular-sydney",
   "metadata": {},
   "outputs": [
    {
     "data": {
      "text/html": [
       "<div>\n",
       "<style scoped>\n",
       "    .dataframe tbody tr th:only-of-type {\n",
       "        vertical-align: middle;\n",
       "    }\n",
       "\n",
       "    .dataframe tbody tr th {\n",
       "        vertical-align: top;\n",
       "    }\n",
       "\n",
       "    .dataframe thead th {\n",
       "        text-align: right;\n",
       "    }\n",
       "</style>\n",
       "<table border=\"1\" class=\"dataframe\">\n",
       "  <thead>\n",
       "    <tr style=\"text-align: right;\">\n",
       "      <th></th>\n",
       "      <th>alcohol</th>\n",
       "      <th>malic_acid</th>\n",
       "      <th>ash</th>\n",
       "      <th>alcalinity_of_ash</th>\n",
       "      <th>magnesium</th>\n",
       "      <th>total_phenols</th>\n",
       "      <th>flavanoids</th>\n",
       "      <th>nonflavanoid_phenols</th>\n",
       "      <th>proanthocyanins</th>\n",
       "      <th>color_intensity</th>\n",
       "      <th>hue</th>\n",
       "      <th>od280/od315_of_diluted_wines</th>\n",
       "      <th>proline</th>\n",
       "      <th>class_0</th>\n",
       "      <th>class_1</th>\n",
       "      <th>class_2</th>\n",
       "    </tr>\n",
       "  </thead>\n",
       "  <tbody>\n",
       "    <tr>\n",
       "      <th>0</th>\n",
       "      <td>14.23</td>\n",
       "      <td>1.71</td>\n",
       "      <td>2.43</td>\n",
       "      <td>15.6</td>\n",
       "      <td>127.0</td>\n",
       "      <td>2.80</td>\n",
       "      <td>3.06</td>\n",
       "      <td>0.28</td>\n",
       "      <td>2.29</td>\n",
       "      <td>5.64</td>\n",
       "      <td>1.04</td>\n",
       "      <td>3.92</td>\n",
       "      <td>1065.0</td>\n",
       "      <td>1</td>\n",
       "      <td>-1</td>\n",
       "      <td>-1</td>\n",
       "    </tr>\n",
       "    <tr>\n",
       "      <th>1</th>\n",
       "      <td>13.20</td>\n",
       "      <td>1.78</td>\n",
       "      <td>2.14</td>\n",
       "      <td>11.2</td>\n",
       "      <td>100.0</td>\n",
       "      <td>2.65</td>\n",
       "      <td>2.76</td>\n",
       "      <td>0.26</td>\n",
       "      <td>1.28</td>\n",
       "      <td>4.38</td>\n",
       "      <td>1.05</td>\n",
       "      <td>3.40</td>\n",
       "      <td>1050.0</td>\n",
       "      <td>1</td>\n",
       "      <td>-1</td>\n",
       "      <td>-1</td>\n",
       "    </tr>\n",
       "    <tr>\n",
       "      <th>2</th>\n",
       "      <td>13.16</td>\n",
       "      <td>2.36</td>\n",
       "      <td>2.67</td>\n",
       "      <td>18.6</td>\n",
       "      <td>101.0</td>\n",
       "      <td>2.80</td>\n",
       "      <td>3.24</td>\n",
       "      <td>0.30</td>\n",
       "      <td>2.81</td>\n",
       "      <td>5.68</td>\n",
       "      <td>1.03</td>\n",
       "      <td>3.17</td>\n",
       "      <td>1185.0</td>\n",
       "      <td>1</td>\n",
       "      <td>-1</td>\n",
       "      <td>-1</td>\n",
       "    </tr>\n",
       "    <tr>\n",
       "      <th>3</th>\n",
       "      <td>14.37</td>\n",
       "      <td>1.95</td>\n",
       "      <td>2.50</td>\n",
       "      <td>16.8</td>\n",
       "      <td>113.0</td>\n",
       "      <td>3.85</td>\n",
       "      <td>3.49</td>\n",
       "      <td>0.24</td>\n",
       "      <td>2.18</td>\n",
       "      <td>7.80</td>\n",
       "      <td>0.86</td>\n",
       "      <td>3.45</td>\n",
       "      <td>1480.0</td>\n",
       "      <td>1</td>\n",
       "      <td>-1</td>\n",
       "      <td>-1</td>\n",
       "    </tr>\n",
       "    <tr>\n",
       "      <th>4</th>\n",
       "      <td>13.24</td>\n",
       "      <td>2.59</td>\n",
       "      <td>2.87</td>\n",
       "      <td>21.0</td>\n",
       "      <td>118.0</td>\n",
       "      <td>2.80</td>\n",
       "      <td>2.69</td>\n",
       "      <td>0.39</td>\n",
       "      <td>1.82</td>\n",
       "      <td>4.32</td>\n",
       "      <td>1.04</td>\n",
       "      <td>2.93</td>\n",
       "      <td>735.0</td>\n",
       "      <td>1</td>\n",
       "      <td>-1</td>\n",
       "      <td>-1</td>\n",
       "    </tr>\n",
       "  </tbody>\n",
       "</table>\n",
       "</div>"
      ],
      "text/plain": [
       "   alcohol  malic_acid   ash  alcalinity_of_ash  magnesium  total_phenols  \\\n",
       "0    14.23        1.71  2.43               15.6      127.0           2.80   \n",
       "1    13.20        1.78  2.14               11.2      100.0           2.65   \n",
       "2    13.16        2.36  2.67               18.6      101.0           2.80   \n",
       "3    14.37        1.95  2.50               16.8      113.0           3.85   \n",
       "4    13.24        2.59  2.87               21.0      118.0           2.80   \n",
       "\n",
       "   flavanoids  nonflavanoid_phenols  proanthocyanins  color_intensity   hue  \\\n",
       "0        3.06                  0.28             2.29             5.64  1.04   \n",
       "1        2.76                  0.26             1.28             4.38  1.05   \n",
       "2        3.24                  0.30             2.81             5.68  1.03   \n",
       "3        3.49                  0.24             2.18             7.80  0.86   \n",
       "4        2.69                  0.39             1.82             4.32  1.04   \n",
       "\n",
       "   od280/od315_of_diluted_wines  proline  class_0  class_1  class_2  \n",
       "0                          3.92   1065.0        1       -1       -1  \n",
       "1                          3.40   1050.0        1       -1       -1  \n",
       "2                          3.17   1185.0        1       -1       -1  \n",
       "3                          3.45   1480.0        1       -1       -1  \n",
       "4                          2.93    735.0        1       -1       -1  "
      ]
     },
     "execution_count": 11,
     "metadata": {},
     "output_type": "execute_result"
    }
   ],
   "source": [
    "wine_df = pd.DataFrame(data=wine.data,columns=wine.feature_names)\n",
    "wine_df[wine.target_names] = pd.get_dummies(wine.target).astype(np.int).replace(0,-1)\n",
    "wine_df.head()"
   ]
  },
  {
   "cell_type": "code",
   "execution_count": 12,
   "id": "timely-lender",
   "metadata": {},
   "outputs": [
    {
     "data": {
      "text/html": [
       "<div>\n",
       "<style scoped>\n",
       "    .dataframe tbody tr th:only-of-type {\n",
       "        vertical-align: middle;\n",
       "    }\n",
       "\n",
       "    .dataframe tbody tr th {\n",
       "        vertical-align: top;\n",
       "    }\n",
       "\n",
       "    .dataframe thead th {\n",
       "        text-align: right;\n",
       "    }\n",
       "</style>\n",
       "<table border=\"1\" class=\"dataframe\">\n",
       "  <thead>\n",
       "    <tr style=\"text-align: right;\">\n",
       "      <th></th>\n",
       "      <th>alcohol</th>\n",
       "      <th>malic_acid</th>\n",
       "      <th>ash</th>\n",
       "      <th>alcalinity_of_ash</th>\n",
       "      <th>magnesium</th>\n",
       "      <th>total_phenols</th>\n",
       "      <th>flavanoids</th>\n",
       "      <th>nonflavanoid_phenols</th>\n",
       "      <th>proanthocyanins</th>\n",
       "      <th>color_intensity</th>\n",
       "      <th>hue</th>\n",
       "      <th>od280/od315_of_diluted_wines</th>\n",
       "      <th>proline</th>\n",
       "      <th>class_0</th>\n",
       "      <th>class_1</th>\n",
       "      <th>class_2</th>\n",
       "    </tr>\n",
       "  </thead>\n",
       "  <tbody>\n",
       "    <tr>\n",
       "      <th>0</th>\n",
       "      <td>0.684211</td>\n",
       "      <td>-0.616601</td>\n",
       "      <td>0.144385</td>\n",
       "      <td>-0.484536</td>\n",
       "      <td>0.239130</td>\n",
       "      <td>0.255172</td>\n",
       "      <td>0.147679</td>\n",
       "      <td>-0.433962</td>\n",
       "      <td>0.186120</td>\n",
       "      <td>-0.255973</td>\n",
       "      <td>-0.089431</td>\n",
       "      <td>0.941392</td>\n",
       "      <td>0.122682</td>\n",
       "      <td>1</td>\n",
       "      <td>-1</td>\n",
       "      <td>-1</td>\n",
       "    </tr>\n",
       "    <tr>\n",
       "      <th>1</th>\n",
       "      <td>0.142105</td>\n",
       "      <td>-0.588933</td>\n",
       "      <td>-0.165775</td>\n",
       "      <td>-0.938144</td>\n",
       "      <td>-0.347826</td>\n",
       "      <td>0.151724</td>\n",
       "      <td>0.021097</td>\n",
       "      <td>-0.509434</td>\n",
       "      <td>-0.451104</td>\n",
       "      <td>-0.470990</td>\n",
       "      <td>-0.073171</td>\n",
       "      <td>0.560440</td>\n",
       "      <td>0.101284</td>\n",
       "      <td>1</td>\n",
       "      <td>-1</td>\n",
       "      <td>-1</td>\n",
       "    </tr>\n",
       "    <tr>\n",
       "      <th>2</th>\n",
       "      <td>0.121053</td>\n",
       "      <td>-0.359684</td>\n",
       "      <td>0.401070</td>\n",
       "      <td>-0.175258</td>\n",
       "      <td>-0.326087</td>\n",
       "      <td>0.255172</td>\n",
       "      <td>0.223629</td>\n",
       "      <td>-0.358491</td>\n",
       "      <td>0.514196</td>\n",
       "      <td>-0.249147</td>\n",
       "      <td>-0.105691</td>\n",
       "      <td>0.391941</td>\n",
       "      <td>0.293866</td>\n",
       "      <td>1</td>\n",
       "      <td>-1</td>\n",
       "      <td>-1</td>\n",
       "    </tr>\n",
       "    <tr>\n",
       "      <th>3</th>\n",
       "      <td>0.757895</td>\n",
       "      <td>-0.521739</td>\n",
       "      <td>0.219251</td>\n",
       "      <td>-0.360825</td>\n",
       "      <td>-0.065217</td>\n",
       "      <td>0.979310</td>\n",
       "      <td>0.329114</td>\n",
       "      <td>-0.584906</td>\n",
       "      <td>0.116719</td>\n",
       "      <td>0.112628</td>\n",
       "      <td>-0.382114</td>\n",
       "      <td>0.597070</td>\n",
       "      <td>0.714693</td>\n",
       "      <td>1</td>\n",
       "      <td>-1</td>\n",
       "      <td>-1</td>\n",
       "    </tr>\n",
       "    <tr>\n",
       "      <th>4</th>\n",
       "      <td>0.163158</td>\n",
       "      <td>-0.268775</td>\n",
       "      <td>0.614973</td>\n",
       "      <td>0.072165</td>\n",
       "      <td>0.043478</td>\n",
       "      <td>0.255172</td>\n",
       "      <td>-0.008439</td>\n",
       "      <td>-0.018868</td>\n",
       "      <td>-0.110410</td>\n",
       "      <td>-0.481229</td>\n",
       "      <td>-0.089431</td>\n",
       "      <td>0.216117</td>\n",
       "      <td>-0.348074</td>\n",
       "      <td>1</td>\n",
       "      <td>-1</td>\n",
       "      <td>-1</td>\n",
       "    </tr>\n",
       "  </tbody>\n",
       "</table>\n",
       "</div>"
      ],
      "text/plain": [
       "    alcohol  malic_acid       ash  alcalinity_of_ash  magnesium  \\\n",
       "0  0.684211   -0.616601  0.144385          -0.484536   0.239130   \n",
       "1  0.142105   -0.588933 -0.165775          -0.938144  -0.347826   \n",
       "2  0.121053   -0.359684  0.401070          -0.175258  -0.326087   \n",
       "3  0.757895   -0.521739  0.219251          -0.360825  -0.065217   \n",
       "4  0.163158   -0.268775  0.614973           0.072165   0.043478   \n",
       "\n",
       "   total_phenols  flavanoids  nonflavanoid_phenols  proanthocyanins  \\\n",
       "0       0.255172    0.147679             -0.433962         0.186120   \n",
       "1       0.151724    0.021097             -0.509434        -0.451104   \n",
       "2       0.255172    0.223629             -0.358491         0.514196   \n",
       "3       0.979310    0.329114             -0.584906         0.116719   \n",
       "4       0.255172   -0.008439             -0.018868        -0.110410   \n",
       "\n",
       "   color_intensity       hue  od280/od315_of_diluted_wines   proline  class_0  \\\n",
       "0        -0.255973 -0.089431                      0.941392  0.122682        1   \n",
       "1        -0.470990 -0.073171                      0.560440  0.101284        1   \n",
       "2        -0.249147 -0.105691                      0.391941  0.293866        1   \n",
       "3         0.112628 -0.382114                      0.597070  0.714693        1   \n",
       "4        -0.481229 -0.089431                      0.216117 -0.348074        1   \n",
       "\n",
       "   class_1  class_2  \n",
       "0       -1       -1  \n",
       "1       -1       -1  \n",
       "2       -1       -1  \n",
       "3       -1       -1  \n",
       "4       -1       -1  "
      ]
     },
     "execution_count": 12,
     "metadata": {},
     "output_type": "execute_result"
    }
   ],
   "source": [
    "wine_df_norm = pd.DataFrame(data=wine.data,columns=wine.feature_names).apply(norm, axis=0, result_type='broadcast',raw=True)\n",
    "wine_df_norm[wine.target_names] = pd.get_dummies(wine.target).astype(np.int).replace(0,-1)\n",
    "wine_df_norm.head()"
   ]
  },
  {
   "cell_type": "code",
   "execution_count": 13,
   "id": "spanish-copyright",
   "metadata": {},
   "outputs": [],
   "source": [
    "from sklearn.model_selection import train_test_split"
   ]
  },
  {
   "cell_type": "code",
   "execution_count": 19,
   "id": "aboriginal-marking",
   "metadata": {},
   "outputs": [],
   "source": [
    "# Spliting the indexes, because there are two different dataframes, normalized and not normalized\n",
    "\n",
    "#Iris\n",
    "Xtrain_iris_i, Xvaltest_iris_i, ytrain_iris_i, yvaltest_iris_i = train_test_split(range(iris_df.shape[0]),range(iris_df.shape[0]),\n",
    "                                                    test_size=0.3)\n",
    "\n",
    "Xtest_iris_i, Xval_iris_i, ytest_iris_i, yval_iris_i = train_test_split(Xvaltest_iris_i,yvaltest_iris_i,\n",
    "                                                    test_size=0.5)\n"
   ]
  },
  {
   "cell_type": "markdown",
   "id": "based-movie",
   "metadata": {},
   "source": [
    "### Training and Assessment"
   ]
  },
  {
   "cell_type": "markdown",
   "id": "mediterranean-census",
   "metadata": {},
   "source": [
    "### IRIS"
   ]
  },
  {
   "cell_type": "code",
   "execution_count": 20,
   "id": "final-sewing",
   "metadata": {},
   "outputs": [],
   "source": [
    "Xtrain_iris = iris_df_norm[iris.feature_names].iloc[Xtrain_iris_i]\n",
    "ytrain_iris = iris_df_norm[iris.target_names].iloc[ytrain_iris_i]\n",
    "Xval_iris   = iris_df_norm[iris.feature_names].iloc[Xval_iris_i]\n",
    "yval_iris   = iris_df_norm[iris.target_names].iloc[yval_iris_i]"
   ]
  },
  {
   "cell_type": "code",
   "execution_count": 21,
   "id": "lasting-universal",
   "metadata": {},
   "outputs": [],
   "source": [
    "from sklearn.metrics import multilabel_confusion_matrix, confusion_matrix, classification_report"
   ]
  },
  {
   "cell_type": "code",
   "execution_count": 22,
   "id": "aggressive-bobby",
   "metadata": {},
   "outputs": [],
   "source": [
    "Xtest_iris = iris_df_norm[iris.feature_names].iloc[Xtest_iris_i].values\n",
    "ytest_iris = iris_df_norm[iris.target_names].iloc[ytest_iris_i]\n",
    "ytest_iris.replace(-1,0,inplace=True)"
   ]
  },
  {
   "cell_type": "code",
   "execution_count": 23,
   "id": "cardiovascular-remedy",
   "metadata": {},
   "outputs": [
    {
     "name": "stdout",
     "output_type": "stream",
     "text": [
      "Dados treino:\n",
      "setosa        33\n",
      "versicolor    33\n",
      "virginica     39\n",
      "dtype: int64\n",
      "\n",
      "Dados validação:\n",
      "setosa        9\n",
      "versicolor    9\n",
      "virginica     5\n",
      "dtype: int64\n",
      "\n",
      "Dados teste:\n",
      "setosa        8\n",
      "versicolor    8\n",
      "virginica     6\n",
      "dtype: int64\n"
     ]
    }
   ],
   "source": [
    "print('Dados treino:')\n",
    "print(np.str(ytrain_iris.replace(-1,0).sum()))\n",
    "print('\\nDados validação:')\n",
    "print(np.str(yval_iris.replace(-1,0).sum()))\n",
    "print('\\nDados teste:')\n",
    "print(np.str(ytest_iris.sum()))"
   ]
  },
  {
   "cell_type": "markdown",
   "id": "accompanied-choir",
   "metadata": {},
   "source": [
    "n1 = 1:\n",
    "lr = 0.001\n",
    "precision = 0.0001\n",
    "alpha=0.0001\n",
    "epc = 1000\n",
    "\n",
    "n1 = 3:\n",
    "lr = 0.001\n",
    "precision = 0.0001\n",
    "alpha=0.0001\n",
    "epc = 1000\n",
    "\n",
    "n1 = 5:\n",
    "lr = 0.001\n",
    "precision = 0.0001\n",
    "alpha=0.0001\n",
    "epc = 1000\n",
    "\n",
    "Dados treino:\n",
    "setosa        36\n",
    "versicolor    36\n",
    "virginica     33\n",
    "dtype: int64\n",
    "\n",
    "Dados validação:\n",
    "setosa        6\n",
    "versicolor    8\n",
    "virginica     9\n",
    "dtype: int64\n",
    "\n",
    "Dados teste:\n",
    "setosa        8\n",
    "versicolor    6\n",
    "virginica     8\n",
    "dtype: int64"
   ]
  },
  {
   "cell_type": "markdown",
   "id": "separated-isolation",
   "metadata": {},
   "source": [
    "#### 1 Hidden Layers"
   ]
  },
  {
   "cell_type": "markdown",
   "id": "roman-biotechnology",
   "metadata": {},
   "source": [
    "###### 1 neuron"
   ]
  },
  {
   "cell_type": "code",
   "execution_count": 320,
   "id": "italian-atlanta",
   "metadata": {},
   "outputs": [
    {
     "name": "stderr",
     "output_type": "stream",
     "text": [
      "C:\\Users\\thiag\\miniconda3\\lib\\site-packages\\sklearn\\metrics\\_classification.py:1221: UndefinedMetricWarning: Precision and F-score are ill-defined and being set to 0.0 in labels with no predicted samples. Use `zero_division` parameter to control this behavior.\n",
      "  _warn_prf(average, modifier, msg_start, len(result))\n",
      "C:\\Users\\thiag\\miniconda3\\lib\\site-packages\\sklearn\\metrics\\_classification.py:1221: UndefinedMetricWarning: Precision and F-score are ill-defined and being set to 0.0 in samples with no predicted labels. Use `zero_division` parameter to control this behavior.\n",
      "  _warn_prf(average, modifier, msg_start, len(result))\n"
     ]
    },
    {
     "name": "stdout",
     "output_type": "stream",
     "text": [
      "Run: 1\n"
     ]
    },
    {
     "name": "stderr",
     "output_type": "stream",
     "text": [
      "C:\\Users\\thiag\\miniconda3\\lib\\site-packages\\sklearn\\metrics\\_classification.py:1221: UndefinedMetricWarning: Precision and F-score are ill-defined and being set to 0.0 in labels with no predicted samples. Use `zero_division` parameter to control this behavior.\n",
      "  _warn_prf(average, modifier, msg_start, len(result))\n",
      "C:\\Users\\thiag\\miniconda3\\lib\\site-packages\\sklearn\\metrics\\_classification.py:1221: UndefinedMetricWarning: Precision and F-score are ill-defined and being set to 0.0 in samples with no predicted labels. Use `zero_division` parameter to control this behavior.\n",
      "  _warn_prf(average, modifier, msg_start, len(result))\n"
     ]
    },
    {
     "name": "stdout",
     "output_type": "stream",
     "text": [
      "Run: 2\n"
     ]
    },
    {
     "name": "stderr",
     "output_type": "stream",
     "text": [
      "C:\\Users\\thiag\\miniconda3\\lib\\site-packages\\sklearn\\metrics\\_classification.py:1221: UndefinedMetricWarning: Precision and F-score are ill-defined and being set to 0.0 in labels with no predicted samples. Use `zero_division` parameter to control this behavior.\n",
      "  _warn_prf(average, modifier, msg_start, len(result))\n",
      "C:\\Users\\thiag\\miniconda3\\lib\\site-packages\\sklearn\\metrics\\_classification.py:1221: UndefinedMetricWarning: Precision and F-score are ill-defined and being set to 0.0 in samples with no predicted labels. Use `zero_division` parameter to control this behavior.\n",
      "  _warn_prf(average, modifier, msg_start, len(result))\n"
     ]
    },
    {
     "name": "stdout",
     "output_type": "stream",
     "text": [
      "Run: 3\n"
     ]
    },
    {
     "name": "stderr",
     "output_type": "stream",
     "text": [
      "C:\\Users\\thiag\\miniconda3\\lib\\site-packages\\sklearn\\metrics\\_classification.py:1221: UndefinedMetricWarning: Precision and F-score are ill-defined and being set to 0.0 in labels with no predicted samples. Use `zero_division` parameter to control this behavior.\n",
      "  _warn_prf(average, modifier, msg_start, len(result))\n",
      "C:\\Users\\thiag\\miniconda3\\lib\\site-packages\\sklearn\\metrics\\_classification.py:1221: UndefinedMetricWarning: Precision and F-score are ill-defined and being set to 0.0 in samples with no predicted labels. Use `zero_division` parameter to control this behavior.\n",
      "  _warn_prf(average, modifier, msg_start, len(result))\n"
     ]
    },
    {
     "name": "stdout",
     "output_type": "stream",
     "text": [
      "Run: 4\n"
     ]
    },
    {
     "name": "stderr",
     "output_type": "stream",
     "text": [
      "C:\\Users\\thiag\\miniconda3\\lib\\site-packages\\sklearn\\metrics\\_classification.py:1221: UndefinedMetricWarning: Precision and F-score are ill-defined and being set to 0.0 in labels with no predicted samples. Use `zero_division` parameter to control this behavior.\n",
      "  _warn_prf(average, modifier, msg_start, len(result))\n",
      "C:\\Users\\thiag\\miniconda3\\lib\\site-packages\\sklearn\\metrics\\_classification.py:1221: UndefinedMetricWarning: Precision and F-score are ill-defined and being set to 0.0 in samples with no predicted labels. Use `zero_division` parameter to control this behavior.\n",
      "  _warn_prf(average, modifier, msg_start, len(result))\n"
     ]
    },
    {
     "name": "stdout",
     "output_type": "stream",
     "text": [
      "Run: 5\n"
     ]
    },
    {
     "name": "stderr",
     "output_type": "stream",
     "text": [
      "C:\\Users\\thiag\\miniconda3\\lib\\site-packages\\sklearn\\metrics\\_classification.py:1221: UndefinedMetricWarning: Precision and F-score are ill-defined and being set to 0.0 in labels with no predicted samples. Use `zero_division` parameter to control this behavior.\n",
      "  _warn_prf(average, modifier, msg_start, len(result))\n",
      "C:\\Users\\thiag\\miniconda3\\lib\\site-packages\\sklearn\\metrics\\_classification.py:1221: UndefinedMetricWarning: Precision and F-score are ill-defined and being set to 0.0 in samples with no predicted labels. Use `zero_division` parameter to control this behavior.\n",
      "  _warn_prf(average, modifier, msg_start, len(result))\n"
     ]
    },
    {
     "name": "stdout",
     "output_type": "stream",
     "text": [
      "Run: 6\n"
     ]
    },
    {
     "name": "stderr",
     "output_type": "stream",
     "text": [
      "C:\\Users\\thiag\\miniconda3\\lib\\site-packages\\sklearn\\metrics\\_classification.py:1221: UndefinedMetricWarning: Precision and F-score are ill-defined and being set to 0.0 in labels with no predicted samples. Use `zero_division` parameter to control this behavior.\n",
      "  _warn_prf(average, modifier, msg_start, len(result))\n",
      "C:\\Users\\thiag\\miniconda3\\lib\\site-packages\\sklearn\\metrics\\_classification.py:1221: UndefinedMetricWarning: Precision and F-score are ill-defined and being set to 0.0 in samples with no predicted labels. Use `zero_division` parameter to control this behavior.\n",
      "  _warn_prf(average, modifier, msg_start, len(result))\n"
     ]
    },
    {
     "name": "stdout",
     "output_type": "stream",
     "text": [
      "Run: 7\n"
     ]
    },
    {
     "name": "stderr",
     "output_type": "stream",
     "text": [
      "C:\\Users\\thiag\\miniconda3\\lib\\site-packages\\sklearn\\metrics\\_classification.py:1221: UndefinedMetricWarning: Precision and F-score are ill-defined and being set to 0.0 in labels with no predicted samples. Use `zero_division` parameter to control this behavior.\n",
      "  _warn_prf(average, modifier, msg_start, len(result))\n",
      "C:\\Users\\thiag\\miniconda3\\lib\\site-packages\\sklearn\\metrics\\_classification.py:1221: UndefinedMetricWarning: Precision and F-score are ill-defined and being set to 0.0 in samples with no predicted labels. Use `zero_division` parameter to control this behavior.\n",
      "  _warn_prf(average, modifier, msg_start, len(result))\n"
     ]
    },
    {
     "name": "stdout",
     "output_type": "stream",
     "text": [
      "Run: 8\n"
     ]
    },
    {
     "name": "stderr",
     "output_type": "stream",
     "text": [
      "C:\\Users\\thiag\\miniconda3\\lib\\site-packages\\sklearn\\metrics\\_classification.py:1221: UndefinedMetricWarning: Precision and F-score are ill-defined and being set to 0.0 in labels with no predicted samples. Use `zero_division` parameter to control this behavior.\n",
      "  _warn_prf(average, modifier, msg_start, len(result))\n",
      "C:\\Users\\thiag\\miniconda3\\lib\\site-packages\\sklearn\\metrics\\_classification.py:1221: UndefinedMetricWarning: Precision and F-score are ill-defined and being set to 0.0 in samples with no predicted labels. Use `zero_division` parameter to control this behavior.\n",
      "  _warn_prf(average, modifier, msg_start, len(result))\n"
     ]
    },
    {
     "name": "stdout",
     "output_type": "stream",
     "text": [
      "Run: 9\n",
      "Run: 10\n"
     ]
    },
    {
     "name": "stderr",
     "output_type": "stream",
     "text": [
      "C:\\Users\\thiag\\miniconda3\\lib\\site-packages\\sklearn\\metrics\\_classification.py:1221: UndefinedMetricWarning: Precision and F-score are ill-defined and being set to 0.0 in labels with no predicted samples. Use `zero_division` parameter to control this behavior.\n",
      "  _warn_prf(average, modifier, msg_start, len(result))\n",
      "C:\\Users\\thiag\\miniconda3\\lib\\site-packages\\sklearn\\metrics\\_classification.py:1221: UndefinedMetricWarning: Precision and F-score are ill-defined and being set to 0.0 in samples with no predicted labels. Use `zero_division` parameter to control this behavior.\n",
      "  _warn_prf(average, modifier, msg_start, len(result))\n"
     ]
    }
   ],
   "source": [
    "epc          = 1000\n",
    "mse_mlp      = pd.DataFrame(np.zeros(epc))\n",
    "mseval_mlp   = pd.DataFrame(np.zeros(epc))\n",
    "msetest_mlp_ = []\n",
    "ite_mlp      = []\n",
    "cla_report   = []\n",
    "\n",
    "for i in np.arange(1,11,1):\n",
    "    mlp = MLP1HL(Xtrain=Xtrain_iris, ytrain=ytrain_iris, Xval=Xval_iris, yval=yval_iris, Xtest= Xtest_iris, ytest=ytest_iris,\n",
    "                 lr=0.05, epochs=epc, n1=1, precision = 0.00001 ,alpha=0.01)\n",
    "    mlp.fit()\n",
    "    \n",
    "    mse_mlp[np.str(i)]     = mlp.mse.reset_index()[0]\n",
    "    mseval_mlp[np.str(i)]  = mlp.mseval.reset_index()[0]\n",
    "    msetest_mlp_.append(mlp.msetest.values[0][0])\n",
    "    \n",
    "    ite_mlp.append(mlp.iteration)\n",
    "    \n",
    "    y = pd.DataFrame(mlp.predict(Xtest_iris, act_func='biStep').values,columns=iris.target_names)\n",
    "    y.replace(-1,0,inplace=True)\n",
    "    cla_report = np.append(cla_report,classification_report(y_true=ytest_iris, y_pred=y))\n",
    "    print('Run: '+np.str(i))\n",
    "    \n",
    "msetest_mlp = pd.DataFrame(msetest_mlp_)\n",
    "mse_mlp.drop(0, axis = 1, inplace = True);\n",
    "mse_mlp.dropna(axis=0, how='all',inplace=True);\n",
    "mseval_mlp.drop(0, axis = 1, inplace = True);\n",
    "mseval_mlp.dropna(axis=0, how='all',inplace=True);"
   ]
  },
  {
   "cell_type": "code",
   "execution_count": 321,
   "id": "rolled-affair",
   "metadata": {
    "scrolled": false
   },
   "outputs": [
    {
     "name": "stdout",
     "output_type": "stream",
     "text": [
      "RUN: 0-------------------------------------------------------------------------\n",
      "              precision    recall  f1-score   support\n",
      "\n",
      "           0       1.00      1.00      1.00         8\n",
      "           1       0.00      0.00      0.00         8\n",
      "           2       0.86      1.00      0.92         6\n",
      "\n",
      "   micro avg       0.93      0.64      0.76        22\n",
      "   macro avg       0.62      0.67      0.64        22\n",
      "weighted avg       0.60      0.64      0.62        22\n",
      " samples avg       0.64      0.64      0.64        22\n",
      "\n",
      "RUN: 1-------------------------------------------------------------------------\n",
      "              precision    recall  f1-score   support\n",
      "\n",
      "           0       1.00      1.00      1.00         8\n",
      "           1       0.00      0.00      0.00         8\n",
      "           2       0.86      1.00      0.92         6\n",
      "\n",
      "   micro avg       0.93      0.64      0.76        22\n",
      "   macro avg       0.62      0.67      0.64        22\n",
      "weighted avg       0.60      0.64      0.62        22\n",
      " samples avg       0.64      0.64      0.64        22\n",
      "\n",
      "RUN: 2-------------------------------------------------------------------------\n",
      "              precision    recall  f1-score   support\n",
      "\n",
      "           0       1.00      1.00      1.00         8\n",
      "           1       0.00      0.00      0.00         8\n",
      "           2       0.86      1.00      0.92         6\n",
      "\n",
      "   micro avg       0.93      0.64      0.76        22\n",
      "   macro avg       0.62      0.67      0.64        22\n",
      "weighted avg       0.60      0.64      0.62        22\n",
      " samples avg       0.64      0.64      0.64        22\n",
      "\n",
      "RUN: 3-------------------------------------------------------------------------\n",
      "              precision    recall  f1-score   support\n",
      "\n",
      "           0       1.00      1.00      1.00         8\n",
      "           1       0.00      0.00      0.00         8\n",
      "           2       0.86      1.00      0.92         6\n",
      "\n",
      "   micro avg       0.93      0.64      0.76        22\n",
      "   macro avg       0.62      0.67      0.64        22\n",
      "weighted avg       0.60      0.64      0.62        22\n",
      " samples avg       0.64      0.64      0.64        22\n",
      "\n",
      "RUN: 4-------------------------------------------------------------------------\n",
      "              precision    recall  f1-score   support\n",
      "\n",
      "           0       1.00      1.00      1.00         8\n",
      "           1       0.00      0.00      0.00         8\n",
      "           2       0.86      1.00      0.92         6\n",
      "\n",
      "   micro avg       0.93      0.64      0.76        22\n",
      "   macro avg       0.62      0.67      0.64        22\n",
      "weighted avg       0.60      0.64      0.62        22\n",
      " samples avg       0.64      0.64      0.64        22\n",
      "\n",
      "RUN: 5-------------------------------------------------------------------------\n",
      "              precision    recall  f1-score   support\n",
      "\n",
      "           0       1.00      1.00      1.00         8\n",
      "           1       0.00      0.00      0.00         8\n",
      "           2       0.86      1.00      0.92         6\n",
      "\n",
      "   micro avg       0.93      0.64      0.76        22\n",
      "   macro avg       0.62      0.67      0.64        22\n",
      "weighted avg       0.60      0.64      0.62        22\n",
      " samples avg       0.64      0.64      0.64        22\n",
      "\n",
      "RUN: 6-------------------------------------------------------------------------\n",
      "              precision    recall  f1-score   support\n",
      "\n",
      "           0       1.00      1.00      1.00         8\n",
      "           1       0.00      0.00      0.00         8\n",
      "           2       0.86      1.00      0.92         6\n",
      "\n",
      "   micro avg       0.93      0.64      0.76        22\n",
      "   macro avg       0.62      0.67      0.64        22\n",
      "weighted avg       0.60      0.64      0.62        22\n",
      " samples avg       0.64      0.64      0.64        22\n",
      "\n",
      "RUN: 7-------------------------------------------------------------------------\n",
      "              precision    recall  f1-score   support\n",
      "\n",
      "           0       1.00      1.00      1.00         8\n",
      "           1       0.00      0.00      0.00         8\n",
      "           2       0.86      1.00      0.92         6\n",
      "\n",
      "   micro avg       0.93      0.64      0.76        22\n",
      "   macro avg       0.62      0.67      0.64        22\n",
      "weighted avg       0.60      0.64      0.62        22\n",
      " samples avg       0.64      0.64      0.64        22\n",
      "\n",
      "RUN: 8-------------------------------------------------------------------------\n",
      "              precision    recall  f1-score   support\n",
      "\n",
      "           0       1.00      1.00      1.00         8\n",
      "           1       0.00      0.00      0.00         8\n",
      "           2       0.86      1.00      0.92         6\n",
      "\n",
      "   micro avg       0.93      0.64      0.76        22\n",
      "   macro avg       0.62      0.67      0.64        22\n",
      "weighted avg       0.60      0.64      0.62        22\n",
      " samples avg       0.64      0.64      0.64        22\n",
      "\n",
      "RUN: 9-------------------------------------------------------------------------\n",
      "              precision    recall  f1-score   support\n",
      "\n",
      "           0       1.00      1.00      1.00         8\n",
      "           1       0.00      0.00      0.00         8\n",
      "           2       0.86      1.00      0.92         6\n",
      "\n",
      "   micro avg       0.93      0.64      0.76        22\n",
      "   macro avg       0.62      0.67      0.64        22\n",
      "weighted avg       0.60      0.64      0.62        22\n",
      " samples avg       0.64      0.64      0.64        22\n",
      "\n"
     ]
    }
   ],
   "source": [
    "for i in range(10):\n",
    "    print('RUN: '+np.str(i)+'-------------------------------------------------------------------------')\n",
    "    print(cla_report[i])"
   ]
  },
  {
   "cell_type": "code",
   "execution_count": 322,
   "id": "removable-foster",
   "metadata": {},
   "outputs": [
    {
     "data": {
      "text/plain": [
       "<matplotlib.legend.Legend at 0x2591e0a8460>"
      ]
     },
     "execution_count": 322,
     "metadata": {},
     "output_type": "execute_result"
    },
    {
     "data": {
      "image/png": "[encoded data removed]",
      "text/plain": [
       "<Figure size 720x720 with 1 Axes>"
      ]
     },
     "metadata": {
      "needs_background": "light"
     },
     "output_type": "display_data"
    }
   ],
   "source": [
    "plt.figure(figsize = (10,10))\n",
    "for i in range(mse_mlp.shape[1]):\n",
    "    x = np.arange(0,mse_mlp.shape[0],1)\n",
    "    plt.plot(x,mse_mlp.iloc[:,i], label='run: '+np.str(i+1))\n",
    "plt.xlabel('Iterations')\n",
    "plt.ylabel('MSE')\n",
    "plt.legend(loc='best')"
   ]
  },
  {
   "cell_type": "code",
   "execution_count": 323,
   "id": "unlimited-native",
   "metadata": {},
   "outputs": [
    {
     "data": {
      "text/plain": [
       "<matplotlib.legend.Legend at 0x2591e1b9e20>"
      ]
     },
     "execution_count": 323,
     "metadata": {},
     "output_type": "execute_result"
    },
    {
     "data": {
      "image/png": "[encoded data removed]",
      "text/plain": [
       "<Figure size 720x720 with 1 Axes>"
      ]
     },
     "metadata": {
      "needs_background": "light"
     },
     "output_type": "display_data"
    }
   ],
   "source": [
    "plt.figure(figsize = (10,10))\n",
    "for i in range(mseval_mlp.shape[1]):\n",
    "    x = np.arange(0,mseval_mlp.shape[0],1)\n",
    "    plt.plot(x,mseval_mlp.iloc[:,i], label='run: '+np.str(i+1))\n",
    "plt.xlabel('Iterations')\n",
    "plt.ylabel('MSE')\n",
    "plt.legend(loc='best')"
   ]
  },
  {
   "cell_type": "code",
   "execution_count": 324,
   "id": "medical-motor",
   "metadata": {},
   "outputs": [
    {
     "data": {
      "text/plain": [
       "0.4564181153528125"
      ]
     },
     "execution_count": 324,
     "metadata": {},
     "output_type": "execute_result"
    }
   ],
   "source": [
    "msemin   = mseval_mlp.min().min()\n",
    "minval   = mseval_mlp.iloc[:,(mseval_mlp.iloc[(mseval_mlp <= msemin).values] == msemin).values[0]]\n",
    "mintrain = pd.DataFrame(mse_mlp[minval.columns[0]])\n",
    "index = minval[minval.values == msemin].index[0]\n",
    "msemin"
   ]
  },
  {
   "cell_type": "code",
   "execution_count": 325,
   "id": "physical-inquiry",
   "metadata": {},
   "outputs": [
    {
     "data": {
      "text/plain": [
       "<matplotlib.legend.Legend at 0x2591e2e89a0>"
      ]
     },
     "execution_count": 325,
     "metadata": {},
     "output_type": "execute_result"
    },
    {
     "data": {
      "image/png": "[encoded data removed]",
      "text/plain": [
       "<Figure size 720x720 with 1 Axes>"
      ]
     },
     "metadata": {
      "needs_background": "light"
     },
     "output_type": "display_data"
    }
   ],
   "source": [
    "plt.figure(figsize = (10,10))\n",
    "\n",
    "x = np.arange(0,minval.shape[0],1)\n",
    "plt.plot(x,minval, label='Validation')\n",
    "plt.plot(x,mintrain, label='Training')\n",
    "plt.scatter(index,msemin)\n",
    "plt.xlabel('Iterations')\n",
    "plt.ylabel('MSE')\n",
    "plt.title('Run: '+minval.columns[0])\n",
    "plt.legend(('Validation','Training','('+np.str(index)+','+np.str(msemin)+')'),loc='best')"
   ]
  },
  {
   "cell_type": "code",
   "execution_count": 326,
   "id": "clinical-bowling",
   "metadata": {},
   "outputs": [
    {
     "data": {
      "text/plain": [
       "Text(0, 0.5, 'MSE')"
      ]
     },
     "execution_count": 326,
     "metadata": {},
     "output_type": "execute_result"
    },
    {
     "data": {
      "image/png": "[encoded data removed]",
      "text/plain": [
       "<Figure size 720x720 with 1 Axes>"
      ]
     },
     "metadata": {
      "needs_background": "light"
     },
     "output_type": "display_data"
    }
   ],
   "source": [
    "plt.figure(figsize = (10,10))\n",
    "sns.boxplot(data=msetest_mlp)\n",
    "plt.xlabel('Iterations')\n",
    "plt.ylabel('MSE')"
   ]
  },
  {
   "cell_type": "markdown",
   "id": "continuous-indian",
   "metadata": {},
   "source": [
    "###### 3 Neurons"
   ]
  },
  {
   "cell_type": "code",
   "execution_count": 263,
   "id": "neural-conditions",
   "metadata": {},
   "outputs": [
    {
     "name": "stdout",
     "output_type": "stream",
     "text": [
      "Run: 1\n",
      "Run: 2\n",
      "Run: 3\n",
      "Run: 4\n",
      "Run: 5\n",
      "Run: 6\n",
      "Run: 7\n",
      "Run: 8\n",
      "Run: 9\n",
      "Run: 10\n"
     ]
    }
   ],
   "source": [
    "epc          = 1000\n",
    "mse_mlp      = pd.DataFrame(np.zeros(epc))\n",
    "mseval_mlp   = pd.DataFrame(np.zeros(epc))\n",
    "msetest_mlp_ = []\n",
    "ite_mlp      = []\n",
    "cla_report   = []\n",
    "\n",
    "for i in np.arange(1,11,1):\n",
    "    mlp = MLP1HL(Xtrain=Xtrain_iris, ytrain=ytrain_iris, Xval=Xval_iris, yval=yval_iris, Xtest= Xtest_iris, ytest=ytest_iris,\n",
    "                 lr=0.05, epochs=epc, n1=3, precision = 0.00001 ,alpha=0.01)\n",
    "    mlp.fit()\n",
    "    \n",
    "    mse_mlp[np.str(i)]     = mlp.mse.reset_index()[0]\n",
    "    mseval_mlp[np.str(i)]  = mlp.mseval.reset_index()[0]\n",
    "    msetest_mlp_.append(mlp.msetest.values[0][0])\n",
    "    \n",
    "    ite_mlp.append(mlp.iteration)\n",
    "    \n",
    "    y = pd.DataFrame(mlp.predict(Xtest_iris, act_func='biStep').values,columns=iris.target_names)\n",
    "    y.replace(-1,0,inplace=True)\n",
    "    cla_report = np.append(cla_report,classification_report(y_true=ytest_iris, y_pred=y))\n",
    "    print('Run: '+np.str(i))\n",
    "    \n",
    "msetest_mlp = pd.DataFrame(msetest_mlp_)\n",
    "mse_mlp.drop(0, axis = 1, inplace = True);\n",
    "mse_mlp.dropna(axis=0, how='all',inplace=True);\n",
    "mseval_mlp.drop(0, axis = 1, inplace = True);\n",
    "mseval_mlp.dropna(axis=0, how='all',inplace=True);"
   ]
  },
  {
   "cell_type": "code",
   "execution_count": 264,
   "id": "acoustic-broad",
   "metadata": {
    "scrolled": false
   },
   "outputs": [
    {
     "name": "stdout",
     "output_type": "stream",
     "text": [
      "RUN: 0-------------------------------------------------------------------------\n",
      "              precision    recall  f1-score   support\n",
      "\n",
      "           0       1.00      1.00      1.00         8\n",
      "           1       1.00      1.00      1.00         8\n",
      "           2       1.00      1.00      1.00         6\n",
      "\n",
      "   micro avg       1.00      1.00      1.00        22\n",
      "   macro avg       1.00      1.00      1.00        22\n",
      "weighted avg       1.00      1.00      1.00        22\n",
      " samples avg       1.00      1.00      1.00        22\n",
      "\n",
      "RUN: 1-------------------------------------------------------------------------\n",
      "              precision    recall  f1-score   support\n",
      "\n",
      "           0       1.00      1.00      1.00         8\n",
      "           1       1.00      1.00      1.00         8\n",
      "           2       1.00      1.00      1.00         6\n",
      "\n",
      "   micro avg       1.00      1.00      1.00        22\n",
      "   macro avg       1.00      1.00      1.00        22\n",
      "weighted avg       1.00      1.00      1.00        22\n",
      " samples avg       1.00      1.00      1.00        22\n",
      "\n",
      "RUN: 2-------------------------------------------------------------------------\n",
      "              precision    recall  f1-score   support\n",
      "\n",
      "           0       1.00      1.00      1.00         8\n",
      "           1       1.00      1.00      1.00         8\n",
      "           2       1.00      1.00      1.00         6\n",
      "\n",
      "   micro avg       1.00      1.00      1.00        22\n",
      "   macro avg       1.00      1.00      1.00        22\n",
      "weighted avg       1.00      1.00      1.00        22\n",
      " samples avg       1.00      1.00      1.00        22\n",
      "\n",
      "RUN: 3-------------------------------------------------------------------------\n",
      "              precision    recall  f1-score   support\n",
      "\n",
      "           0       1.00      1.00      1.00         8\n",
      "           1       1.00      1.00      1.00         8\n",
      "           2       1.00      1.00      1.00         6\n",
      "\n",
      "   micro avg       1.00      1.00      1.00        22\n",
      "   macro avg       1.00      1.00      1.00        22\n",
      "weighted avg       1.00      1.00      1.00        22\n",
      " samples avg       1.00      1.00      1.00        22\n",
      "\n",
      "RUN: 4-------------------------------------------------------------------------\n",
      "              precision    recall  f1-score   support\n",
      "\n",
      "           0       1.00      1.00      1.00         8\n",
      "           1       1.00      1.00      1.00         8\n",
      "           2       1.00      1.00      1.00         6\n",
      "\n",
      "   micro avg       1.00      1.00      1.00        22\n",
      "   macro avg       1.00      1.00      1.00        22\n",
      "weighted avg       1.00      1.00      1.00        22\n",
      " samples avg       1.00      1.00      1.00        22\n",
      "\n",
      "RUN: 5-------------------------------------------------------------------------\n",
      "              precision    recall  f1-score   support\n",
      "\n",
      "           0       1.00      1.00      1.00         8\n",
      "           1       1.00      1.00      1.00         8\n",
      "           2       1.00      1.00      1.00         6\n",
      "\n",
      "   micro avg       1.00      1.00      1.00        22\n",
      "   macro avg       1.00      1.00      1.00        22\n",
      "weighted avg       1.00      1.00      1.00        22\n",
      " samples avg       1.00      1.00      1.00        22\n",
      "\n",
      "RUN: 6-------------------------------------------------------------------------\n",
      "              precision    recall  f1-score   support\n",
      "\n",
      "           0       1.00      1.00      1.00         8\n",
      "           1       1.00      0.88      0.93         8\n",
      "           2       0.86      1.00      0.92         6\n",
      "\n",
      "   micro avg       0.95      0.95      0.95        22\n",
      "   macro avg       0.95      0.96      0.95        22\n",
      "weighted avg       0.96      0.95      0.95        22\n",
      " samples avg       0.95      0.95      0.95        22\n",
      "\n",
      "RUN: 7-------------------------------------------------------------------------\n",
      "              precision    recall  f1-score   support\n",
      "\n",
      "           0       1.00      1.00      1.00         8\n",
      "           1       1.00      1.00      1.00         8\n",
      "           2       1.00      1.00      1.00         6\n",
      "\n",
      "   micro avg       1.00      1.00      1.00        22\n",
      "   macro avg       1.00      1.00      1.00        22\n",
      "weighted avg       1.00      1.00      1.00        22\n",
      " samples avg       1.00      1.00      1.00        22\n",
      "\n",
      "RUN: 8-------------------------------------------------------------------------\n",
      "              precision    recall  f1-score   support\n",
      "\n",
      "           0       1.00      1.00      1.00         8\n",
      "           1       1.00      1.00      1.00         8\n",
      "           2       1.00      1.00      1.00         6\n",
      "\n",
      "   micro avg       1.00      1.00      1.00        22\n",
      "   macro avg       1.00      1.00      1.00        22\n",
      "weighted avg       1.00      1.00      1.00        22\n",
      " samples avg       1.00      1.00      1.00        22\n",
      "\n",
      "RUN: 9-------------------------------------------------------------------------\n",
      "              precision    recall  f1-score   support\n",
      "\n",
      "           0       1.00      1.00      1.00         8\n",
      "           1       1.00      1.00      1.00         8\n",
      "           2       1.00      1.00      1.00         6\n",
      "\n",
      "   micro avg       1.00      1.00      1.00        22\n",
      "   macro avg       1.00      1.00      1.00        22\n",
      "weighted avg       1.00      1.00      1.00        22\n",
      " samples avg       1.00      1.00      1.00        22\n",
      "\n"
     ]
    }
   ],
   "source": [
    "for i in range(10):\n",
    "    print('RUN: '+np.str(i)+'-------------------------------------------------------------------------')\n",
    "    print(cla_report[i])"
   ]
  },
  {
   "cell_type": "code",
   "execution_count": 265,
   "id": "passive-authentication",
   "metadata": {},
   "outputs": [
    {
     "data": {
      "text/plain": [
       "<matplotlib.legend.Legend at 0x25913a88ca0>"
      ]
     },
     "execution_count": 265,
     "metadata": {},
     "output_type": "execute_result"
    },
    {
     "data": {
      "image/png": "[encoded data removed]",
      "text/plain": [
       "<Figure size 720x720 with 1 Axes>"
      ]
     },
     "metadata": {
      "needs_background": "light"
     },
     "output_type": "display_data"
    }
   ],
   "source": [
    "plt.figure(figsize = (10,10))\n",
    "for i in range(mse_mlp.shape[1]):\n",
    "    x = np.arange(0,mse_mlp.shape[0],1)\n",
    "    plt.plot(x,mse_mlp.iloc[:,i], label='run: '+np.str(i+1))\n",
    "plt.xlabel('Iterations')\n",
    "plt.ylabel('MSE')\n",
    "plt.legend(loc='best')"
   ]
  },
  {
   "cell_type": "code",
   "execution_count": 266,
   "id": "drawn-madagascar",
   "metadata": {},
   "outputs": [
    {
     "data": {
      "text/plain": [
       "<matplotlib.legend.Legend at 0x25918b11a90>"
      ]
     },
     "execution_count": 266,
     "metadata": {},
     "output_type": "execute_result"
    },
    {
     "data": {
      "image/png": "[encoded data removed]",
      "text/plain": [
       "<Figure size 720x720 with 1 Axes>"
      ]
     },
     "metadata": {
      "needs_background": "light"
     },
     "output_type": "display_data"
    }
   ],
   "source": [
    "plt.figure(figsize = (10,10))\n",
    "for i in range(mseval_mlp.shape[1]):\n",
    "    x = np.arange(0,mseval_mlp.shape[0],1)\n",
    "    plt.plot(x,mseval_mlp.iloc[:,i], label='run: '+np.str(i+1))\n",
    "plt.xlabel('Iterations')\n",
    "plt.ylabel('MSE')\n",
    "plt.legend(loc='best')"
   ]
  },
  {
   "cell_type": "code",
   "execution_count": 267,
   "id": "bound-preference",
   "metadata": {},
   "outputs": [
    {
     "data": {
      "text/plain": [
       "0.000163555857117403"
      ]
     },
     "execution_count": 267,
     "metadata": {},
     "output_type": "execute_result"
    }
   ],
   "source": [
    "msemin   = mseval_mlp.min().min()\n",
    "minval   = mseval_mlp.iloc[:,(mseval_mlp.iloc[(mseval_mlp <= msemin).values] == msemin).values[0]]\n",
    "mintrain = pd.DataFrame(mse_mlp[minval.columns[0]])\n",
    "index = minval[minval.values == msemin].index[0]\n",
    "msemin"
   ]
  },
  {
   "cell_type": "code",
   "execution_count": 268,
   "id": "durable-signal",
   "metadata": {},
   "outputs": [
    {
     "data": {
      "text/plain": [
       "<matplotlib.legend.Legend at 0x25918bc7580>"
      ]
     },
     "execution_count": 268,
     "metadata": {},
     "output_type": "execute_result"
    },
    {
     "data": {
      "image/png": "[encoded data removed]",
      "text/plain": [
       "<Figure size 720x720 with 1 Axes>"
      ]
     },
     "metadata": {
      "needs_background": "light"
     },
     "output_type": "display_data"
    }
   ],
   "source": [
    "plt.figure(figsize = (10,10))\n",
    "\n",
    "x = np.arange(0,minval.shape[0],1)\n",
    "plt.plot(x,minval, label='Validation')\n",
    "plt.plot(x,mintrain, label='Training')\n",
    "plt.scatter(index,msemin)\n",
    "plt.xlabel('Iterations')\n",
    "plt.ylabel('MSE')\n",
    "plt.title('Run: '+minval.columns[0])\n",
    "plt.legend(('Validation','Training','('+np.str(index)+','+np.str(msemin)+')'),loc='best')"
   ]
  },
  {
   "cell_type": "code",
   "execution_count": 269,
   "id": "latter-albany",
   "metadata": {},
   "outputs": [
    {
     "data": {
      "text/plain": [
       "Text(0, 0.5, 'MSE')"
      ]
     },
     "execution_count": 269,
     "metadata": {},
     "output_type": "execute_result"
    },
    {
     "data": {
      "image/png": "[encoded data removed]",
      "text/plain": [
       "<Figure size 720x720 with 1 Axes>"
      ]
     },
     "metadata": {
      "needs_background": "light"
     },
     "output_type": "display_data"
    }
   ],
   "source": [
    "plt.figure(figsize = (10,10))\n",
    "sns.boxplot(data=msetest_mlp)\n",
    "plt.xlabel('Iterations')\n",
    "plt.ylabel('MSE')"
   ]
  },
  {
   "cell_type": "markdown",
   "id": "driving-coordination",
   "metadata": {},
   "source": [
    "###### 5 Neurons"
   ]
  },
  {
   "cell_type": "code",
   "execution_count": 277,
   "id": "trying-correction",
   "metadata": {},
   "outputs": [
    {
     "name": "stdout",
     "output_type": "stream",
     "text": [
      "Run: 1\n",
      "Run: 2\n",
      "Run: 3\n",
      "Run: 4\n",
      "Run: 5\n",
      "Run: 6\n",
      "Run: 7\n",
      "Run: 8\n",
      "Run: 9\n",
      "Run: 10\n"
     ]
    }
   ],
   "source": [
    "epc          = 1000\n",
    "mse_mlp      = pd.DataFrame(np.zeros(epc))\n",
    "mseval_mlp   = pd.DataFrame(np.zeros(epc))\n",
    "msetest_mlp_ = []\n",
    "ite_mlp      = []\n",
    "cla_report   = []\n",
    "\n",
    "for i in np.arange(1,11,1):\n",
    "    mlp = MLP1HL(Xtrain=Xtrain_iris, ytrain=ytrain_iris, Xval=Xval_iris, yval=yval_iris, Xtest= Xtest_iris, ytest=ytest_iris,\n",
    "                 lr=0.05, epochs=epc, n1=5, precision = 0.00001 ,alpha=0.01)\n",
    "    mlp.fit()\n",
    "    \n",
    "    mse_mlp[np.str(i)]     = mlp.mse.reset_index()[0]\n",
    "    mseval_mlp[np.str(i)]  = mlp.mseval.reset_index()[0]\n",
    "    msetest_mlp_.append(mlp.msetest.values[0][0])\n",
    "    \n",
    "    ite_mlp.append(mlp.iteration)\n",
    "    \n",
    "    y = pd.DataFrame(mlp.predict(Xtest_iris, act_func='biStep').values,columns=iris.target_names)\n",
    "    y.replace(-1,0,inplace=True)\n",
    "    cla_report = np.append(cla_report,classification_report(y_true=ytest_iris, y_pred=y))\n",
    "    print('Run: '+np.str(i))\n",
    "    \n",
    "msetest_mlp = pd.DataFrame(msetest_mlp_)\n",
    "mse_mlp.drop(0, axis = 1, inplace = True);\n",
    "mse_mlp.dropna(axis=0, how='all',inplace=True);\n",
    "mseval_mlp.drop(0, axis = 1, inplace = True);\n",
    "mseval_mlp.dropna(axis=0, how='all',inplace=True);"
   ]
  },
  {
   "cell_type": "code",
   "execution_count": 278,
   "id": "liquid-tamil",
   "metadata": {
    "scrolled": false
   },
   "outputs": [
    {
     "name": "stdout",
     "output_type": "stream",
     "text": [
      "RUN: 0-------------------------------------------------------------------------\n",
      "              precision    recall  f1-score   support\n",
      "\n",
      "           0       1.00      1.00      1.00         8\n",
      "           1       1.00      0.88      0.93         8\n",
      "           2       0.86      1.00      0.92         6\n",
      "\n",
      "   micro avg       0.95      0.95      0.95        22\n",
      "   macro avg       0.95      0.96      0.95        22\n",
      "weighted avg       0.96      0.95      0.95        22\n",
      " samples avg       0.95      0.95      0.95        22\n",
      "\n",
      "RUN: 1-------------------------------------------------------------------------\n",
      "              precision    recall  f1-score   support\n",
      "\n",
      "           0       1.00      1.00      1.00         8\n",
      "           1       1.00      0.88      0.93         8\n",
      "           2       0.86      1.00      0.92         6\n",
      "\n",
      "   micro avg       0.95      0.95      0.95        22\n",
      "   macro avg       0.95      0.96      0.95        22\n",
      "weighted avg       0.96      0.95      0.95        22\n",
      " samples avg       0.95      0.95      0.95        22\n",
      "\n",
      "RUN: 2-------------------------------------------------------------------------\n",
      "              precision    recall  f1-score   support\n",
      "\n",
      "           0       1.00      1.00      1.00         8\n",
      "           1       1.00      0.88      0.93         8\n",
      "           2       0.86      1.00      0.92         6\n",
      "\n",
      "   micro avg       0.95      0.95      0.95        22\n",
      "   macro avg       0.95      0.96      0.95        22\n",
      "weighted avg       0.96      0.95      0.95        22\n",
      " samples avg       0.95      0.95      0.95        22\n",
      "\n",
      "RUN: 3-------------------------------------------------------------------------\n",
      "              precision    recall  f1-score   support\n",
      "\n",
      "           0       1.00      1.00      1.00         8\n",
      "           1       1.00      0.88      0.93         8\n",
      "           2       0.86      1.00      0.92         6\n",
      "\n",
      "   micro avg       0.95      0.95      0.95        22\n",
      "   macro avg       0.95      0.96      0.95        22\n",
      "weighted avg       0.96      0.95      0.95        22\n",
      " samples avg       0.95      0.95      0.95        22\n",
      "\n",
      "RUN: 4-------------------------------------------------------------------------\n",
      "              precision    recall  f1-score   support\n",
      "\n",
      "           0       1.00      1.00      1.00         8\n",
      "           1       1.00      1.00      1.00         8\n",
      "           2       1.00      1.00      1.00         6\n",
      "\n",
      "   micro avg       1.00      1.00      1.00        22\n",
      "   macro avg       1.00      1.00      1.00        22\n",
      "weighted avg       1.00      1.00      1.00        22\n",
      " samples avg       1.00      1.00      1.00        22\n",
      "\n",
      "RUN: 5-------------------------------------------------------------------------\n",
      "              precision    recall  f1-score   support\n",
      "\n",
      "           0       1.00      1.00      1.00         8\n",
      "           1       1.00      0.88      0.93         8\n",
      "           2       0.86      1.00      0.92         6\n",
      "\n",
      "   micro avg       0.95      0.95      0.95        22\n",
      "   macro avg       0.95      0.96      0.95        22\n",
      "weighted avg       0.96      0.95      0.95        22\n",
      " samples avg       0.95      0.95      0.95        22\n",
      "\n",
      "RUN: 6-------------------------------------------------------------------------\n",
      "              precision    recall  f1-score   support\n",
      "\n",
      "           0       1.00      1.00      1.00         8\n",
      "           1       1.00      0.88      0.93         8\n",
      "           2       0.86      1.00      0.92         6\n",
      "\n",
      "   micro avg       0.95      0.95      0.95        22\n",
      "   macro avg       0.95      0.96      0.95        22\n",
      "weighted avg       0.96      0.95      0.95        22\n",
      " samples avg       0.95      0.95      0.95        22\n",
      "\n",
      "RUN: 7-------------------------------------------------------------------------\n",
      "              precision    recall  f1-score   support\n",
      "\n",
      "           0       1.00      1.00      1.00         8\n",
      "           1       1.00      1.00      1.00         8\n",
      "           2       1.00      1.00      1.00         6\n",
      "\n",
      "   micro avg       1.00      1.00      1.00        22\n",
      "   macro avg       1.00      1.00      1.00        22\n",
      "weighted avg       1.00      1.00      1.00        22\n",
      " samples avg       1.00      1.00      1.00        22\n",
      "\n",
      "RUN: 8-------------------------------------------------------------------------\n",
      "              precision    recall  f1-score   support\n",
      "\n",
      "           0       1.00      1.00      1.00         8\n",
      "           1       1.00      1.00      1.00         8\n",
      "           2       1.00      1.00      1.00         6\n",
      "\n",
      "   micro avg       1.00      1.00      1.00        22\n",
      "   macro avg       1.00      1.00      1.00        22\n",
      "weighted avg       1.00      1.00      1.00        22\n",
      " samples avg       1.00      1.00      1.00        22\n",
      "\n",
      "RUN: 9-------------------------------------------------------------------------\n",
      "              precision    recall  f1-score   support\n",
      "\n",
      "           0       1.00      1.00      1.00         8\n",
      "           1       1.00      0.88      0.93         8\n",
      "           2       0.86      1.00      0.92         6\n",
      "\n",
      "   micro avg       0.95      0.95      0.95        22\n",
      "   macro avg       0.95      0.96      0.95        22\n",
      "weighted avg       0.96      0.95      0.95        22\n",
      " samples avg       0.95      0.95      0.95        22\n",
      "\n"
     ]
    }
   ],
   "source": [
    "for i in range(10):\n",
    "    print('RUN: '+np.str(i)+'-------------------------------------------------------------------------')\n",
    "    print(cla_report[i])"
   ]
  },
  {
   "cell_type": "code",
   "execution_count": 279,
   "id": "enclosed-biology",
   "metadata": {},
   "outputs": [
    {
     "data": {
      "text/plain": [
       "<matplotlib.legend.Legend at 0x25918ffe310>"
      ]
     },
     "execution_count": 279,
     "metadata": {},
     "output_type": "execute_result"
    },
    {
     "data": {
      "image/png": "[encoded data removed]",
      "text/plain": [
       "<Figure size 720x720 with 1 Axes>"
      ]
     },
     "metadata": {
      "needs_background": "light"
     },
     "output_type": "display_data"
    }
   ],
   "source": [
    "plt.figure(figsize = (10,10))\n",
    "for i in range(mse_mlp.shape[1]):\n",
    "    x = np.arange(0,mse_mlp.shape[0],1)\n",
    "    plt.plot(x,mse_mlp.iloc[:,i], label='run: '+np.str(i+1))\n",
    "plt.xlabel('Iterations')\n",
    "plt.ylabel('MSE')\n",
    "plt.legend(loc='best')"
   ]
  },
  {
   "cell_type": "code",
   "execution_count": 280,
   "id": "eastern-assignment",
   "metadata": {},
   "outputs": [
    {
     "data": {
      "text/plain": [
       "<matplotlib.legend.Legend at 0x25919097fd0>"
      ]
     },
     "execution_count": 280,
     "metadata": {},
     "output_type": "execute_result"
    },
    {
     "data": {
      "image/png": "[encoded data removed]",
      "text/plain": [
       "<Figure size 720x720 with 1 Axes>"
      ]
     },
     "metadata": {
      "needs_background": "light"
     },
     "output_type": "display_data"
    }
   ],
   "source": [
    "plt.figure(figsize = (10,10))\n",
    "for i in range(mseval_mlp.shape[1]):\n",
    "    x = np.arange(0,mseval_mlp.shape[0],1)\n",
    "    plt.plot(x,mseval_mlp.iloc[:,i], label='run: '+np.str(i+1))\n",
    "plt.xlabel('Iterations')\n",
    "plt.ylabel('MSE')\n",
    "plt.legend(loc='best')"
   ]
  },
  {
   "cell_type": "code",
   "execution_count": 281,
   "id": "pleased-medline",
   "metadata": {},
   "outputs": [
    {
     "data": {
      "text/plain": [
       "0.0001473787655873403"
      ]
     },
     "execution_count": 281,
     "metadata": {},
     "output_type": "execute_result"
    }
   ],
   "source": [
    "msemin   = mseval_mlp.min().min()\n",
    "minval   = mseval_mlp.iloc[:,(mseval_mlp.iloc[(mseval_mlp <= msemin).values] == msemin).values[0]]\n",
    "mintrain = pd.DataFrame(mse_mlp[minval.columns[0]])\n",
    "index = minval[minval.values == msemin].index[0]\n",
    "msemin"
   ]
  },
  {
   "cell_type": "code",
   "execution_count": 282,
   "id": "hollywood-lying",
   "metadata": {},
   "outputs": [
    {
     "data": {
      "text/plain": [
       "<matplotlib.legend.Legend at 0x2591ab4ca30>"
      ]
     },
     "execution_count": 282,
     "metadata": {},
     "output_type": "execute_result"
    },
    {
     "data": {
      "image/png": "[encoded data removed]",
      "text/plain": [
       "<Figure size 720x720 with 1 Axes>"
      ]
     },
     "metadata": {
      "needs_background": "light"
     },
     "output_type": "display_data"
    }
   ],
   "source": [
    "plt.figure(figsize = (10,10))\n",
    "\n",
    "x = np.arange(0,minval.shape[0],1)\n",
    "plt.plot(x,minval, label='Validation')\n",
    "plt.plot(x,mintrain, label='Training')\n",
    "plt.scatter(index,msemin)\n",
    "plt.xlabel('Iterations')\n",
    "plt.ylabel('MSE')\n",
    "plt.title('Run: '+minval.columns[0])\n",
    "plt.legend(('Validation','Training','('+np.str(index)+','+np.str(msemin)+')'),loc='best')"
   ]
  },
  {
   "cell_type": "code",
   "execution_count": 283,
   "id": "comic-titanium",
   "metadata": {},
   "outputs": [
    {
     "data": {
      "text/plain": [
       "Text(0, 0.5, 'MSE')"
      ]
     },
     "execution_count": 283,
     "metadata": {},
     "output_type": "execute_result"
    },
    {
     "data": {
      "image/png": "[encoded data removed]",
      "text/plain": [
       "<Figure size 720x720 with 1 Axes>"
      ]
     },
     "metadata": {
      "needs_background": "light"
     },
     "output_type": "display_data"
    }
   ],
   "source": [
    "plt.figure(figsize = (10,10))\n",
    "sns.boxplot(data=msetest_mlp)\n",
    "plt.xlabel('Iterations')\n",
    "plt.ylabel('MSE')"
   ]
  },
  {
   "cell_type": "markdown",
   "id": "minus-candy",
   "metadata": {},
   "source": [
    "### WINE"
   ]
  },
  {
   "cell_type": "code",
   "execution_count": 116,
   "id": "binary-stroke",
   "metadata": {},
   "outputs": [],
   "source": [
    "Xtrain_wine_i, Xvaltest_wine_i, ytrain_wine_i, yvaltest_wine_i = train_test_split(range(wine_df.shape[0]),range(wine_df.shape[0]),\n",
    "                                                    test_size=0.3)\n",
    "\n",
    "Xtest_wine_i, Xval_wine_i, ytest_wine_i, yval_wine_i = train_test_split(Xvaltest_iris_i,yvaltest_iris_i,\n",
    "                                                    test_size=0.5)"
   ]
  },
  {
   "cell_type": "code",
   "execution_count": 117,
   "id": "ecological-problem",
   "metadata": {},
   "outputs": [],
   "source": [
    "Xtrain_wine = wine_df_norm[wine.feature_names].iloc[Xtrain_wine_i]\n",
    "ytrain_wine = wine_df_norm[wine.target_names].iloc[ytrain_wine_i]\n",
    "Xval_wine   = wine_df_norm[wine.feature_names].iloc[Xval_wine_i]\n",
    "yval_wine   = wine_df_norm[wine.target_names].iloc[yval_wine_i]"
   ]
  },
  {
   "cell_type": "code",
   "execution_count": 118,
   "id": "higher-bathroom",
   "metadata": {},
   "outputs": [],
   "source": [
    "Xtest_wine = wine_df_norm[wine.feature_names].iloc[Xtest_wine_i].values\n",
    "ytest_wine = wine_df_norm[wine.target_names].iloc[ytest_wine_i]\n",
    "ytest_wine.replace(-1,0,inplace=True)"
   ]
  },
  {
   "cell_type": "code",
   "execution_count": 119,
   "id": "direct-cause",
   "metadata": {},
   "outputs": [
    {
     "name": "stdout",
     "output_type": "stream",
     "text": [
      "Dados treino:\n",
      "class_0    42\n",
      "class_1    47\n",
      "class_2    35\n",
      "dtype: int64\n",
      "\n",
      "Dados validação:\n",
      "class_0    10\n",
      "class_1    11\n",
      "class_2     2\n",
      "dtype: int64\n",
      "\n",
      "Dados teste:\n",
      "class_0    10\n",
      "class_1    10\n",
      "class_2     2\n",
      "dtype: int64\n"
     ]
    }
   ],
   "source": [
    "print('Dados treino:')\n",
    "print(np.str(ytrain_wine.replace(-1,0).sum()))\n",
    "print('\\nDados validação:')\n",
    "print(np.str(yval_wine.replace(-1,0).sum()))\n",
    "print('\\nDados teste:')\n",
    "print(np.str(ytest_wine.sum()))"
   ]
  },
  {
   "cell_type": "markdown",
   "id": "exceptional-retreat",
   "metadata": {},
   "source": [
    "n1 = 1:\n",
    "lr = 0.001\n",
    "precision = 0.00001\n",
    "alpha=0.00001\n",
    "epc = 1000\n",
    "\n",
    "n1 = 10:\n",
    "lr = 0.001\n",
    "precision = 0.00001\n",
    "alpha=0.00001\n",
    "epc = 1000\n",
    "\n",
    "n1 = 15:\n",
    "lr = 0.005\n",
    "precision = infy\n",
    "alpha=0.0005\n",
    "epc = 1000\n",
    "\n",
    "Dados treino:\n",
    "class_0    38\n",
    "class_1    54\n",
    "class_2    32\n",
    "dtype: int64\n",
    "\n",
    "Dados validação:\n",
    "class_0     9\n",
    "class_1    11\n",
    "class_2     3\n",
    "dtype: int64\n",
    "\n",
    "Dados teste:\n",
    "class_0     8\n",
    "class_1    11\n",
    "class_2     3"
   ]
  },
  {
   "cell_type": "markdown",
   "id": "fabulous-frequency",
   "metadata": {},
   "source": [
    "###### 1 Neuron"
   ]
  },
  {
   "cell_type": "code",
   "execution_count": 328,
   "id": "chinese-reduction",
   "metadata": {},
   "outputs": [
    {
     "name": "stderr",
     "output_type": "stream",
     "text": [
      "C:\\Users\\thiag\\miniconda3\\lib\\site-packages\\sklearn\\metrics\\_classification.py:1221: UndefinedMetricWarning: Precision and F-score are ill-defined and being set to 0.0 in samples with no predicted labels. Use `zero_division` parameter to control this behavior.\n",
      "  _warn_prf(average, modifier, msg_start, len(result))\n"
     ]
    },
    {
     "name": "stdout",
     "output_type": "stream",
     "text": [
      "Run: 1\n"
     ]
    },
    {
     "name": "stderr",
     "output_type": "stream",
     "text": [
      "C:\\Users\\thiag\\miniconda3\\lib\\site-packages\\sklearn\\metrics\\_classification.py:1221: UndefinedMetricWarning: Precision and F-score are ill-defined and being set to 0.0 in samples with no predicted labels. Use `zero_division` parameter to control this behavior.\n",
      "  _warn_prf(average, modifier, msg_start, len(result))\n"
     ]
    },
    {
     "name": "stdout",
     "output_type": "stream",
     "text": [
      "Run: 2\n"
     ]
    },
    {
     "name": "stderr",
     "output_type": "stream",
     "text": [
      "C:\\Users\\thiag\\miniconda3\\lib\\site-packages\\sklearn\\metrics\\_classification.py:1221: UndefinedMetricWarning: Precision and F-score are ill-defined and being set to 0.0 in labels with no predicted samples. Use `zero_division` parameter to control this behavior.\n",
      "  _warn_prf(average, modifier, msg_start, len(result))\n",
      "C:\\Users\\thiag\\miniconda3\\lib\\site-packages\\sklearn\\metrics\\_classification.py:1221: UndefinedMetricWarning: Precision and F-score are ill-defined and being set to 0.0 in samples with no predicted labels. Use `zero_division` parameter to control this behavior.\n",
      "  _warn_prf(average, modifier, msg_start, len(result))\n"
     ]
    },
    {
     "name": "stdout",
     "output_type": "stream",
     "text": [
      "Run: 3\n"
     ]
    },
    {
     "name": "stderr",
     "output_type": "stream",
     "text": [
      "C:\\Users\\thiag\\miniconda3\\lib\\site-packages\\sklearn\\metrics\\_classification.py:1221: UndefinedMetricWarning: Precision and F-score are ill-defined and being set to 0.0 in samples with no predicted labels. Use `zero_division` parameter to control this behavior.\n",
      "  _warn_prf(average, modifier, msg_start, len(result))\n"
     ]
    },
    {
     "name": "stdout",
     "output_type": "stream",
     "text": [
      "Run: 4\n"
     ]
    },
    {
     "name": "stderr",
     "output_type": "stream",
     "text": [
      "C:\\Users\\thiag\\miniconda3\\lib\\site-packages\\sklearn\\metrics\\_classification.py:1221: UndefinedMetricWarning: Precision and F-score are ill-defined and being set to 0.0 in samples with no predicted labels. Use `zero_division` parameter to control this behavior.\n",
      "  _warn_prf(average, modifier, msg_start, len(result))\n"
     ]
    },
    {
     "name": "stdout",
     "output_type": "stream",
     "text": [
      "Run: 5\n"
     ]
    },
    {
     "name": "stderr",
     "output_type": "stream",
     "text": [
      "C:\\Users\\thiag\\miniconda3\\lib\\site-packages\\sklearn\\metrics\\_classification.py:1221: UndefinedMetricWarning: Precision and F-score are ill-defined and being set to 0.0 in labels with no predicted samples. Use `zero_division` parameter to control this behavior.\n",
      "  _warn_prf(average, modifier, msg_start, len(result))\n",
      "C:\\Users\\thiag\\miniconda3\\lib\\site-packages\\sklearn\\metrics\\_classification.py:1221: UndefinedMetricWarning: Precision and F-score are ill-defined and being set to 0.0 in samples with no predicted labels. Use `zero_division` parameter to control this behavior.\n",
      "  _warn_prf(average, modifier, msg_start, len(result))\n"
     ]
    },
    {
     "name": "stdout",
     "output_type": "stream",
     "text": [
      "Run: 6\n"
     ]
    },
    {
     "name": "stderr",
     "output_type": "stream",
     "text": [
      "C:\\Users\\thiag\\miniconda3\\lib\\site-packages\\sklearn\\metrics\\_classification.py:1221: UndefinedMetricWarning: Precision and F-score are ill-defined and being set to 0.0 in labels with no predicted samples. Use `zero_division` parameter to control this behavior.\n",
      "  _warn_prf(average, modifier, msg_start, len(result))\n",
      "C:\\Users\\thiag\\miniconda3\\lib\\site-packages\\sklearn\\metrics\\_classification.py:1221: UndefinedMetricWarning: Precision and F-score are ill-defined and being set to 0.0 in samples with no predicted labels. Use `zero_division` parameter to control this behavior.\n",
      "  _warn_prf(average, modifier, msg_start, len(result))\n"
     ]
    },
    {
     "name": "stdout",
     "output_type": "stream",
     "text": [
      "Run: 7\n"
     ]
    },
    {
     "name": "stderr",
     "output_type": "stream",
     "text": [
      "C:\\Users\\thiag\\miniconda3\\lib\\site-packages\\sklearn\\metrics\\_classification.py:1221: UndefinedMetricWarning: Precision and F-score are ill-defined and being set to 0.0 in labels with no predicted samples. Use `zero_division` parameter to control this behavior.\n",
      "  _warn_prf(average, modifier, msg_start, len(result))\n",
      "C:\\Users\\thiag\\miniconda3\\lib\\site-packages\\sklearn\\metrics\\_classification.py:1221: UndefinedMetricWarning: Precision and F-score are ill-defined and being set to 0.0 in samples with no predicted labels. Use `zero_division` parameter to control this behavior.\n",
      "  _warn_prf(average, modifier, msg_start, len(result))\n"
     ]
    },
    {
     "name": "stdout",
     "output_type": "stream",
     "text": [
      "Run: 8\n"
     ]
    },
    {
     "name": "stderr",
     "output_type": "stream",
     "text": [
      "C:\\Users\\thiag\\miniconda3\\lib\\site-packages\\sklearn\\metrics\\_classification.py:1221: UndefinedMetricWarning: Precision and F-score are ill-defined and being set to 0.0 in labels with no predicted samples. Use `zero_division` parameter to control this behavior.\n",
      "  _warn_prf(average, modifier, msg_start, len(result))\n",
      "C:\\Users\\thiag\\miniconda3\\lib\\site-packages\\sklearn\\metrics\\_classification.py:1221: UndefinedMetricWarning: Precision and F-score are ill-defined and being set to 0.0 in samples with no predicted labels. Use `zero_division` parameter to control this behavior.\n",
      "  _warn_prf(average, modifier, msg_start, len(result))\n"
     ]
    },
    {
     "name": "stdout",
     "output_type": "stream",
     "text": [
      "Run: 9\n",
      "Run: 10\n"
     ]
    },
    {
     "name": "stderr",
     "output_type": "stream",
     "text": [
      "C:\\Users\\thiag\\miniconda3\\lib\\site-packages\\sklearn\\metrics\\_classification.py:1221: UndefinedMetricWarning: Precision and F-score are ill-defined and being set to 0.0 in samples with no predicted labels. Use `zero_division` parameter to control this behavior.\n",
      "  _warn_prf(average, modifier, msg_start, len(result))\n"
     ]
    }
   ],
   "source": [
    "epc          = 1000\n",
    "mse_mlp      = pd.DataFrame(np.zeros(epc))\n",
    "mseval_mlp   = pd.DataFrame(np.zeros(epc))\n",
    "msetest_mlp_ = []\n",
    "ite_mlp      = []\n",
    "cla_report   = []\n",
    "\n",
    "for i in np.arange(1,11,1):\n",
    "    mlp = MLP1HL(Xtrain=Xtrain_wine, ytrain=ytrain_wine, Xval=Xval_wine, yval=yval_wine, Xtest=Xtest_wine, ytest=ytest_wine,\n",
    "                 lr=0.01, epochs=epc, n1=1, precision = 0.00001, alpha=0.01)\n",
    "    mlp.fit()\n",
    "    mse_mlp[np.str(i)] = mlp.mse.reset_index()[0]\n",
    "    mseval_mlp[np.str(i)] = mlp.mseval.reset_index()[0]\n",
    "    msetest_mlp_.append(mlp.msetest.values[0][0])\n",
    "    \n",
    "    ite_mlp.append(mlp.iteration)\n",
    "    \n",
    "    y = pd.DataFrame(mlp.predict(Xtest_wine, act_func='biStep').values,columns=wine.target_names)\n",
    "    y.replace(-1,0,inplace=True)\n",
    "    \n",
    "    cla_report = np.append(cla_report,classification_report(y_true=ytest_wine, y_pred=y))\n",
    "    print('Run: '+np.str(i))\n",
    "    \n",
    "msetest_mlp = pd.DataFrame(msetest_mlp_)\n",
    "mse_mlp.drop(0, axis = 1, inplace = True);\n",
    "mse_mlp.dropna(axis=0, how='all',inplace=True);\n",
    "mseval_mlp.drop(0, axis = 1, inplace = True);\n",
    "mseval_mlp.dropna(axis=0, how='all',inplace=True);"
   ]
  },
  {
   "cell_type": "code",
   "execution_count": 329,
   "id": "eligible-mouth",
   "metadata": {
    "scrolled": false
   },
   "outputs": [
    {
     "name": "stdout",
     "output_type": "stream",
     "text": [
      "RUN: 0-------------------------------------------------------------------------\n",
      "              precision    recall  f1-score   support\n",
      "\n",
      "           0       1.00      1.00      1.00        10\n",
      "           1       0.50      0.20      0.29        10\n",
      "           2       1.00      1.00      1.00         2\n",
      "\n",
      "   micro avg       0.88      0.64      0.74        22\n",
      "   macro avg       0.83      0.73      0.76        22\n",
      "weighted avg       0.77      0.64      0.68        22\n",
      " samples avg       0.59      0.64      0.61        22\n",
      "\n",
      "RUN: 1-------------------------------------------------------------------------\n",
      "              precision    recall  f1-score   support\n",
      "\n",
      "           0       1.00      1.00      1.00        10\n",
      "           1       0.50      0.20      0.29        10\n",
      "           2       1.00      1.00      1.00         2\n",
      "\n",
      "   micro avg       0.88      0.64      0.74        22\n",
      "   macro avg       0.83      0.73      0.76        22\n",
      "weighted avg       0.77      0.64      0.68        22\n",
      " samples avg       0.59      0.64      0.61        22\n",
      "\n",
      "RUN: 2-------------------------------------------------------------------------\n",
      "              precision    recall  f1-score   support\n",
      "\n",
      "           0       1.00      0.90      0.95        10\n",
      "           1       1.00      1.00      1.00        10\n",
      "           2       0.00      0.00      0.00         2\n",
      "\n",
      "   micro avg       1.00      0.86      0.93        22\n",
      "   macro avg       0.67      0.63      0.65        22\n",
      "weighted avg       0.91      0.86      0.89        22\n",
      " samples avg       0.86      0.86      0.86        22\n",
      "\n",
      "RUN: 3-------------------------------------------------------------------------\n",
      "              precision    recall  f1-score   support\n",
      "\n",
      "           0       1.00      1.00      1.00        10\n",
      "           1       0.50      0.20      0.29        10\n",
      "           2       1.00      1.00      1.00         2\n",
      "\n",
      "   micro avg       0.88      0.64      0.74        22\n",
      "   macro avg       0.83      0.73      0.76        22\n",
      "weighted avg       0.77      0.64      0.68        22\n",
      " samples avg       0.59      0.64      0.61        22\n",
      "\n",
      "RUN: 4-------------------------------------------------------------------------\n",
      "              precision    recall  f1-score   support\n",
      "\n",
      "           0       1.00      1.00      1.00        10\n",
      "           1       0.50      0.20      0.29        10\n",
      "           2       1.00      1.00      1.00         2\n",
      "\n",
      "   micro avg       0.88      0.64      0.74        22\n",
      "   macro avg       0.83      0.73      0.76        22\n",
      "weighted avg       0.77      0.64      0.68        22\n",
      " samples avg       0.59      0.64      0.61        22\n",
      "\n",
      "RUN: 5-------------------------------------------------------------------------\n",
      "              precision    recall  f1-score   support\n",
      "\n",
      "           0       1.00      0.90      0.95        10\n",
      "           1       1.00      1.00      1.00        10\n",
      "           2       0.00      0.00      0.00         2\n",
      "\n",
      "   micro avg       1.00      0.86      0.93        22\n",
      "   macro avg       0.67      0.63      0.65        22\n",
      "weighted avg       0.91      0.86      0.89        22\n",
      " samples avg       0.86      0.86      0.86        22\n",
      "\n",
      "RUN: 6-------------------------------------------------------------------------\n",
      "              precision    recall  f1-score   support\n",
      "\n",
      "           0       1.00      0.90      0.95        10\n",
      "           1       1.00      1.00      1.00        10\n",
      "           2       0.00      0.00      0.00         2\n",
      "\n",
      "   micro avg       1.00      0.86      0.93        22\n",
      "   macro avg       0.67      0.63      0.65        22\n",
      "weighted avg       0.91      0.86      0.89        22\n",
      " samples avg       0.86      0.86      0.86        22\n",
      "\n",
      "RUN: 7-------------------------------------------------------------------------\n",
      "              precision    recall  f1-score   support\n",
      "\n",
      "           0       1.00      0.90      0.95        10\n",
      "           1       1.00      1.00      1.00        10\n",
      "           2       0.00      0.00      0.00         2\n",
      "\n",
      "   micro avg       1.00      0.86      0.93        22\n",
      "   macro avg       0.67      0.63      0.65        22\n",
      "weighted avg       0.91      0.86      0.89        22\n",
      " samples avg       0.86      0.86      0.86        22\n",
      "\n",
      "RUN: 8-------------------------------------------------------------------------\n",
      "              precision    recall  f1-score   support\n",
      "\n",
      "           0       1.00      0.90      0.95        10\n",
      "           1       1.00      1.00      1.00        10\n",
      "           2       0.00      0.00      0.00         2\n",
      "\n",
      "   micro avg       1.00      0.86      0.93        22\n",
      "   macro avg       0.67      0.63      0.65        22\n",
      "weighted avg       0.91      0.86      0.89        22\n",
      " samples avg       0.86      0.86      0.86        22\n",
      "\n",
      "RUN: 9-------------------------------------------------------------------------\n",
      "              precision    recall  f1-score   support\n",
      "\n",
      "           0       1.00      1.00      1.00        10\n",
      "           1       0.50      0.20      0.29        10\n",
      "           2       1.00      1.00      1.00         2\n",
      "\n",
      "   micro avg       0.88      0.64      0.74        22\n",
      "   macro avg       0.83      0.73      0.76        22\n",
      "weighted avg       0.77      0.64      0.68        22\n",
      " samples avg       0.59      0.64      0.61        22\n",
      "\n"
     ]
    }
   ],
   "source": [
    "for i in range(10):\n",
    "    print('RUN: '+np.str(i)+'-------------------------------------------------------------------------')\n",
    "    print(cla_report[i])"
   ]
  },
  {
   "cell_type": "code",
   "execution_count": 330,
   "id": "hungry-fusion",
   "metadata": {},
   "outputs": [
    {
     "data": {
      "text/plain": [
       "<matplotlib.legend.Legend at 0x2591e3dfd30>"
      ]
     },
     "execution_count": 330,
     "metadata": {},
     "output_type": "execute_result"
    },
    {
     "data": {
      "image/png": "[encoded data removed]",
      "text/plain": [
       "<Figure size 720x720 with 1 Axes>"
      ]
     },
     "metadata": {
      "needs_background": "light"
     },
     "output_type": "display_data"
    }
   ],
   "source": [
    "plt.figure(figsize = (10,10))\n",
    "for i in range(mse_mlp.shape[1]):\n",
    "    x = np.arange(0,mse_mlp.shape[0],1)\n",
    "    plt.plot(x,mse_mlp.iloc[:,i], label='run: '+np.str(i+1))\n",
    "plt.xlabel('Iterations')\n",
    "plt.ylabel('MSE')\n",
    "plt.legend(loc='best')"
   ]
  },
  {
   "cell_type": "code",
   "execution_count": 331,
   "id": "romantic-conference",
   "metadata": {},
   "outputs": [
    {
     "data": {
      "text/plain": [
       "<matplotlib.legend.Legend at 0x2591e435ca0>"
      ]
     },
     "execution_count": 331,
     "metadata": {},
     "output_type": "execute_result"
    },
    {
     "data": {
      "image/png": "[encoded data removed]",
      "text/plain": [
       "<Figure size 720x720 with 1 Axes>"
      ]
     },
     "metadata": {
      "needs_background": "light"
     },
     "output_type": "display_data"
    }
   ],
   "source": [
    "plt.figure(figsize = (10,10))\n",
    "for i in range(mseval_mlp.shape[1]):\n",
    "    x = np.arange(0,mseval_mlp.shape[0],1)\n",
    "    plt.plot(x,mseval_mlp.iloc[:,i], label='run: '+np.str(i+1))\n",
    "plt.xlabel('Iterations')\n",
    "plt.ylabel('MSE')\n",
    "plt.legend(loc='best')"
   ]
  },
  {
   "cell_type": "code",
   "execution_count": 332,
   "id": "better-employee",
   "metadata": {},
   "outputs": [
    {
     "data": {
      "text/plain": [
       "0.36495854253777"
      ]
     },
     "execution_count": 332,
     "metadata": {},
     "output_type": "execute_result"
    }
   ],
   "source": [
    "msemin   = mseval_mlp.min().min()\n",
    "minval   = mseval_mlp.iloc[:,(mseval_mlp.iloc[(mseval_mlp <= msemin).values] == msemin).values[0]]\n",
    "mintrain = pd.DataFrame(mse_mlp[minval.columns[0]])\n",
    "index = minval[minval.values == msemin].index[0]\n",
    "msemin"
   ]
  },
  {
   "cell_type": "code",
   "execution_count": 333,
   "id": "split-alabama",
   "metadata": {},
   "outputs": [
    {
     "data": {
      "text/plain": [
       "<matplotlib.legend.Legend at 0x2591e66eee0>"
      ]
     },
     "execution_count": 333,
     "metadata": {},
     "output_type": "execute_result"
    },
    {
     "data": {
      "image/png": "[encoded data removed]",
      "text/plain": [
       "<Figure size 720x720 with 1 Axes>"
      ]
     },
     "metadata": {
      "needs_background": "light"
     },
     "output_type": "display_data"
    }
   ],
   "source": [
    "plt.figure(figsize = (10,10))\n",
    "\n",
    "x = np.arange(0,minval.shape[0],1)\n",
    "plt.plot(x,minval, label='Validation')\n",
    "plt.plot(x,mintrain, label='Training')\n",
    "plt.scatter(index,msemin)\n",
    "plt.xlabel('Iterations')\n",
    "plt.ylabel('MSE')\n",
    "plt.title('Run: '+minval.columns[0])\n",
    "plt.legend(('Validation','Training','('+np.str(index)+','+np.str(msemin)+')'),loc='best')"
   ]
  },
  {
   "cell_type": "code",
   "execution_count": 334,
   "id": "decreased-alert",
   "metadata": {},
   "outputs": [
    {
     "data": {
      "text/plain": [
       "Text(0, 0.5, 'MSE')"
      ]
     },
     "execution_count": 334,
     "metadata": {},
     "output_type": "execute_result"
    },
    {
     "data": {
      "image/png": "[encoded data removed]",
      "text/plain": [
       "<Figure size 720x720 with 1 Axes>"
      ]
     },
     "metadata": {
      "needs_background": "light"
     },
     "output_type": "display_data"
    }
   ],
   "source": [
    "plt.figure(figsize = (10,10))\n",
    "sns.boxplot(data=msetest_mlp)\n",
    "plt.xlabel('Iterations')\n",
    "plt.ylabel('MSE')"
   ]
  },
  {
   "cell_type": "markdown",
   "id": "working-filling",
   "metadata": {},
   "source": [
    "###### 3 Neurons"
   ]
  },
  {
   "cell_type": "code",
   "execution_count": 292,
   "id": "annual-judge",
   "metadata": {},
   "outputs": [
    {
     "name": "stdout",
     "output_type": "stream",
     "text": [
      "Run: 1\n",
      "Run: 2\n",
      "Run: 3\n",
      "Run: 4\n",
      "Run: 5\n",
      "Run: 6\n",
      "Run: 7\n",
      "Run: 8\n",
      "Run: 9\n",
      "Run: 10\n"
     ]
    }
   ],
   "source": [
    "epc          = 1000\n",
    "mse_mlp      = pd.DataFrame(np.zeros(epc))\n",
    "mseval_mlp   = pd.DataFrame(np.zeros(epc))\n",
    "msetest_mlp_ = []\n",
    "ite_mlp      = []\n",
    "cla_report   = []\n",
    "\n",
    "for i in np.arange(1,11,1):\n",
    "    mlp = MLP1HL(Xtrain=Xtrain_wine, ytrain=ytrain_wine, Xval=Xval_wine, yval=yval_wine, Xtest=Xtest_wine, ytest=ytest_wine,\n",
    "                 lr=0.05, epochs=epc, n1=3, precision =0.00001, alpha=0.01)\n",
    "    mlp.fit()\n",
    "    mse_mlp[np.str(i)] = mlp.mse.reset_index()[0]\n",
    "    mseval_mlp[np.str(i)] = mlp.mseval.reset_index()[0]\n",
    "    msetest_mlp_.append(mlp.msetest.values[0][0])\n",
    "    \n",
    "    ite_mlp.append(mlp.iteration)\n",
    "    \n",
    "    y = pd.DataFrame(mlp.predict(Xtest_wine, act_func='biStep').values,columns=wine.target_names)\n",
    "    y.replace(-1,0,inplace=True)\n",
    "    \n",
    "    cla_report = np.append(cla_report,classification_report(y_true=ytest_wine, y_pred=y))\n",
    "    print('Run: '+np.str(i))\n",
    "    \n",
    "msetest_mlp = pd.DataFrame(msetest_mlp_)\n",
    "mse_mlp.drop(0, axis = 1, inplace = True);\n",
    "mse_mlp.dropna(axis=0, how='all',inplace=True);\n",
    "mseval_mlp.drop(0, axis = 1, inplace = True);\n",
    "mseval_mlp.dropna(axis=0, how='all',inplace=True);"
   ]
  },
  {
   "cell_type": "code",
   "execution_count": 293,
   "id": "secure-participation",
   "metadata": {
    "scrolled": false
   },
   "outputs": [
    {
     "name": "stdout",
     "output_type": "stream",
     "text": [
      "RUN: 0-------------------------------------------------------------------------\n",
      "              precision    recall  f1-score   support\n",
      "\n",
      "           0       1.00      1.00      1.00        10\n",
      "           1       1.00      1.00      1.00        10\n",
      "           2       1.00      1.00      1.00         2\n",
      "\n",
      "   micro avg       1.00      1.00      1.00        22\n",
      "   macro avg       1.00      1.00      1.00        22\n",
      "weighted avg       1.00      1.00      1.00        22\n",
      " samples avg       1.00      1.00      1.00        22\n",
      "\n",
      "RUN: 1-------------------------------------------------------------------------\n",
      "              precision    recall  f1-score   support\n",
      "\n",
      "           0       1.00      1.00      1.00        10\n",
      "           1       1.00      1.00      1.00        10\n",
      "           2       1.00      1.00      1.00         2\n",
      "\n",
      "   micro avg       1.00      1.00      1.00        22\n",
      "   macro avg       1.00      1.00      1.00        22\n",
      "weighted avg       1.00      1.00      1.00        22\n",
      " samples avg       1.00      1.00      1.00        22\n",
      "\n",
      "RUN: 2-------------------------------------------------------------------------\n",
      "              precision    recall  f1-score   support\n",
      "\n",
      "           0       1.00      1.00      1.00        10\n",
      "           1       1.00      1.00      1.00        10\n",
      "           2       1.00      1.00      1.00         2\n",
      "\n",
      "   micro avg       1.00      1.00      1.00        22\n",
      "   macro avg       1.00      1.00      1.00        22\n",
      "weighted avg       1.00      1.00      1.00        22\n",
      " samples avg       1.00      1.00      1.00        22\n",
      "\n",
      "RUN: 3-------------------------------------------------------------------------\n",
      "              precision    recall  f1-score   support\n",
      "\n",
      "           0       1.00      1.00      1.00        10\n",
      "           1       1.00      1.00      1.00        10\n",
      "           2       1.00      1.00      1.00         2\n",
      "\n",
      "   micro avg       1.00      1.00      1.00        22\n",
      "   macro avg       1.00      1.00      1.00        22\n",
      "weighted avg       1.00      1.00      1.00        22\n",
      " samples avg       1.00      1.00      1.00        22\n",
      "\n",
      "RUN: 4-------------------------------------------------------------------------\n",
      "              precision    recall  f1-score   support\n",
      "\n",
      "           0       1.00      1.00      1.00        10\n",
      "           1       1.00      1.00      1.00        10\n",
      "           2       1.00      1.00      1.00         2\n",
      "\n",
      "   micro avg       1.00      1.00      1.00        22\n",
      "   macro avg       1.00      1.00      1.00        22\n",
      "weighted avg       1.00      1.00      1.00        22\n",
      " samples avg       1.00      1.00      1.00        22\n",
      "\n",
      "RUN: 5-------------------------------------------------------------------------\n",
      "              precision    recall  f1-score   support\n",
      "\n",
      "           0       1.00      1.00      1.00        10\n",
      "           1       1.00      1.00      1.00        10\n",
      "           2       1.00      1.00      1.00         2\n",
      "\n",
      "   micro avg       1.00      1.00      1.00        22\n",
      "   macro avg       1.00      1.00      1.00        22\n",
      "weighted avg       1.00      1.00      1.00        22\n",
      " samples avg       1.00      1.00      1.00        22\n",
      "\n",
      "RUN: 6-------------------------------------------------------------------------\n",
      "              precision    recall  f1-score   support\n",
      "\n",
      "           0       1.00      1.00      1.00        10\n",
      "           1       1.00      1.00      1.00        10\n",
      "           2       1.00      1.00      1.00         2\n",
      "\n",
      "   micro avg       1.00      1.00      1.00        22\n",
      "   macro avg       1.00      1.00      1.00        22\n",
      "weighted avg       1.00      1.00      1.00        22\n",
      " samples avg       1.00      1.00      1.00        22\n",
      "\n",
      "RUN: 7-------------------------------------------------------------------------\n",
      "              precision    recall  f1-score   support\n",
      "\n",
      "           0       1.00      1.00      1.00        10\n",
      "           1       1.00      1.00      1.00        10\n",
      "           2       1.00      1.00      1.00         2\n",
      "\n",
      "   micro avg       1.00      1.00      1.00        22\n",
      "   macro avg       1.00      1.00      1.00        22\n",
      "weighted avg       1.00      1.00      1.00        22\n",
      " samples avg       1.00      1.00      1.00        22\n",
      "\n",
      "RUN: 8-------------------------------------------------------------------------\n",
      "              precision    recall  f1-score   support\n",
      "\n",
      "           0       1.00      1.00      1.00        10\n",
      "           1       1.00      1.00      1.00        10\n",
      "           2       1.00      1.00      1.00         2\n",
      "\n",
      "   micro avg       1.00      1.00      1.00        22\n",
      "   macro avg       1.00      1.00      1.00        22\n",
      "weighted avg       1.00      1.00      1.00        22\n",
      " samples avg       1.00      1.00      1.00        22\n",
      "\n",
      "RUN: 9-------------------------------------------------------------------------\n",
      "              precision    recall  f1-score   support\n",
      "\n",
      "           0       1.00      1.00      1.00        10\n",
      "           1       1.00      1.00      1.00        10\n",
      "           2       1.00      1.00      1.00         2\n",
      "\n",
      "   micro avg       1.00      1.00      1.00        22\n",
      "   macro avg       1.00      1.00      1.00        22\n",
      "weighted avg       1.00      1.00      1.00        22\n",
      " samples avg       1.00      1.00      1.00        22\n",
      "\n"
     ]
    }
   ],
   "source": [
    "for i in range(10):\n",
    "    print('RUN: '+np.str(i)+'-------------------------------------------------------------------------')\n",
    "    print(cla_report[i])"
   ]
  },
  {
   "cell_type": "code",
   "execution_count": 294,
   "id": "serious-gallery",
   "metadata": {},
   "outputs": [
    {
     "data": {
      "text/plain": [
       "<matplotlib.legend.Legend at 0x2591b48a0a0>"
      ]
     },
     "execution_count": 294,
     "metadata": {},
     "output_type": "execute_result"
    },
    {
     "data": {
      "image/png": "[encoded data removed]",
      "text/plain": [
       "<Figure size 720x720 with 1 Axes>"
      ]
     },
     "metadata": {
      "needs_background": "light"
     },
     "output_type": "display_data"
    }
   ],
   "source": [
    "plt.figure(figsize = (10,10))\n",
    "for i in range(mse_mlp.shape[1]):\n",
    "    x = np.arange(0,mse_mlp.shape[0],1)\n",
    "    plt.plot(x,mse_mlp.iloc[:,i], label='run: '+np.str(i+1))\n",
    "plt.xlabel('Iterations')\n",
    "plt.ylabel('MSE')\n",
    "plt.legend(loc='best')"
   ]
  },
  {
   "cell_type": "code",
   "execution_count": 295,
   "id": "pregnant-nancy",
   "metadata": {},
   "outputs": [
    {
     "data": {
      "text/plain": [
       "<matplotlib.legend.Legend at 0x25918ffc100>"
      ]
     },
     "execution_count": 295,
     "metadata": {},
     "output_type": "execute_result"
    },
    {
     "data": {
      "image/png": "[encoded data removed]",
      "text/plain": [
       "<Figure size 720x720 with 1 Axes>"
      ]
     },
     "metadata": {
      "needs_background": "light"
     },
     "output_type": "display_data"
    }
   ],
   "source": [
    "plt.figure(figsize = (10,10))\n",
    "for i in range(mseval_mlp.shape[1]):\n",
    "    x = np.arange(0,mseval_mlp.shape[0],1)\n",
    "    plt.plot(x,mseval_mlp.iloc[:,i], label='run: '+np.str(i+1))\n",
    "plt.xlabel('Iterations')\n",
    "plt.ylabel('MSE')\n",
    "plt.legend(loc='best')"
   ]
  },
  {
   "cell_type": "code",
   "execution_count": 296,
   "id": "periodic-discretion",
   "metadata": {},
   "outputs": [
    {
     "data": {
      "text/plain": [
       "0.0014126471554820952"
      ]
     },
     "execution_count": 296,
     "metadata": {},
     "output_type": "execute_result"
    }
   ],
   "source": [
    "msemin   = mseval_mlp.min().min()\n",
    "minval   = mseval_mlp.iloc[:,(mseval_mlp.iloc[(mseval_mlp <= msemin).values] == msemin).values[0]]\n",
    "mintrain = pd.DataFrame(mse_mlp[minval.columns[0]])\n",
    "index = minval[minval.values == msemin].index[0]\n",
    "msemin"
   ]
  },
  {
   "cell_type": "code",
   "execution_count": 297,
   "id": "peripheral-blanket",
   "metadata": {},
   "outputs": [
    {
     "data": {
      "text/plain": [
       "<matplotlib.legend.Legend at 0x2591bd0f3d0>"
      ]
     },
     "execution_count": 297,
     "metadata": {},
     "output_type": "execute_result"
    },
    {
     "data": {
      "image/png": "[encoded data removed]",
      "text/plain": [
       "<Figure size 720x720 with 1 Axes>"
      ]
     },
     "metadata": {
      "needs_background": "light"
     },
     "output_type": "display_data"
    }
   ],
   "source": [
    "plt.figure(figsize = (10,10))\n",
    "\n",
    "x = np.arange(0,minval.shape[0],1)\n",
    "plt.plot(x,minval, label='Validation')\n",
    "plt.plot(x,mintrain, label='Training')\n",
    "plt.scatter(index,msemin)\n",
    "plt.xlabel('Iterations')\n",
    "plt.ylabel('MSE')\n",
    "plt.title('Run: '+minval.columns[0])\n",
    "plt.legend(('Validation','Training','('+np.str(index)+','+np.str(msemin)+')'),loc='best')"
   ]
  },
  {
   "cell_type": "code",
   "execution_count": 298,
   "id": "finite-stack",
   "metadata": {},
   "outputs": [
    {
     "data": {
      "text/plain": [
       "Text(0, 0.5, 'MSE')"
      ]
     },
     "execution_count": 298,
     "metadata": {},
     "output_type": "execute_result"
    },
    {
     "data": {
      "image/png": "[encoded data removed]",
      "text/plain": [
       "<Figure size 720x720 with 1 Axes>"
      ]
     },
     "metadata": {
      "needs_background": "light"
     },
     "output_type": "display_data"
    }
   ],
   "source": [
    "plt.figure(figsize = (10,10))\n",
    "sns.boxplot(data=msetest_mlp)\n",
    "plt.xlabel('Iterations')\n",
    "plt.ylabel('MSE')"
   ]
  },
  {
   "cell_type": "markdown",
   "id": "experienced-carolina",
   "metadata": {},
   "source": [
    "###### 5 Neurons"
   ]
  },
  {
   "cell_type": "code",
   "execution_count": 306,
   "id": "juvenile-biotechnology",
   "metadata": {},
   "outputs": [
    {
     "name": "stdout",
     "output_type": "stream",
     "text": [
      "Run: 1\n",
      "Run: 2\n",
      "Run: 3\n",
      "Run: 4\n",
      "Run: 5\n",
      "Run: 6\n",
      "Run: 7\n",
      "Run: 8\n",
      "Run: 9\n",
      "Run: 10\n"
     ]
    }
   ],
   "source": [
    "epc          = 1000\n",
    "mse_mlp      = pd.DataFrame(np.zeros(epc))\n",
    "mseval_mlp   = pd.DataFrame(np.zeros(epc))\n",
    "msetest_mlp_ = []\n",
    "ite_mlp      = []\n",
    "cla_report   = []\n",
    "\n",
    "for i in np.arange(1,11,1):\n",
    "    mlp = MLP1HL(Xtrain=Xtrain_wine, ytrain=ytrain_wine, Xval=Xval_wine, yval=yval_wine, Xtest=Xtest_wine, ytest=ytest_wine,\n",
    "                 lr=0.05, epochs=epc, n1=5, precision = 0.00001, alpha=0.01)\n",
    "    mlp.fit()\n",
    "    mse_mlp[np.str(i)] = mlp.mse.reset_index()[0]\n",
    "    mseval_mlp[np.str(i)] = mlp.mseval.reset_index()[0]\n",
    "    msetest_mlp_.append(mlp.msetest.values[0][0])\n",
    "    \n",
    "    ite_mlp.append(mlp.iteration)\n",
    "    \n",
    "    y = pd.DataFrame(mlp.predict(Xtest_wine, act_func='biStep').values,columns=wine.target_names)\n",
    "    y.replace(-1,0,inplace=True)\n",
    "    \n",
    "    cla_report = np.append(cla_report,classification_report(y_true=ytest_wine, y_pred=y))\n",
    "    print('Run: '+np.str(i))\n",
    "    \n",
    "msetest_mlp = pd.DataFrame(msetest_mlp_)\n",
    "mse_mlp.drop(0, axis = 1, inplace = True);\n",
    "mse_mlp.dropna(axis=0, how='all',inplace=True);\n",
    "mseval_mlp.drop(0, axis = 1, inplace = True);\n",
    "mseval_mlp.dropna(axis=0, how='all',inplace=True);"
   ]
  },
  {
   "cell_type": "code",
   "execution_count": 307,
   "id": "interested-teaching",
   "metadata": {
    "scrolled": false
   },
   "outputs": [
    {
     "name": "stdout",
     "output_type": "stream",
     "text": [
      "RUN: 0-------------------------------------------------------------------------\n",
      "              precision    recall  f1-score   support\n",
      "\n",
      "           0       1.00      1.00      1.00        10\n",
      "           1       1.00      1.00      1.00        10\n",
      "           2       1.00      1.00      1.00         2\n",
      "\n",
      "   micro avg       1.00      1.00      1.00        22\n",
      "   macro avg       1.00      1.00      1.00        22\n",
      "weighted avg       1.00      1.00      1.00        22\n",
      " samples avg       1.00      1.00      1.00        22\n",
      "\n",
      "RUN: 1-------------------------------------------------------------------------\n",
      "              precision    recall  f1-score   support\n",
      "\n",
      "           0       1.00      1.00      1.00        10\n",
      "           1       1.00      1.00      1.00        10\n",
      "           2       1.00      1.00      1.00         2\n",
      "\n",
      "   micro avg       1.00      1.00      1.00        22\n",
      "   macro avg       1.00      1.00      1.00        22\n",
      "weighted avg       1.00      1.00      1.00        22\n",
      " samples avg       1.00      1.00      1.00        22\n",
      "\n",
      "RUN: 2-------------------------------------------------------------------------\n",
      "              precision    recall  f1-score   support\n",
      "\n",
      "           0       1.00      1.00      1.00        10\n",
      "           1       1.00      1.00      1.00        10\n",
      "           2       1.00      1.00      1.00         2\n",
      "\n",
      "   micro avg       1.00      1.00      1.00        22\n",
      "   macro avg       1.00      1.00      1.00        22\n",
      "weighted avg       1.00      1.00      1.00        22\n",
      " samples avg       1.00      1.00      1.00        22\n",
      "\n",
      "RUN: 3-------------------------------------------------------------------------\n",
      "              precision    recall  f1-score   support\n",
      "\n",
      "           0       1.00      1.00      1.00        10\n",
      "           1       1.00      1.00      1.00        10\n",
      "           2       1.00      1.00      1.00         2\n",
      "\n",
      "   micro avg       1.00      1.00      1.00        22\n",
      "   macro avg       1.00      1.00      1.00        22\n",
      "weighted avg       1.00      1.00      1.00        22\n",
      " samples avg       1.00      1.00      1.00        22\n",
      "\n",
      "RUN: 4-------------------------------------------------------------------------\n",
      "              precision    recall  f1-score   support\n",
      "\n",
      "           0       1.00      1.00      1.00        10\n",
      "           1       1.00      1.00      1.00        10\n",
      "           2       1.00      1.00      1.00         2\n",
      "\n",
      "   micro avg       1.00      1.00      1.00        22\n",
      "   macro avg       1.00      1.00      1.00        22\n",
      "weighted avg       1.00      1.00      1.00        22\n",
      " samples avg       1.00      1.00      1.00        22\n",
      "\n",
      "RUN: 5-------------------------------------------------------------------------\n",
      "              precision    recall  f1-score   support\n",
      "\n",
      "           0       1.00      1.00      1.00        10\n",
      "           1       1.00      1.00      1.00        10\n",
      "           2       1.00      1.00      1.00         2\n",
      "\n",
      "   micro avg       1.00      1.00      1.00        22\n",
      "   macro avg       1.00      1.00      1.00        22\n",
      "weighted avg       1.00      1.00      1.00        22\n",
      " samples avg       1.00      1.00      1.00        22\n",
      "\n",
      "RUN: 6-------------------------------------------------------------------------\n",
      "              precision    recall  f1-score   support\n",
      "\n",
      "           0       1.00      1.00      1.00        10\n",
      "           1       1.00      1.00      1.00        10\n",
      "           2       1.00      1.00      1.00         2\n",
      "\n",
      "   micro avg       1.00      1.00      1.00        22\n",
      "   macro avg       1.00      1.00      1.00        22\n",
      "weighted avg       1.00      1.00      1.00        22\n",
      " samples avg       1.00      1.00      1.00        22\n",
      "\n",
      "RUN: 7-------------------------------------------------------------------------\n",
      "              precision    recall  f1-score   support\n",
      "\n",
      "           0       1.00      1.00      1.00        10\n",
      "           1       1.00      1.00      1.00        10\n",
      "           2       1.00      1.00      1.00         2\n",
      "\n",
      "   micro avg       1.00      1.00      1.00        22\n",
      "   macro avg       1.00      1.00      1.00        22\n",
      "weighted avg       1.00      1.00      1.00        22\n",
      " samples avg       1.00      1.00      1.00        22\n",
      "\n",
      "RUN: 8-------------------------------------------------------------------------\n",
      "              precision    recall  f1-score   support\n",
      "\n",
      "           0       1.00      1.00      1.00        10\n",
      "           1       1.00      1.00      1.00        10\n",
      "           2       1.00      1.00      1.00         2\n",
      "\n",
      "   micro avg       1.00      1.00      1.00        22\n",
      "   macro avg       1.00      1.00      1.00        22\n",
      "weighted avg       1.00      1.00      1.00        22\n",
      " samples avg       1.00      1.00      1.00        22\n",
      "\n",
      "RUN: 9-------------------------------------------------------------------------\n",
      "              precision    recall  f1-score   support\n",
      "\n",
      "           0       1.00      1.00      1.00        10\n",
      "           1       1.00      1.00      1.00        10\n",
      "           2       1.00      1.00      1.00         2\n",
      "\n",
      "   micro avg       1.00      1.00      1.00        22\n",
      "   macro avg       1.00      1.00      1.00        22\n",
      "weighted avg       1.00      1.00      1.00        22\n",
      " samples avg       1.00      1.00      1.00        22\n",
      "\n"
     ]
    }
   ],
   "source": [
    "for i in range(10):\n",
    "    print('RUN: '+np.str(i)+'-------------------------------------------------------------------------')\n",
    "    print(cla_report[i])"
   ]
  },
  {
   "cell_type": "code",
   "execution_count": 308,
   "id": "regulation-southwest",
   "metadata": {},
   "outputs": [
    {
     "data": {
      "text/plain": [
       "<matplotlib.legend.Legend at 0x2591c09e5e0>"
      ]
     },
     "execution_count": 308,
     "metadata": {},
     "output_type": "execute_result"
    },
    {
     "data": {
      "image/png": "[encoded data removed]",
      "text/plain": [
       "<Figure size 720x720 with 1 Axes>"
      ]
     },
     "metadata": {
      "needs_background": "light"
     },
     "output_type": "display_data"
    }
   ],
   "source": [
    "plt.figure(figsize = (10,10))\n",
    "for i in range(mse_mlp.shape[1]):\n",
    "    x = np.arange(0,mse_mlp.shape[0],1)\n",
    "    plt.plot(x,mse_mlp.iloc[:,i], label='run: '+np.str(i+1))\n",
    "plt.xlabel('Iterations')\n",
    "plt.ylabel('MSE')\n",
    "plt.legend(loc='best')"
   ]
  },
  {
   "cell_type": "code",
   "execution_count": 309,
   "id": "headed-september",
   "metadata": {},
   "outputs": [
    {
     "data": {
      "text/plain": [
       "<matplotlib.legend.Legend at 0x2591c14d220>"
      ]
     },
     "execution_count": 309,
     "metadata": {},
     "output_type": "execute_result"
    },
    {
     "data": {
      "image/png": "[encoded data removed]",
      "text/plain": [
       "<Figure size 720x720 with 1 Axes>"
      ]
     },
     "metadata": {
      "needs_background": "light"
     },
     "output_type": "display_data"
    }
   ],
   "source": [
    "plt.figure(figsize = (10,10))\n",
    "for i in range(mseval_mlp.shape[1]):\n",
    "    x = np.arange(0,mseval_mlp.shape[0],1)\n",
    "    plt.plot(x,mseval_mlp.iloc[:,i], label='run: '+np.str(i+1))\n",
    "plt.xlabel('Iterations')\n",
    "plt.ylabel('MSE')\n",
    "plt.legend(loc='best')"
   ]
  },
  {
   "cell_type": "code",
   "execution_count": 310,
   "id": "interesting-likelihood",
   "metadata": {},
   "outputs": [
    {
     "data": {
      "text/plain": [
       "0.0010697211374590034"
      ]
     },
     "execution_count": 310,
     "metadata": {},
     "output_type": "execute_result"
    }
   ],
   "source": [
    "msemin   = mseval_mlp.min().min()\n",
    "minval   = mseval_mlp.iloc[:,(mseval_mlp.iloc[(mseval_mlp <= msemin).values] == msemin).values[0]]\n",
    "mintrain = pd.DataFrame(mse_mlp[minval.columns[0]])\n",
    "index = minval[minval.values == msemin].index[0]\n",
    "msemin"
   ]
  },
  {
   "cell_type": "code",
   "execution_count": 311,
   "id": "differential-framework",
   "metadata": {},
   "outputs": [
    {
     "data": {
      "text/plain": [
       "<matplotlib.legend.Legend at 0x2591c58c4f0>"
      ]
     },
     "execution_count": 311,
     "metadata": {},
     "output_type": "execute_result"
    },
    {
     "data": {
      "image/png": "[encoded data removed]",
      "text/plain": [
       "<Figure size 720x720 with 1 Axes>"
      ]
     },
     "metadata": {
      "needs_background": "light"
     },
     "output_type": "display_data"
    }
   ],
   "source": [
    "plt.figure(figsize = (10,10))\n",
    "\n",
    "x = np.arange(0,minval.shape[0],1)\n",
    "plt.plot(x,minval, label='Validation')\n",
    "plt.plot(x,mintrain, label='Training')\n",
    "plt.scatter(index,msemin)\n",
    "plt.xlabel('Iterations')\n",
    "plt.ylabel('MSE')\n",
    "plt.title('Run: '+minval.columns[0])\n",
    "plt.legend(('Validation','Training','('+np.str(index)+','+np.str(msemin)+')'),loc='best')"
   ]
  },
  {
   "cell_type": "code",
   "execution_count": 312,
   "id": "dynamic-atlas",
   "metadata": {},
   "outputs": [
    {
     "data": {
      "text/plain": [
       "Text(0, 0.5, 'MSE')"
      ]
     },
     "execution_count": 312,
     "metadata": {},
     "output_type": "execute_result"
    },
    {
     "data": {
      "image/png": "[encoded data removed]",
      "text/plain": [
       "<Figure size 720x720 with 1 Axes>"
      ]
     },
     "metadata": {
      "needs_background": "light"
     },
     "output_type": "display_data"
    }
   ],
   "source": [
    "plt.figure(figsize = (10,10))\n",
    "sns.boxplot(data=msetest_mlp)\n",
    "plt.xlabel('Iterations')\n",
    "plt.ylabel('MSE')"
   ]
  },
  {
   "cell_type": "code",
   "execution_count": null,
   "id": "changing-visitor",
   "metadata": {},
   "outputs": [],
   "source": []
  }
 ],
 "metadata": {
  "kernelspec": {
   "display_name": "Python 3",
   "language": "python",
   "name": "python3"
  },
  "language_info": {
   "codemirror_mode": {
    "name": "ipython",
    "version": 3
   },
   "file_extension": ".py",
   "mimetype": "text/x-python",
   "name": "python",
   "nbconvert_exporter": "python",
   "pygments_lexer": "ipython3",
   "version": "3.8.5"
  }
 },
 "nbformat": 4,
 "nbformat_minor": 5
}
